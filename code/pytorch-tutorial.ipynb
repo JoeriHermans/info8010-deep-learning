{
 "cells": [
  {
   "cell_type": "markdown",
   "metadata": {},
   "source": [
    "# INFO8010 Deep Learning - An introduction to PyTorch\n",
    "*Joeri Hermans*<br>\n",
    "*University of Liège, Belgium*<br>\n",
    "[joeri.hermans@doct.uliege.be](mailto:joeri.hermans@doct.uliege.be)"
   ]
  },
  {
   "cell_type": "code",
   "execution_count": 1,
   "metadata": {},
   "outputs": [
    {
     "name": "stdout",
     "output_type": "stream",
     "text": [
      "Thu Mar 14 19:40:21 CET 2019\r\n"
     ]
    }
   ],
   "source": [
    "!date"
   ]
  },
  {
   "cell_type": "markdown",
   "metadata": {},
   "source": [
    "## Front matter\n",
    "\n",
    "The PyTorch documentation provides a great resource and is significantly more detailed than this lecture. Introductory concepts include:\n",
    "- [Main concepts such as `tensors` and `autograd`](https://pytorch.org/tutorials/beginner/pytorch_with_examples.html).\n",
    "- A 60-minute [crash-course](https://pytorch.org/tutorials/beginner/deep_learning_60min_blitz.html) covering the main usage.\n",
    "- [Loading and processing data](https://pytorch.org/tutorials/beginner/data_loading_tutorial.html).\n",
    "- [Saving and loading models](https://pytorch.org/tutorials/beginner/saving_loading_models.html).\n",
    "- [Syntactic sugar with torch.nn](https://pytorch.org/tutorials/beginner/nn_tutorial.html).\n",
    "- [Transfer learning](https://pytorch.org/tutorials/beginner/transfer_learning_tutorial.html).\n",
    "- [Building a chatbot model](https://pytorch.org/tutorials/beginner/chatbot_tutorial.html).\n",
    "- [Deploying a Seq2Seq model (chatbot) with the Hybrid frontend -> \"compile\" to graph](https://pytorch.org/tutorials/beginner/deploy_seq2seq_hybrid_frontend_tutorial.html).\n",
    "- [Generative Adversarial Networks (DCGAN) using the faces dataset](https://pytorch.org/tutorials/beginner/dcgan_faces_tutorial.html).\n",
    "- [Reinforcement learning (DQN) tutorial](https://pytorch.org/tutorials/intermediate/reinforcement_q_learning.html).\n",
    "- [Writing distributed applications](https://pytorch.org/tutorials/intermediate/dist_tuto.html).\n",
    "- [Distributed training](https://pytorch.org/tutorials/beginner/aws_distributed_training_tutorial.html) (including multi-GPU).\n",
    "- [ONNX](https://pytorch.org/tutorials/advanced/ONNXLive.html) (standard to describe models, useful to transfer between frameworks).\n",
    "- [Using the C++ API](https://pytorch.org/tutorials/advanced/cpp_frontend.html).\n",
    "\n",
    "And many more in PyTorch's [examples](https://github.com/pytorch/examples) GitHub repository. Check it out!"
   ]
  },
  {
   "cell_type": "markdown",
   "metadata": {},
   "source": [
    "## Requirements\n",
    "\n",
    "- [Anaconda](https://www.anaconda.com/distribution/) Python environment (optional, but recommended). Please do not use `Python 2.7`.\n",
    "- [PyTorch](https://pytorch.org/get-started/locally/) according to your system configuration."
   ]
  },
  {
   "cell_type": "markdown",
   "metadata": {},
   "source": [
    "## Let's start"
   ]
  },
  {
   "cell_type": "markdown",
   "metadata": {},
   "source": [
    "Have you ever used **numpy** before?"
   ]
  },
  {
   "cell_type": "code",
   "execution_count": 2,
   "metadata": {},
   "outputs": [],
   "source": [
    "import numpy as np"
   ]
  },
  {
   "cell_type": "markdown",
   "metadata": {},
   "source": [
    "> NumPy’s main object is the homogeneous multidimensional array. It is a table of elements (usually numbers), all of the same type."
   ]
  },
  {
   "cell_type": "code",
   "execution_count": 3,
   "metadata": {},
   "outputs": [
    {
     "data": {
      "text/plain": [
       "array([[-0.28500595,  0.06265874,  1.9988313 ],\n",
       "       [-0.32425434, -0.298021  , -0.44908131],\n",
       "       [-0.79635138,  1.19422444, -0.36167646]])"
      ]
     },
     "execution_count": 3,
     "metadata": {},
     "output_type": "execute_result"
    }
   ],
   "source": [
    "# A 5x5 matrix of samples from Normal(mu=0, sigma=1).\n",
    "m = np.random.randn(3, 3)\n",
    "\n",
    "m"
   ]
  },
  {
   "cell_type": "markdown",
   "metadata": {},
   "source": [
    "In fact, from an conceptual point-of-view, `pytorch` and `numpy` are quite similar."
   ]
  },
  {
   "cell_type": "code",
   "execution_count": 4,
   "metadata": {},
   "outputs": [],
   "source": [
    "import torch"
   ]
  },
  {
   "cell_type": "markdown",
   "metadata": {},
   "source": [
    "> A `tensor` is an n-dimensional array."
   ]
  },
  {
   "cell_type": "code",
   "execution_count": 5,
   "metadata": {},
   "outputs": [
    {
     "data": {
      "text/plain": [
       "tensor([[-0.2850,  0.0627,  1.9988],\n",
       "        [-0.3243, -0.2980, -0.4491],\n",
       "        [-0.7964,  1.1942, -0.3617]])"
      ]
     },
     "execution_count": 5,
     "metadata": {},
     "output_type": "execute_result"
    }
   ],
   "source": [
    "# A 5x5 tensor of samples from Normal(mu=0, sigma=1).\n",
    "#t = torch.randn(3, 3)\n",
    "#t = torch.from_numpy(m)\n",
    "#t = torch.from_numpy(m).float()\n",
    "t = torch.tensor(m, dtype=torch.float32)\n",
    "\n",
    "t"
   ]
  },
  {
   "cell_type": "markdown",
   "metadata": {},
   "source": [
    "Because of the similarities in the API, I personally use `pytorch` instead of `numpy` for computing projects because of the GPU acceleration. \n",
    "\n",
    "Consider the multiplication of the matrix `m`. In `numpy` this is:"
   ]
  },
  {
   "cell_type": "code",
   "execution_count": 6,
   "metadata": {},
   "outputs": [
    {
     "data": {
      "text/plain": [
       "array([[-1.53086103,  2.35052144, -1.32074792],\n",
       "       [ 0.54667554, -0.46780473, -0.35187192],\n",
       "       [ 0.12775397, -0.8377252 , -1.99726607]])"
      ]
     },
     "execution_count": 6,
     "metadata": {},
     "output_type": "execute_result"
    }
   ],
   "source": [
    "np.matmul(m, m)"
   ]
  },
  {
   "cell_type": "markdown",
   "metadata": {},
   "source": [
    "In `pytorch`:"
   ]
  },
  {
   "cell_type": "code",
   "execution_count": 7,
   "metadata": {},
   "outputs": [
    {
     "data": {
      "text/plain": [
       "tensor([[-1.5309,  2.3505, -1.3207],\n",
       "        [ 0.5467, -0.4678, -0.3519],\n",
       "        [ 0.1278, -0.8377, -1.9973]])"
      ]
     },
     "execution_count": 7,
     "metadata": {},
     "output_type": "execute_result"
    }
   ],
   "source": [
    "torch.matmul(t, t)"
   ]
  },
  {
   "cell_type": "markdown",
   "metadata": {},
   "source": [
    "Alternatively, you can apply an operation on the `tensor` itself:"
   ]
  },
  {
   "cell_type": "code",
   "execution_count": 8,
   "metadata": {},
   "outputs": [
    {
     "data": {
      "text/plain": [
       "tensor([[-1.5309,  2.3505, -1.3207],\n",
       "        [ 0.5467, -0.4678, -0.3519],\n",
       "        [ 0.1278, -0.8377, -1.9973]])"
      ]
     },
     "execution_count": 8,
     "metadata": {},
     "output_type": "execute_result"
    }
   ],
   "source": [
    "t.matmul(t)"
   ]
  },
  {
   "cell_type": "markdown",
   "metadata": {},
   "source": [
    "## A simple neural network\n",
    "\n",
    "In this section we will train a simple MLP (multilayered perceptron) with `ReLU` activations. To train the network, we implement gradient descent by hand."
   ]
  },
  {
   "cell_type": "code",
   "execution_count": 9,
   "metadata": {},
   "outputs": [],
   "source": [
    "# To draw a progress bar.\n",
    "from tqdm import tqdm_notebook as tqdm\n",
    "# Plotting functionality\n",
    "import matplotlib.pyplot as plt\n",
    "\n",
    "# Optimization hyperparameters.\n",
    "batch_size = 32\n",
    "learning_rate = 1e-6\n",
    "training_iterations = range(5000)\n",
    "\n",
    "# Configuration of the neural network.\n",
    "num_hidden = 1000\n",
    "num_in = 100\n",
    "num_out = 1"
   ]
  },
  {
   "cell_type": "markdown",
   "metadata": {},
   "source": [
    "### `numpy`"
   ]
  },
  {
   "cell_type": "code",
   "execution_count": 10,
   "metadata": {},
   "outputs": [
    {
     "data": {
      "application/vnd.jupyter.widget-view+json": {
       "model_id": "16e2edca1a704a5ab832e30685ac54c1",
       "version_major": 2,
       "version_minor": 0
      },
      "text/plain": [
       "HBox(children=(IntProgress(value=0, max=5000), HTML(value='')))"
      ]
     },
     "metadata": {},
     "output_type": "display_data"
    },
    {
     "name": "stdout",
     "output_type": "stream",
     "text": [
      "\n"
     ]
    },
    {
     "data": {
      "image/png": "[encoded data removed]",
      "text/plain": [
       "<Figure size 432x288 with 1 Axes>"
      ]
     },
     "metadata": {
      "needs_background": "light"
     },
     "output_type": "display_data"
    }
   ],
   "source": [
    "# Randomly initialize the weights.\n",
    "w_1 = np.random.randn(num_in, num_hidden) # input -> hidden\n",
    "w_2 = np.random.randn(num_hidden, num_out) # hidden -> output\n",
    "\n",
    "losses = []\n",
    "for iteration in tqdm(training_iterations):\n",
    "    # Fetch the input and corresponding output.\n",
    "    inputs = np.random.randn(batch_size, num_in)\n",
    "    targets = np.random.randn(batch_size, num_out)\n",
    "    \n",
    "    # Apply the `forward` computation of the neural network (compute the prediction).\n",
    "    h = np.matmul(inputs, w_1) # You could also do `inputs.dot(w_1)`.\n",
    "    activation = np.maximum(h, 0)\n",
    "    y_predicted = np.matmul(activation, w_2)\n",
    "    \n",
    "    # Compute loss.\n",
    "    diff = y_predicted - targets\n",
    "    loss = np.square(diff).mean()\n",
    "    losses.append(loss)\n",
    "    \n",
    "    # Apply backpropagation.\n",
    "    grad_y_prediction = 2 * diff\n",
    "    grad_w_2 = np.matmul(activation.T, grad_y_prediction)\n",
    "    grad_activation = np.matmul(grad_y_prediction, w_2.T)\n",
    "    grad_h = grad_activation.copy()\n",
    "    grad_h[h < 0] = 0 # Gradient of ReLU is h (except for activations < 0, then it is 0).\n",
    "    grad_w_1 = np.matmul(inputs.T, grad_h)\n",
    "    \n",
    "    # Update the weights.\n",
    "    w_1 -= learning_rate * grad_w_1\n",
    "    w_2 -= learning_rate * grad_w_2\n",
    "    \n",
    "# Show the loss over the training iterations.\n",
    "plt.plot(training_iterations, losses, color=\"black\")\n",
    "plt.minorticks_on()\n",
    "plt.yscale(\"log\")\n",
    "plt.xlabel(\"Iterations\")\n",
    "plt.ylabel(\"Loss\")\n",
    "plt.grid(True, alpha=.2)\n",
    "plt.show()"
   ]
  },
  {
   "cell_type": "markdown",
   "metadata": {},
   "source": [
    "### `pytorch` (no autograd)"
   ]
  },
  {
   "cell_type": "code",
   "execution_count": 11,
   "metadata": {},
   "outputs": [
    {
     "data": {
      "application/vnd.jupyter.widget-view+json": {
       "model_id": "a90e60989dad4966be18d2417a0c5d59",
       "version_major": 2,
       "version_minor": 0
      },
      "text/plain": [
       "HBox(children=(IntProgress(value=0, max=5000), HTML(value='')))"
      ]
     },
     "metadata": {},
     "output_type": "display_data"
    },
    {
     "name": "stdout",
     "output_type": "stream",
     "text": [
      "\n"
     ]
    },
    {
     "data": {
      "image/png": "[encoded data removed]",
      "text/plain": [
       "<Figure size 432x288 with 1 Axes>"
      ]
     },
     "metadata": {
      "needs_background": "light"
     },
     "output_type": "display_data"
    }
   ],
   "source": [
    "# Randomly initialize the weights.\n",
    "w_1 = torch.randn(num_in, num_hidden) # input -> hidden\n",
    "w_2 = torch.randn(num_hidden, num_out) # hidden -> output\n",
    "\n",
    "losses = []\n",
    "for iteration in tqdm(training_iterations):\n",
    "    # Fetch the input and corresponding output.\n",
    "    inputs = torch.randn(batch_size, num_in)\n",
    "    targets = torch.randn(batch_size, num_out)\n",
    "    \n",
    "    # Apply the `forward` computation of the neural network (compute the prediction).\n",
    "    h = torch.matmul(inputs, w_1)\n",
    "    activation = torch.clamp(h, min=0)\n",
    "    y_predicted = torch.matmul(activation, w_2)\n",
    "    \n",
    "    # Compute loss.\n",
    "    diff = y_predicted - targets\n",
    "    loss = torch.pow(diff, 2).mean()\n",
    "    losses.append(loss)\n",
    "    \n",
    "    # Apply backpropagation.\n",
    "    grad_y_prediction = 2 * diff\n",
    "    grad_w_2 = torch.matmul(activation.t(), grad_y_prediction)\n",
    "    grad_activation = torch.matmul(grad_y_prediction, w_2.t())\n",
    "    grad_h = grad_activation.clone()\n",
    "    grad_h[h < 0] = 0 # Gradient of ReLU is h (except for activations < 0, then it is 0).\n",
    "    grad_w_1 = torch.matmul(inputs.t(), grad_h)\n",
    "    \n",
    "    # Update the weights.\n",
    "    w_1 -= learning_rate * grad_w_1\n",
    "    w_2 -= learning_rate * grad_w_2\n",
    "    \n",
    "# Show the loss over the training iterations.\n",
    "plt.plot(training_iterations, losses, color=\"black\")\n",
    "plt.minorticks_on()\n",
    "plt.yscale(\"log\")\n",
    "plt.xlabel(\"Iterations\")\n",
    "plt.ylabel(\"Loss\")\n",
    "plt.grid(True, alpha=.2)\n",
    "plt.show()"
   ]
  },
  {
   "cell_type": "markdown",
   "metadata": {},
   "source": [
    "### `pytorch` (with autograd)"
   ]
  },
  {
   "cell_type": "markdown",
   "metadata": {},
   "source": [
    "Obviously, implementing the backward pass by hand for complex models is kinda tricky (can you imagine doing this in the 90's?), and you will have to rely on a lot of diagnostics to verify your implementation. Luckily, we have [PyTorch's autodifferentiation](https://pytorch.org/docs/stable/autograd.html) to handle this in the background."
   ]
  },
  {
   "cell_type": "code",
   "execution_count": 12,
   "metadata": {},
   "outputs": [
    {
     "data": {
      "application/vnd.jupyter.widget-view+json": {
       "model_id": "4343089389af4ede8d30027b6820f7ac",
       "version_major": 2,
       "version_minor": 0
      },
      "text/plain": [
       "HBox(children=(IntProgress(value=0, max=5000), HTML(value='')))"
      ]
     },
     "metadata": {},
     "output_type": "display_data"
    },
    {
     "name": "stdout",
     "output_type": "stream",
     "text": [
      "\n"
     ]
    },
    {
     "data": {
      "image/png": "[encoded data removed]",
      "text/plain": [
       "<Figure size 432x288 with 1 Axes>"
      ]
     },
     "metadata": {
      "needs_background": "light"
     },
     "output_type": "display_data"
    }
   ],
   "source": [
    "# Randomly initialize the weights.\n",
    "w_1 = torch.randn(num_in, num_hidden) # input -> hidden\n",
    "w_2 = torch.randn(num_hidden, num_out) # hidden -> output\n",
    "\n",
    "# We would like to compute the gradient with respect to the parameters of the model.\n",
    "w_1.requires_grad = True\n",
    "w_2.requires_grad = True\n",
    "\n",
    "losses = []\n",
    "for iteration in tqdm(training_iterations):\n",
    "    # Fetch the input and corresponding output.\n",
    "    inputs = torch.randn(batch_size, num_in)\n",
    "    targets = torch.randn(batch_size, num_out)\n",
    "    \n",
    "    # Apply the `forward` computation of the neural network (compute the prediction).\n",
    "    h = torch.matmul(inputs, w_1)\n",
    "    activation = torch.clamp(h, min=0)\n",
    "    y_predicted = torch.matmul(activation, w_2)\n",
    "    \n",
    "    # Compute loss.\n",
    "    diff = y_predicted - targets\n",
    "    loss = torch.pow(diff, 2).mean()\n",
    "    losses.append(loss)\n",
    "    \n",
    "    # Apply backpropagation.\n",
    "    loss.backward()\n",
    "    \n",
    "    # Update the weights.\n",
    "    with torch.no_grad():\n",
    "        # Update the weights with the derrived gradients.\n",
    "        w_1 -= learning_rate * w_1.grad\n",
    "        w_2 -= learning_rate * w_2.grad\n",
    "        # Reset the accumulation of gradients.\n",
    "        w_1.grad.zero_()\n",
    "        w_2.grad.zero_()\n",
    "    \n",
    "# Show the loss over the training iterations.\n",
    "plt.plot(training_iterations, losses, color=\"black\")\n",
    "plt.minorticks_on()\n",
    "plt.yscale(\"log\")\n",
    "plt.xlabel(\"Iterations\")\n",
    "plt.ylabel(\"Loss\")\n",
    "plt.grid(True, alpha=.2)\n",
    "plt.show()"
   ]
  },
  {
   "cell_type": "markdown",
   "metadata": {},
   "source": [
    "Wait. Why is the `autograd` loss different?"
   ]
  },
  {
   "cell_type": "markdown",
   "metadata": {},
   "source": [
    "**Computer Science 101**: How *should* we compare 2 floating points?"
   ]
  },
  {
   "cell_type": "code",
   "execution_count": 13,
   "metadata": {},
   "outputs": [
    {
     "name": "stdout",
     "output_type": "stream",
     "text": [
      "Whoops\n"
     ]
    }
   ],
   "source": [
    "import random\n",
    "\n",
    "a = random.random()\n",
    "b = a - random.random() * 1e-17\n",
    "\n",
    "if a == b:\n",
    "    print(\"Whoops\")"
   ]
  },
  {
   "cell_type": "markdown",
   "metadata": {},
   "source": [
    "Nevertheless, this can be bypassed by adapting the learning rate to reduce the effect of numerical imprecision. In practice, you will not even notice this because this is a hyperparameter you have to tune anyway."
   ]
  },
  {
   "cell_type": "code",
   "execution_count": 14,
   "metadata": {},
   "outputs": [
    {
     "data": {
      "application/vnd.jupyter.widget-view+json": {
       "model_id": "daef17493f56422ab44d372135057382",
       "version_major": 2,
       "version_minor": 0
      },
      "text/plain": [
       "HBox(children=(IntProgress(value=0, max=5000), HTML(value='')))"
      ]
     },
     "metadata": {},
     "output_type": "display_data"
    },
    {
     "name": "stdout",
     "output_type": "stream",
     "text": [
      "\n"
     ]
    },
    {
     "data": {
      "image/png": "[encoded data removed]",
      "text/plain": [
       "<Figure size 432x288 with 1 Axes>"
      ]
     },
     "metadata": {
      "needs_background": "light"
     },
     "output_type": "display_data"
    }
   ],
   "source": [
    "# Larger learning rate to address numerical imprecision.\n",
    "learning_rate = 4e-5\n",
    "\n",
    "# Randomly initialize the weights.\n",
    "w_1 = torch.randn(num_in, num_hidden) # input -> hidden\n",
    "w_2 = torch.randn(num_hidden, num_out) # hidden -> output\n",
    "\n",
    "# We would like to compute the gradient with respect to the parameters of the model.\n",
    "w_1.requires_grad = True\n",
    "w_2.requires_grad = True\n",
    "\n",
    "losses = []\n",
    "for iteration in tqdm(training_iterations):\n",
    "    # Fetch the input and corresponding output.\n",
    "    inputs = torch.randn(batch_size, num_in)\n",
    "    targets = torch.randn(batch_size, num_out)\n",
    "    \n",
    "    # Apply the `forward` computation of the neural network (compute the prediction).\n",
    "    h = torch.matmul(inputs, w_1)\n",
    "    activation = torch.clamp(h, min=0)\n",
    "    y_predicted = torch.matmul(activation, w_2)\n",
    "    \n",
    "    # Compute loss.\n",
    "    diff = y_predicted - targets\n",
    "    loss = torch.pow(diff, 2).mean()\n",
    "    losses.append(loss)\n",
    "    \n",
    "    # Apply backpropagation.\n",
    "    loss.backward()\n",
    "    \n",
    "    # Update the weights.\n",
    "    with torch.no_grad():\n",
    "        # Update the weights with the derrived gradients.\n",
    "        w_1 -= learning_rate * w_1.grad\n",
    "        w_2 -= learning_rate * w_2.grad\n",
    "        # Reset the accumulation of gradients.\n",
    "        w_1.grad.zero_()\n",
    "        w_2.grad.zero_()\n",
    "    \n",
    "# Show the loss over the training iterations.\n",
    "plt.plot(training_iterations, losses, color=\"black\")\n",
    "plt.minorticks_on()\n",
    "plt.yscale(\"log\")\n",
    "plt.xlabel(\"Iterations\")\n",
    "plt.ylabel(\"Loss\")\n",
    "plt.grid(True, alpha=.2)\n",
    "plt.show()"
   ]
  },
  {
   "cell_type": "markdown",
   "metadata": {},
   "source": [
    "Voila!"
   ]
  },
  {
   "cell_type": "markdown",
   "metadata": {},
   "source": [
    "## `torch.nn` modeling and training with `torch.optim`\n",
    "\n",
    "All modules are instances of `torch.nn.Module`. These modules can be viewed as Lego(tm)-bricks which can be connected with each-other in some specific way. See the [`torch.nn`](https://pytorch.org/docs/stable/nn.html) documentation for more information."
   ]
  },
  {
   "cell_type": "code",
   "execution_count": 15,
   "metadata": {},
   "outputs": [
    {
     "data": {
      "application/vnd.jupyter.widget-view+json": {
       "model_id": "eb09a31b1c854306bd9bafad7d27e896",
       "version_major": 2,
       "version_minor": 0
      },
      "text/plain": [
       "HBox(children=(IntProgress(value=0, max=5000), HTML(value='')))"
      ]
     },
     "metadata": {},
     "output_type": "display_data"
    },
    {
     "name": "stdout",
     "output_type": "stream",
     "text": [
      "\n"
     ]
    },
    {
     "data": {
      "image/png": "[encoded data removed]",
      "text/plain": [
       "<Figure size 432x288 with 1 Axes>"
      ]
     },
     "metadata": {
      "needs_background": "light"
     },
     "output_type": "display_data"
    }
   ],
   "source": [
    "class Classifier(torch.nn.Module):\n",
    "    \n",
    "    def __init__(self, num_hidden):\n",
    "        super(Classifier, self).__init__() # Required\n",
    "        self.m_1 = torch.nn.Linear(100, num_hidden)\n",
    "        self.m_2 = torch.nn.Linear(num_hidden, 10)\n",
    "        self.activation = torch.nn.ReLU()\n",
    "        \n",
    "    def forward(self, inputs):\n",
    "        h_1 = self.m_1(inputs)\n",
    "        a_1 = self.activation(h_1)\n",
    "        h_2 = self.m_2(a_1)\n",
    "        \n",
    "        return h_2\n",
    "\n",
    "# Allocate the classifier.\n",
    "classifier = Classifier(num_hidden=1000)\n",
    "\n",
    "# Allocate the optimizer.\n",
    "optimizer = torch.optim.SGD(classifier.parameters(), lr=0.01)\n",
    "\n",
    "# Pick a loss function.\n",
    "# https://pytorch.org/docs/stable/nn.html#loss-functions\n",
    "criterion = torch.nn.MSELoss(reduction=\"mean\") # By default all losses use a `mean` reduction.\n",
    "\n",
    "# Start the training procedure.\n",
    "losses = []\n",
    "for iteration in tqdm(training_iterations):\n",
    "    # Fetch a batch of inputs and targets.\n",
    "    inputs = torch.randn(batch_size, 100)\n",
    "    targets = torch.randn(batch_size, 10)\n",
    "    # Forward pass.\n",
    "    y_pred = classifier(inputs)\n",
    "    # Compute the loss.\n",
    "    loss = criterion(y_pred, targets)\n",
    "    losses.append(loss.item())\n",
    "    # Backward pass.\n",
    "    optimizer.zero_grad() # Clear gradient accumulation.\n",
    "    loss.backward()\n",
    "    optimizer.step()\n",
    "    \n",
    "# Show the loss over the training iterations.\n",
    "plt.plot(training_iterations, losses, color=\"black\")\n",
    "plt.minorticks_on()\n",
    "plt.xlabel(\"Iterations\")\n",
    "plt.ylabel(\"Loss\")\n",
    "plt.grid(True, alpha=.2)\n",
    "plt.show()"
   ]
  },
  {
   "cell_type": "markdown",
   "metadata": {},
   "source": [
    "Alternatively, you can rely on the `Sequential` API (Keras-like):"
   ]
  },
  {
   "cell_type": "code",
   "execution_count": 16,
   "metadata": {},
   "outputs": [
    {
     "data": {
      "application/vnd.jupyter.widget-view+json": {
       "model_id": "9d802032ee2d4f7688dddec75512929a",
       "version_major": 2,
       "version_minor": 0
      },
      "text/plain": [
       "HBox(children=(IntProgress(value=0, max=5000), HTML(value='')))"
      ]
     },
     "metadata": {},
     "output_type": "display_data"
    },
    {
     "name": "stdout",
     "output_type": "stream",
     "text": [
      "\n"
     ]
    },
    {
     "data": {
      "image/png": "[encoded data removed]",
      "text/plain": [
       "<Figure size 432x288 with 1 Axes>"
      ]
     },
     "metadata": {
      "needs_background": "light"
     },
     "output_type": "display_data"
    }
   ],
   "source": [
    "# Allocate the classifier.\n",
    "classifier = torch.nn.Sequential(\n",
    "    torch.nn.Linear(100, 1000),\n",
    "    torch.nn.ReLU(),\n",
    "    torch.nn.Linear(1000, 1000),\n",
    "    torch.nn.ReLU(),\n",
    "    torch.nn.Linear(1000, 10))\n",
    "\n",
    "# Allocate the optimizer.\n",
    "optimizer = torch.optim.SGD(classifier.parameters(), lr=0.01)\n",
    "\n",
    "# Pick a loss function.\n",
    "# https://pytorch.org/docs/stable/nn.html#loss-functions\n",
    "criterion = torch.nn.MSELoss(reduction=\"mean\") # By default all losses use a `mean` reduction.\n",
    "\n",
    "# Start the training procedure.\n",
    "losses = []\n",
    "for iteration in tqdm(training_iterations):\n",
    "    # Fetch a batch of inputs and targets.\n",
    "    inputs = torch.randn(batch_size, 100)\n",
    "    targets = torch.randn(batch_size, 10)\n",
    "    # Forward pass.\n",
    "    y_pred = classifier(inputs)\n",
    "    # Compute the loss.\n",
    "    loss = criterion(y_pred, targets)\n",
    "    losses.append(loss.item())\n",
    "    # Backward pass.\n",
    "    optimizer.zero_grad() # Clear gradient accumulation.\n",
    "    loss.backward()\n",
    "    optimizer.step()\n",
    "    \n",
    "# Show the loss over the training iterations.\n",
    "plt.plot(training_iterations, losses, color=\"black\")\n",
    "plt.minorticks_on()\n",
    "plt.xlabel(\"Iterations\")\n",
    "plt.ylabel(\"Loss\")\n",
    "plt.grid(True, alpha=.2)\n",
    "plt.show()"
   ]
  },
  {
   "cell_type": "markdown",
   "metadata": {},
   "source": [
    "## Hello MNIST"
   ]
  },
  {
   "cell_type": "markdown",
   "metadata": {},
   "source": [
    "### Data preprocessing and loading"
   ]
  },
  {
   "cell_type": "code",
   "execution_count": 17,
   "metadata": {},
   "outputs": [],
   "source": [
    "# Fetch a batch of inputs and targets.\n",
    "inputs = torch.randn(batch_size, 100)\n",
    "targets = torch.randn(batch_size, 10)"
   ]
  },
  {
   "cell_type": "markdown",
   "metadata": {},
   "source": [
    "`dataset` abstraction."
   ]
  },
  {
   "cell_type": "code",
   "execution_count": 18,
   "metadata": {},
   "outputs": [],
   "source": [
    "import torchvision\n",
    "\n",
    "# Data preprocessing steps (standardization).\n",
    "transformations = torchvision.transforms.Compose([\n",
    "    torchvision.transforms.ToTensor(),\n",
    "    torchvision.transforms.Normalize((0.1307,), (0.3081,))])\n",
    "# Allocate the training dataset (and download it).\n",
    "dataset_train = torchvision.datasets.MNIST(\"data\", train=True, download=True, transform=transformations)\n",
    "# Allocate the validation dataset using the same pre-processing transformations.\n",
    "dataset_validation = torchvision.datasets.MNIST(\"data\", train=False, download=True, transform=transformations)"
   ]
  },
  {
   "cell_type": "code",
   "execution_count": 19,
   "metadata": {},
   "outputs": [
    {
     "data": {
      "image/png": "[encoded data removed]",
      "text/plain": [
       "<Figure size 432x288 with 1 Axes>"
      ]
     },
     "metadata": {
      "needs_background": "light"
     },
     "output_type": "display_data"
    },
    {
     "name": "stdout",
     "output_type": "stream",
     "text": [
      "The number depicted in the image is a 5\n"
     ]
    }
   ],
   "source": [
    "image, label = dataset_train[0]\n",
    "\n",
    "# Show the first image in the dataset.\n",
    "plt.imshow(image.view(28, 28), cmap=\"gist_gray\")\n",
    "plt.show()\n",
    "\n",
    "print(\"The number depicted in the image is a\", label.item())"
   ]
  },
  {
   "cell_type": "markdown",
   "metadata": {},
   "source": [
    "### Model development\n",
    "\n",
    "The code below is a bit more complex than it should be, but it is intended to show how you could combine `torch.nn` modules."
   ]
  },
  {
   "cell_type": "code",
   "execution_count": 20,
   "metadata": {},
   "outputs": [],
   "source": [
    "class ConvolutionalLegoPiece(torch.nn.Module):\n",
    "    \n",
    "    def __init__(self):\n",
    "        super(ConvolutionalLegoPiece, self).__init__()\n",
    "        self.piece = torch.nn.Sequential(\n",
    "            # First block.\n",
    "            torch.nn.Conv2d(in_channels=1, out_channels=20, kernel_size=5, stride=1),\n",
    "            torch.nn.ReLU(),\n",
    "            torch.nn.MaxPool2d(kernel_size=2), # Stride is set to `kernel_size` by default.\n",
    "            # Second block.\n",
    "            torch.nn.Conv2d(in_channels=20, out_channels=50, kernel_size=5, stride=1),\n",
    "            torch.nn.ReLU(),\n",
    "            torch.nn.MaxPool2d(kernel_size=2))\n",
    "        \n",
    "    def forward(self, images):\n",
    "        latents = self.piece(images)\n",
    "        \n",
    "        return latents"
   ]
  },
  {
   "cell_type": "code",
   "execution_count": 21,
   "metadata": {},
   "outputs": [],
   "source": [
    "class FullyConnectedLegoPiece(torch.nn.Module):\n",
    "    \n",
    "    def __init__(self, latent_dimensionality=4 * 4 * 50, num_hidden=1000, num_classes=10):\n",
    "        super(FullyConnectedLegoPiece, self).__init__()\n",
    "        self.z_dim = latent_dimensionality\n",
    "        self.piece = torch.nn.Sequential(\n",
    "            torch.nn.Linear(self.z_dim, num_hidden),\n",
    "            torch.nn.ReLU(),\n",
    "            torch.nn.Linear(num_hidden, num_hidden),\n",
    "            torch.nn.ReLU(),\n",
    "            torch.nn.Linear(num_hidden, num_hidden),\n",
    "            torch.nn.ReLU(),\n",
    "            torch.nn.Linear(num_hidden, num_classes),\n",
    "            torch.nn.LogSoftmax(dim=1))\n",
    "        \n",
    "    def forward(self, latents):\n",
    "        latents = latents.view(-1, self.z_dim)\n",
    "        return self.piece(latents)"
   ]
  },
  {
   "cell_type": "markdown",
   "metadata": {},
   "source": [
    "### Training and testing"
   ]
  },
  {
   "cell_type": "code",
   "execution_count": 22,
   "metadata": {},
   "outputs": [],
   "source": [
    "def train(model, optimizer, dataset, batch_size=256, workers=4):\n",
    "    model.train() # Ensure all modules are in `training` mode.\n",
    "    data_loader = torch.utils.data.DataLoader(dataset, shuffle=True, batch_size=batch_size, num_workers=workers)\n",
    "    data_loader = iter(data_loader)\n",
    "    criterion = torch.nn.NLLLoss()\n",
    "    iterations = range(len(dataset) // batch_size)\n",
    "    for batch_index in tqdm(iterations):\n",
    "        inputs, targets = next(data_loader)\n",
    "        prediction = model(inputs)\n",
    "        loss = criterion(prediction, targets)\n",
    "        optimizer.zero_grad()\n",
    "        loss.backward()\n",
    "        optimizer.step()\n",
    "        \n",
    "def validate(model, dataset, batch_size=256, workers=4):\n",
    "    model.eval()\n",
    "    data_loader = torch.utils.data.DataLoader(dataset, shuffle=True, batch_size=batch_size, num_workers=workers)\n",
    "    total_loss = 0\n",
    "    criterion = torch.nn.NLLLoss(reduction=\"sum\")\n",
    "    with torch.no_grad():\n",
    "        for inputs, targets in data_loader:\n",
    "            outputs = model(inputs)\n",
    "            loss = criterion(outputs, targets).item()\n",
    "            total_loss += loss\n",
    "    total_loss / len(dataset)\n",
    "    \n",
    "    return total_loss"
   ]
  },
  {
   "cell_type": "code",
   "execution_count": 23,
   "metadata": {},
   "outputs": [
    {
     "data": {
      "application/vnd.jupyter.widget-view+json": {
       "model_id": "5e3bc313845d48c1b566bf330a83e53d",
       "version_major": 2,
       "version_minor": 0
      },
      "text/plain": [
       "HBox(children=(IntProgress(value=0, max=15), HTML(value='')))"
      ]
     },
     "metadata": {},
     "output_type": "display_data"
    },
    {
     "data": {
      "application/vnd.jupyter.widget-view+json": {
       "model_id": "c277ed20d96c47a2867a23b02e7b7106",
       "version_major": 2,
       "version_minor": 0
      },
      "text/plain": [
       "HBox(children=(IntProgress(value=0, max=234), HTML(value='')))"
      ]
     },
     "metadata": {},
     "output_type": "display_data"
    },
    {
     "data": {
      "application/vnd.jupyter.widget-view+json": {
       "model_id": "8f866571d2224501a9b64098b0332414",
       "version_major": 2,
       "version_minor": 0
      },
      "text/plain": [
       "HBox(children=(IntProgress(value=0, max=234), HTML(value='')))"
      ]
     },
     "metadata": {},
     "output_type": "display_data"
    },
    {
     "data": {
      "application/vnd.jupyter.widget-view+json": {
       "model_id": "156e2539962b43aab40c8acb85f4eddf",
       "version_major": 2,
       "version_minor": 0
      },
      "text/plain": [
       "HBox(children=(IntProgress(value=0, max=234), HTML(value='')))"
      ]
     },
     "metadata": {},
     "output_type": "display_data"
    },
    {
     "data": {
      "application/vnd.jupyter.widget-view+json": {
       "model_id": "224e9e53c35248edb6825844c793ca27",
       "version_major": 2,
       "version_minor": 0
      },
      "text/plain": [
       "HBox(children=(IntProgress(value=0, max=234), HTML(value='')))"
      ]
     },
     "metadata": {},
     "output_type": "display_data"
    },
    {
     "data": {
      "application/vnd.jupyter.widget-view+json": {
       "model_id": "ba58f412c071458497fc8c6e9948933f",
       "version_major": 2,
       "version_minor": 0
      },
      "text/plain": [
       "HBox(children=(IntProgress(value=0, max=234), HTML(value='')))"
      ]
     },
     "metadata": {},
     "output_type": "display_data"
    },
    {
     "data": {
      "application/vnd.jupyter.widget-view+json": {
       "model_id": "e6ca13c0e55d41b490caac0e86aeee32",
       "version_major": 2,
       "version_minor": 0
      },
      "text/plain": [
       "HBox(children=(IntProgress(value=0, max=234), HTML(value='')))"
      ]
     },
     "metadata": {},
     "output_type": "display_data"
    },
    {
     "data": {
      "application/vnd.jupyter.widget-view+json": {
       "model_id": "1e559ba5267843afb285a8278a727be5",
       "version_major": 2,
       "version_minor": 0
      },
      "text/plain": [
       "HBox(children=(IntProgress(value=0, max=234), HTML(value='')))"
      ]
     },
     "metadata": {},
     "output_type": "display_data"
    },
    {
     "data": {
      "application/vnd.jupyter.widget-view+json": {
       "model_id": "0c1d9251a2da41569e743dbf2a913c48",
       "version_major": 2,
       "version_minor": 0
      },
      "text/plain": [
       "HBox(children=(IntProgress(value=0, max=234), HTML(value='')))"
      ]
     },
     "metadata": {},
     "output_type": "display_data"
    },
    {
     "data": {
      "application/vnd.jupyter.widget-view+json": {
       "model_id": "95a5bbeb470b4253b0ad9450c4d86d6e",
       "version_major": 2,
       "version_minor": 0
      },
      "text/plain": [
       "HBox(children=(IntProgress(value=0, max=234), HTML(value='')))"
      ]
     },
     "metadata": {},
     "output_type": "display_data"
    },
    {
     "data": {
      "application/vnd.jupyter.widget-view+json": {
       "model_id": "2224e1db0bdd49a0b39030fd5ff77e7d",
       "version_major": 2,
       "version_minor": 0
      },
      "text/plain": [
       "HBox(children=(IntProgress(value=0, max=234), HTML(value='')))"
      ]
     },
     "metadata": {},
     "output_type": "display_data"
    },
    {
     "data": {
      "application/vnd.jupyter.widget-view+json": {
       "model_id": "86fad14ff54c47e0bb24b9adee6419fa",
       "version_major": 2,
       "version_minor": 0
      },
      "text/plain": [
       "HBox(children=(IntProgress(value=0, max=234), HTML(value='')))"
      ]
     },
     "metadata": {},
     "output_type": "display_data"
    },
    {
     "data": {
      "application/vnd.jupyter.widget-view+json": {
       "model_id": "ad968a3f227f4bcf83804df9ab8916f6",
       "version_major": 2,
       "version_minor": 0
      },
      "text/plain": [
       "HBox(children=(IntProgress(value=0, max=234), HTML(value='')))"
      ]
     },
     "metadata": {},
     "output_type": "display_data"
    },
    {
     "data": {
      "application/vnd.jupyter.widget-view+json": {
       "model_id": "8e210b8d56e54274852090ad6eac030c",
       "version_major": 2,
       "version_minor": 0
      },
      "text/plain": [
       "HBox(children=(IntProgress(value=0, max=234), HTML(value='')))"
      ]
     },
     "metadata": {},
     "output_type": "display_data"
    },
    {
     "data": {
      "application/vnd.jupyter.widget-view+json": {
       "model_id": "054e7cf124c54c14bb08c3745ad490b7",
       "version_major": 2,
       "version_minor": 0
      },
      "text/plain": [
       "HBox(children=(IntProgress(value=0, max=234), HTML(value='')))"
      ]
     },
     "metadata": {},
     "output_type": "display_data"
    },
    {
     "data": {
      "application/vnd.jupyter.widget-view+json": {
       "model_id": "c686a5baba684237b6edff180d740815",
       "version_major": 2,
       "version_minor": 0
      },
      "text/plain": [
       "HBox(children=(IntProgress(value=0, max=234), HTML(value='')))"
      ]
     },
     "metadata": {},
     "output_type": "display_data"
    },
    {
     "name": "stdout",
     "output_type": "stream",
     "text": [
      "\n"
     ]
    },
    {
     "data": {
      "image/png": "[encoded data removed]",
      "text/plain": [
       "<Figure size 432x288 with 1 Axes>"
      ]
     },
     "metadata": {
      "needs_background": "light"
     },
     "output_type": "display_data"
    }
   ],
   "source": [
    "# Allocate the classifier.\n",
    "classifier = torch.nn.Sequential(\n",
    "    ConvolutionalLegoPiece(),\n",
    "    FullyConnectedLegoPiece(num_hidden=1000, num_classes=10))\n",
    "# Allocate the optimizer.\n",
    "optimizer = torch.optim.Adam(classifier.parameters())\n",
    "\n",
    "num_epochs = 15\n",
    "validation_losses = []\n",
    "for epoch in tqdm(range(num_epochs)):\n",
    "    train(classifier, optimizer, dataset_train)\n",
    "    validation_loss = validate(classifier, dataset_validation)\n",
    "    validation_losses.append(validation_loss)\n",
    "    \n",
    "# Plot the validation loss.\n",
    "plt.plot(np.arange(len(validation_losses)), validation_losses, color=\"black\")\n",
    "plt.minorticks_on()\n",
    "plt.xlabel(\"Epochs\")\n",
    "plt.ylabel(\"Validation loss\")\n",
    "plt.show()"
   ]
  },
  {
   "cell_type": "code",
   "execution_count": 24,
   "metadata": {},
   "outputs": [
    {
     "data": {
      "image/png": "[encoded data removed]",
      "text/plain": [
       "<Figure size 432x288 with 1 Axes>"
      ]
     },
     "metadata": {
      "needs_background": "light"
     },
     "output_type": "display_data"
    },
    {
     "name": "stdout",
     "output_type": "stream",
     "text": [
      "Predicted digit: 4\n"
     ]
    }
   ],
   "source": [
    "# Show the input\n",
    "data_index = 32341\n",
    "inputs = dataset_train[data_index][0].view(1, 1, 28, 28)\n",
    "plt.imshow(inputs.view(28, 28).numpy(), cmap=\"gist_gray\")\n",
    "plt.show()\n",
    "\n",
    "print(\"Predicted digit:\", classifier(inputs).exp().max(1)[1].item())"
   ]
  },
  {
   "cell_type": "markdown",
   "metadata": {},
   "source": [
    "### GPU acceleration"
   ]
  },
  {
   "cell_type": "markdown",
   "metadata": {},
   "source": []
  },
  {
   "cell_type": "code",
   "execution_count": 25,
   "metadata": {},
   "outputs": [],
   "source": [
    "# Check if a CUDA-enabled GPU is available.\n",
    "if torch.cuda.is_available():\n",
    "    device = torch.device(0)\n",
    "else:\n",
    "    device = \"cpu\""
   ]
  },
  {
   "cell_type": "code",
   "execution_count": 26,
   "metadata": {},
   "outputs": [],
   "source": [
    "def train(model, optimizer, dataset, batch_size=256, workers=4):\n",
    "    model.train() # Ensure all modules are in `training` mode.\n",
    "    data_loader = torch.utils.data.DataLoader(dataset, shuffle=True, batch_size=batch_size, num_workers=workers, pin_memory=True)\n",
    "    data_loader = iter(data_loader)\n",
    "    # Compute the loss in the GPU.\n",
    "    criterion = torch.nn.NLLLoss().to(device)\n",
    "    iterations = range(len(dataset) // batch_size)\n",
    "    for batch_index in tqdm(iterations):\n",
    "        inputs, targets = next(data_loader)\n",
    "        # Transfer to the GPU.\n",
    "        inputs = inputs.to(device)\n",
    "        targets = targets.to(device)\n",
    "        prediction = model(inputs)\n",
    "        loss = criterion(prediction, targets)\n",
    "        optimizer.zero_grad()\n",
    "        loss.backward()\n",
    "        optimizer.step()\n",
    "        \n",
    "def validate(model, dataset):\n",
    "    model.eval() # Set the model in 'evaluation' model.\n",
    "    data_loader = torch.utils.data.DataLoader(dataset, shuffle=True, batch_size=32, num_workers=4, pin_memory=True)\n",
    "    total_loss = 0\n",
    "    criterion = torch.nn.NLLLoss(reduction=\"sum\").to(device)\n",
    "    with torch.no_grad():\n",
    "        for inputs, targets in data_loader:\n",
    "            inputs = inputs.to(device)\n",
    "            targets = targets.to(device)\n",
    "            outputs = model(inputs)\n",
    "            loss = criterion(outputs, targets).item()\n",
    "            total_loss += loss\n",
    "    \n",
    "    return total_loss"
   ]
  },
  {
   "cell_type": "markdown",
   "metadata": {},
   "source": [
    "Also check: [disadvantages of `pin_memory`](https://discuss.pytorch.org/t/what-is-the-disadvantage-of-using-pin-memory/1702/8)."
   ]
  },
  {
   "cell_type": "code",
   "execution_count": 27,
   "metadata": {},
   "outputs": [
    {
     "data": {
      "application/vnd.jupyter.widget-view+json": {
       "model_id": "f2cc3aff7be846369acd412d24b5fe0c",
       "version_major": 2,
       "version_minor": 0
      },
      "text/plain": [
       "HBox(children=(IntProgress(value=0, max=30), HTML(value='')))"
      ]
     },
     "metadata": {},
     "output_type": "display_data"
    },
    {
     "data": {
      "application/vnd.jupyter.widget-view+json": {
       "model_id": "3b563914bf6148b38e7519553d7b0c85",
       "version_major": 2,
       "version_minor": 0
      },
      "text/plain": [
       "HBox(children=(IntProgress(value=0, max=234), HTML(value='')))"
      ]
     },
     "metadata": {},
     "output_type": "display_data"
    },
    {
     "data": {
      "application/vnd.jupyter.widget-view+json": {
       "model_id": "aaaf3a3ad9704b7984c817193f3708b8",
       "version_major": 2,
       "version_minor": 0
      },
      "text/plain": [
       "HBox(children=(IntProgress(value=0, max=234), HTML(value='')))"
      ]
     },
     "metadata": {},
     "output_type": "display_data"
    },
    {
     "data": {
      "application/vnd.jupyter.widget-view+json": {
       "model_id": "c084fec3e0524be897384883349789c0",
       "version_major": 2,
       "version_minor": 0
      },
      "text/plain": [
       "HBox(children=(IntProgress(value=0, max=234), HTML(value='')))"
      ]
     },
     "metadata": {},
     "output_type": "display_data"
    },
    {
     "data": {
      "application/vnd.jupyter.widget-view+json": {
       "model_id": "9085a3ab8fec4395865c027a2186b228",
       "version_major": 2,
       "version_minor": 0
      },
      "text/plain": [
       "HBox(children=(IntProgress(value=0, max=234), HTML(value='')))"
      ]
     },
     "metadata": {},
     "output_type": "display_data"
    },
    {
     "data": {
      "application/vnd.jupyter.widget-view+json": {
       "model_id": "0442fca114fb4df7ac5aba441103d83d",
       "version_major": 2,
       "version_minor": 0
      },
      "text/plain": [
       "HBox(children=(IntProgress(value=0, max=234), HTML(value='')))"
      ]
     },
     "metadata": {},
     "output_type": "display_data"
    },
    {
     "data": {
      "application/vnd.jupyter.widget-view+json": {
       "model_id": "15b4fe13dc5a47219670eadf69a38299",
       "version_major": 2,
       "version_minor": 0
      },
      "text/plain": [
       "HBox(children=(IntProgress(value=0, max=234), HTML(value='')))"
      ]
     },
     "metadata": {},
     "output_type": "display_data"
    },
    {
     "data": {
      "application/vnd.jupyter.widget-view+json": {
       "model_id": "e14b0028c5c543b5ba3b12dd4ef8b13d",
       "version_major": 2,
       "version_minor": 0
      },
      "text/plain": [
       "HBox(children=(IntProgress(value=0, max=234), HTML(value='')))"
      ]
     },
     "metadata": {},
     "output_type": "display_data"
    },
    {
     "data": {
      "application/vnd.jupyter.widget-view+json": {
       "model_id": "6c840be9f56c4c8c815e88b3840145ff",
       "version_major": 2,
       "version_minor": 0
      },
      "text/plain": [
       "HBox(children=(IntProgress(value=0, max=234), HTML(value='')))"
      ]
     },
     "metadata": {},
     "output_type": "display_data"
    },
    {
     "data": {
      "application/vnd.jupyter.widget-view+json": {
       "model_id": "2f2a31ec5ecf4cb587bb78f8b37f1165",
       "version_major": 2,
       "version_minor": 0
      },
      "text/plain": [
       "HBox(children=(IntProgress(value=0, max=234), HTML(value='')))"
      ]
     },
     "metadata": {},
     "output_type": "display_data"
    },
    {
     "data": {
      "application/vnd.jupyter.widget-view+json": {
       "model_id": "4cb036497c8a4245963cec1aa69428ab",
       "version_major": 2,
       "version_minor": 0
      },
      "text/plain": [
       "HBox(children=(IntProgress(value=0, max=234), HTML(value='')))"
      ]
     },
     "metadata": {},
     "output_type": "display_data"
    },
    {
     "data": {
      "application/vnd.jupyter.widget-view+json": {
       "model_id": "58cd22fd78f64da1958b07c3f71fa00a",
       "version_major": 2,
       "version_minor": 0
      },
      "text/plain": [
       "HBox(children=(IntProgress(value=0, max=234), HTML(value='')))"
      ]
     },
     "metadata": {},
     "output_type": "display_data"
    },
    {
     "data": {
      "application/vnd.jupyter.widget-view+json": {
       "model_id": "b6e00495dda54715a8a67c9209e2d8fb",
       "version_major": 2,
       "version_minor": 0
      },
      "text/plain": [
       "HBox(children=(IntProgress(value=0, max=234), HTML(value='')))"
      ]
     },
     "metadata": {},
     "output_type": "display_data"
    },
    {
     "data": {
      "application/vnd.jupyter.widget-view+json": {
       "model_id": "c3bf7de9e4834270bce2c7a9837ee7ed",
       "version_major": 2,
       "version_minor": 0
      },
      "text/plain": [
       "HBox(children=(IntProgress(value=0, max=234), HTML(value='')))"
      ]
     },
     "metadata": {},
     "output_type": "display_data"
    },
    {
     "data": {
      "application/vnd.jupyter.widget-view+json": {
       "model_id": "515ab72c3f764cfeb6224bbc24686119",
       "version_major": 2,
       "version_minor": 0
      },
      "text/plain": [
       "HBox(children=(IntProgress(value=0, max=234), HTML(value='')))"
      ]
     },
     "metadata": {},
     "output_type": "display_data"
    },
    {
     "data": {
      "application/vnd.jupyter.widget-view+json": {
       "model_id": "a9d5607208f24a5f8697f1b4ebe37978",
       "version_major": 2,
       "version_minor": 0
      },
      "text/plain": [
       "HBox(children=(IntProgress(value=0, max=234), HTML(value='')))"
      ]
     },
     "metadata": {},
     "output_type": "display_data"
    },
    {
     "data": {
      "application/vnd.jupyter.widget-view+json": {
       "model_id": "7fb66b735d4f42e2a9f46b156248f7da",
       "version_major": 2,
       "version_minor": 0
      },
      "text/plain": [
       "HBox(children=(IntProgress(value=0, max=234), HTML(value='')))"
      ]
     },
     "metadata": {},
     "output_type": "display_data"
    },
    {
     "data": {
      "application/vnd.jupyter.widget-view+json": {
       "model_id": "2b9cf6bb8af94f69b14be0aafbfe460e",
       "version_major": 2,
       "version_minor": 0
      },
      "text/plain": [
       "HBox(children=(IntProgress(value=0, max=234), HTML(value='')))"
      ]
     },
     "metadata": {},
     "output_type": "display_data"
    },
    {
     "data": {
      "application/vnd.jupyter.widget-view+json": {
       "model_id": "dbae6159c28247708687bc43e703293b",
       "version_major": 2,
       "version_minor": 0
      },
      "text/plain": [
       "HBox(children=(IntProgress(value=0, max=234), HTML(value='')))"
      ]
     },
     "metadata": {},
     "output_type": "display_data"
    },
    {
     "data": {
      "application/vnd.jupyter.widget-view+json": {
       "model_id": "6b5f9dafea684463af0481b17be31ea3",
       "version_major": 2,
       "version_minor": 0
      },
      "text/plain": [
       "HBox(children=(IntProgress(value=0, max=234), HTML(value='')))"
      ]
     },
     "metadata": {},
     "output_type": "display_data"
    },
    {
     "data": {
      "application/vnd.jupyter.widget-view+json": {
       "model_id": "85c08a37982944e48b6e66aa3e35c98e",
       "version_major": 2,
       "version_minor": 0
      },
      "text/plain": [
       "HBox(children=(IntProgress(value=0, max=234), HTML(value='')))"
      ]
     },
     "metadata": {},
     "output_type": "display_data"
    },
    {
     "data": {
      "application/vnd.jupyter.widget-view+json": {
       "model_id": "294b33b5dca3494fa0b295e83701d187",
       "version_major": 2,
       "version_minor": 0
      },
      "text/plain": [
       "HBox(children=(IntProgress(value=0, max=234), HTML(value='')))"
      ]
     },
     "metadata": {},
     "output_type": "display_data"
    },
    {
     "data": {
      "application/vnd.jupyter.widget-view+json": {
       "model_id": "05c308acf8fb4e14bf8277995b1fe16f",
       "version_major": 2,
       "version_minor": 0
      },
      "text/plain": [
       "HBox(children=(IntProgress(value=0, max=234), HTML(value='')))"
      ]
     },
     "metadata": {},
     "output_type": "display_data"
    },
    {
     "data": {
      "application/vnd.jupyter.widget-view+json": {
       "model_id": "7e378a4c8d204fc5b6dba9c55852e89c",
       "version_major": 2,
       "version_minor": 0
      },
      "text/plain": [
       "HBox(children=(IntProgress(value=0, max=234), HTML(value='')))"
      ]
     },
     "metadata": {},
     "output_type": "display_data"
    },
    {
     "data": {
      "application/vnd.jupyter.widget-view+json": {
       "model_id": "81d4132038ce4540add606b5108391df",
       "version_major": 2,
       "version_minor": 0
      },
      "text/plain": [
       "HBox(children=(IntProgress(value=0, max=234), HTML(value='')))"
      ]
     },
     "metadata": {},
     "output_type": "display_data"
    },
    {
     "data": {
      "application/vnd.jupyter.widget-view+json": {
       "model_id": "9d1bf9f033be483db2056bab017ad400",
       "version_major": 2,
       "version_minor": 0
      },
      "text/plain": [
       "HBox(children=(IntProgress(value=0, max=234), HTML(value='')))"
      ]
     },
     "metadata": {},
     "output_type": "display_data"
    },
    {
     "data": {
      "application/vnd.jupyter.widget-view+json": {
       "model_id": "0a49183858f140b3bb039c6ae7d4a7e3",
       "version_major": 2,
       "version_minor": 0
      },
      "text/plain": [
       "HBox(children=(IntProgress(value=0, max=234), HTML(value='')))"
      ]
     },
     "metadata": {},
     "output_type": "display_data"
    },
    {
     "data": {
      "application/vnd.jupyter.widget-view+json": {
       "model_id": "a7e5dc38569a40b387e764574e3cbcd7",
       "version_major": 2,
       "version_minor": 0
      },
      "text/plain": [
       "HBox(children=(IntProgress(value=0, max=234), HTML(value='')))"
      ]
     },
     "metadata": {},
     "output_type": "display_data"
    },
    {
     "data": {
      "application/vnd.jupyter.widget-view+json": {
       "model_id": "93b58f0a8af8468b9faebced3f7c8c52",
       "version_major": 2,
       "version_minor": 0
      },
      "text/plain": [
       "HBox(children=(IntProgress(value=0, max=234), HTML(value='')))"
      ]
     },
     "metadata": {},
     "output_type": "display_data"
    },
    {
     "data": {
      "application/vnd.jupyter.widget-view+json": {
       "model_id": "f15efc1f1dcd4db1a9ea638227dcfbbf",
       "version_major": 2,
       "version_minor": 0
      },
      "text/plain": [
       "HBox(children=(IntProgress(value=0, max=234), HTML(value='')))"
      ]
     },
     "metadata": {},
     "output_type": "display_data"
    },
    {
     "data": {
      "application/vnd.jupyter.widget-view+json": {
       "model_id": "fac7d411d2454231b2529f8e54775b8d",
       "version_major": 2,
       "version_minor": 0
      },
      "text/plain": [
       "HBox(children=(IntProgress(value=0, max=234), HTML(value='')))"
      ]
     },
     "metadata": {},
     "output_type": "display_data"
    },
    {
     "name": "stdout",
     "output_type": "stream",
     "text": [
      "\n"
     ]
    },
    {
     "data": {
      "image/png": "[encoded data removed]",
      "text/plain": [
       "<Figure size 432x288 with 1 Axes>"
      ]
     },
     "metadata": {
      "needs_background": "light"
     },
     "output_type": "display_data"
    }
   ],
   "source": [
    "# Allocate the classifier.\n",
    "classifier = torch.nn.Sequential(\n",
    "    ConvolutionalLegoPiece(),\n",
    "    FullyConnectedLegoPiece(num_hidden=1000, num_classes=10))\n",
    "# Put the classifier on the GPU.\n",
    "classifier = classifier.to(device)\n",
    "# Allocate the optimizer.\n",
    "optimizer = torch.optim.Adam(classifier.parameters())\n",
    "\n",
    "num_epochs = 30\n",
    "validation_losses = []\n",
    "for epoch in tqdm(range(num_epochs)):\n",
    "    train(classifier, optimizer, dataset_train)\n",
    "    validation_loss = validate(classifier, dataset_validation)\n",
    "    validation_losses.append(validation_loss)\n",
    "    \n",
    "# Plot the validation loss.\n",
    "plt.plot(np.arange(len(validation_losses)), validation_losses, color=\"black\")\n",
    "plt.minorticks_on()\n",
    "plt.xlabel(\"Epochs\")\n",
    "plt.ylabel(\"Validation loss\")\n",
    "plt.show()"
   ]
  },
  {
   "cell_type": "markdown",
   "metadata": {},
   "source": [
    "### Regularization"
   ]
  },
  {
   "cell_type": "markdown",
   "metadata": {},
   "source": [
    "`torch.nn.Dropout`, `torch.nn.BatchNorm2d`"
   ]
  },
  {
   "cell_type": "code",
   "execution_count": 28,
   "metadata": {},
   "outputs": [],
   "source": [
    "class BatchNormConvolutionalLegoPiece(torch.nn.Module):\n",
    "    \n",
    "    def __init__(self, p=0.5):\n",
    "        super(BatchNormConvolutionalLegoPiece, self).__init__()\n",
    "        self.piece = torch.nn.Sequential(\n",
    "            # First block.\n",
    "            torch.nn.Conv2d(in_channels=1, out_channels=20, kernel_size=5, stride=1),\n",
    "            torch.nn.BatchNorm2d(20),\n",
    "            torch.nn.ReLU(),\n",
    "            torch.nn.MaxPool2d(kernel_size=2), # Stride is set to `kernel_size` by default.\n",
    "            # Second block.\n",
    "            torch.nn.Conv2d(in_channels=20, out_channels=50, kernel_size=5, stride=1),\n",
    "            torch.nn.ReLU(),\n",
    "            torch.nn.MaxPool2d(kernel_size=2))\n",
    "        \n",
    "    def forward(self, images):\n",
    "        latents = self.piece(images)\n",
    "        \n",
    "        return latents"
   ]
  },
  {
   "cell_type": "code",
   "execution_count": 29,
   "metadata": {},
   "outputs": [],
   "source": [
    "class RegularizedFullyConnectedLegoPiece(torch.nn.Module):\n",
    "    \n",
    "    def __init__(self, latent_dimensionality=4 * 4 * 50, num_hidden=1000, num_classes=10, p=0.5):\n",
    "        super(RegularizedFullyConnectedLegoPiece, self).__init__()\n",
    "        self.z_dim = latent_dimensionality\n",
    "        self.piece = torch.nn.Sequential(\n",
    "            torch.nn.Dropout(p=p),\n",
    "            torch.nn.Linear(self.z_dim, num_hidden),\n",
    "            torch.nn.ReLU(),\n",
    "            torch.nn.Dropout(p=p),\n",
    "            torch.nn.Linear(num_hidden, num_hidden),\n",
    "            torch.nn.ReLU(),\n",
    "            torch.nn.Dropout(p=p),\n",
    "            torch.nn.Linear(num_hidden, num_hidden),\n",
    "            torch.nn.ReLU(),\n",
    "            torch.nn.Linear(num_hidden, num_classes),\n",
    "            torch.nn.LogSoftmax(dim=1))\n",
    "        \n",
    "    def forward(self, latents):\n",
    "        latents = latents.view(-1, self.z_dim)\n",
    "        return self.piece(latents)"
   ]
  },
  {
   "cell_type": "code",
   "execution_count": 30,
   "metadata": {},
   "outputs": [
    {
     "data": {
      "application/vnd.jupyter.widget-view+json": {
       "model_id": "dcc12bca52154a92a3e6dafc51a523ae",
       "version_major": 2,
       "version_minor": 0
      },
      "text/plain": [
       "HBox(children=(IntProgress(value=0, max=30), HTML(value='')))"
      ]
     },
     "metadata": {},
     "output_type": "display_data"
    },
    {
     "data": {
      "application/vnd.jupyter.widget-view+json": {
       "model_id": "e1a1bd45a3894ccdbaacdcde1de67408",
       "version_major": 2,
       "version_minor": 0
      },
      "text/plain": [
       "HBox(children=(IntProgress(value=0, max=234), HTML(value='')))"
      ]
     },
     "metadata": {},
     "output_type": "display_data"
    },
    {
     "data": {
      "application/vnd.jupyter.widget-view+json": {
       "model_id": "69e5921678b44cb894cb05b22d4e3c2c",
       "version_major": 2,
       "version_minor": 0
      },
      "text/plain": [
       "HBox(children=(IntProgress(value=0, max=234), HTML(value='')))"
      ]
     },
     "metadata": {},
     "output_type": "display_data"
    },
    {
     "data": {
      "application/vnd.jupyter.widget-view+json": {
       "model_id": "7c07ba55dbd847a3b7556d3fc1e6742d",
       "version_major": 2,
       "version_minor": 0
      },
      "text/plain": [
       "HBox(children=(IntProgress(value=0, max=234), HTML(value='')))"
      ]
     },
     "metadata": {},
     "output_type": "display_data"
    },
    {
     "data": {
      "application/vnd.jupyter.widget-view+json": {
       "model_id": "d686f95169a74d25b59604b63e4e2911",
       "version_major": 2,
       "version_minor": 0
      },
      "text/plain": [
       "HBox(children=(IntProgress(value=0, max=234), HTML(value='')))"
      ]
     },
     "metadata": {},
     "output_type": "display_data"
    },
    {
     "data": {
      "application/vnd.jupyter.widget-view+json": {
       "model_id": "e3e0fd58da674d9898722f2ee989fd61",
       "version_major": 2,
       "version_minor": 0
      },
      "text/plain": [
       "HBox(children=(IntProgress(value=0, max=234), HTML(value='')))"
      ]
     },
     "metadata": {},
     "output_type": "display_data"
    },
    {
     "data": {
      "application/vnd.jupyter.widget-view+json": {
       "model_id": "61eb9778664d4b85b578e4f18f6cb380",
       "version_major": 2,
       "version_minor": 0
      },
      "text/plain": [
       "HBox(children=(IntProgress(value=0, max=234), HTML(value='')))"
      ]
     },
     "metadata": {},
     "output_type": "display_data"
    },
    {
     "data": {
      "application/vnd.jupyter.widget-view+json": {
       "model_id": "c547bda09cd04051943dea8951b6a3e0",
       "version_major": 2,
       "version_minor": 0
      },
      "text/plain": [
       "HBox(children=(IntProgress(value=0, max=234), HTML(value='')))"
      ]
     },
     "metadata": {},
     "output_type": "display_data"
    },
    {
     "data": {
      "application/vnd.jupyter.widget-view+json": {
       "model_id": "6b611db505b74c7db206a585416fddcc",
       "version_major": 2,
       "version_minor": 0
      },
      "text/plain": [
       "HBox(children=(IntProgress(value=0, max=234), HTML(value='')))"
      ]
     },
     "metadata": {},
     "output_type": "display_data"
    },
    {
     "data": {
      "application/vnd.jupyter.widget-view+json": {
       "model_id": "802c2aee49ba428590ea4c1064b6b06c",
       "version_major": 2,
       "version_minor": 0
      },
      "text/plain": [
       "HBox(children=(IntProgress(value=0, max=234), HTML(value='')))"
      ]
     },
     "metadata": {},
     "output_type": "display_data"
    },
    {
     "data": {
      "application/vnd.jupyter.widget-view+json": {
       "model_id": "8eb9c3426ce742e9b65ef41d10a6f636",
       "version_major": 2,
       "version_minor": 0
      },
      "text/plain": [
       "HBox(children=(IntProgress(value=0, max=234), HTML(value='')))"
      ]
     },
     "metadata": {},
     "output_type": "display_data"
    },
    {
     "data": {
      "application/vnd.jupyter.widget-view+json": {
       "model_id": "02229e1e7d314cd1bda91e6e68639c19",
       "version_major": 2,
       "version_minor": 0
      },
      "text/plain": [
       "HBox(children=(IntProgress(value=0, max=234), HTML(value='')))"
      ]
     },
     "metadata": {},
     "output_type": "display_data"
    },
    {
     "data": {
      "application/vnd.jupyter.widget-view+json": {
       "model_id": "edd7fbb85d2641519a2781f2c4a8fdd6",
       "version_major": 2,
       "version_minor": 0
      },
      "text/plain": [
       "HBox(children=(IntProgress(value=0, max=234), HTML(value='')))"
      ]
     },
     "metadata": {},
     "output_type": "display_data"
    },
    {
     "data": {
      "application/vnd.jupyter.widget-view+json": {
       "model_id": "f416e4f21f9b4d7cb352d96990ff59b0",
       "version_major": 2,
       "version_minor": 0
      },
      "text/plain": [
       "HBox(children=(IntProgress(value=0, max=234), HTML(value='')))"
      ]
     },
     "metadata": {},
     "output_type": "display_data"
    },
    {
     "data": {
      "application/vnd.jupyter.widget-view+json": {
       "model_id": "d0e4f0338c7543629abfda39061149cd",
       "version_major": 2,
       "version_minor": 0
      },
      "text/plain": [
       "HBox(children=(IntProgress(value=0, max=234), HTML(value='')))"
      ]
     },
     "metadata": {},
     "output_type": "display_data"
    },
    {
     "data": {
      "application/vnd.jupyter.widget-view+json": {
       "model_id": "95ad49c998f14ca79c78da56b168ce46",
       "version_major": 2,
       "version_minor": 0
      },
      "text/plain": [
       "HBox(children=(IntProgress(value=0, max=234), HTML(value='')))"
      ]
     },
     "metadata": {},
     "output_type": "display_data"
    },
    {
     "data": {
      "application/vnd.jupyter.widget-view+json": {
       "model_id": "b3911b32117c4719b09b47d26c70426a",
       "version_major": 2,
       "version_minor": 0
      },
      "text/plain": [
       "HBox(children=(IntProgress(value=0, max=234), HTML(value='')))"
      ]
     },
     "metadata": {},
     "output_type": "display_data"
    },
    {
     "data": {
      "application/vnd.jupyter.widget-view+json": {
       "model_id": "781d19d980a54198bc637a0755d36a10",
       "version_major": 2,
       "version_minor": 0
      },
      "text/plain": [
       "HBox(children=(IntProgress(value=0, max=234), HTML(value='')))"
      ]
     },
     "metadata": {},
     "output_type": "display_data"
    },
    {
     "data": {
      "application/vnd.jupyter.widget-view+json": {
       "model_id": "04626368b0714eb39a0208bdc57f5d2f",
       "version_major": 2,
       "version_minor": 0
      },
      "text/plain": [
       "HBox(children=(IntProgress(value=0, max=234), HTML(value='')))"
      ]
     },
     "metadata": {},
     "output_type": "display_data"
    },
    {
     "data": {
      "application/vnd.jupyter.widget-view+json": {
       "model_id": "6acbd56c364748c1899db2281acef5b7",
       "version_major": 2,
       "version_minor": 0
      },
      "text/plain": [
       "HBox(children=(IntProgress(value=0, max=234), HTML(value='')))"
      ]
     },
     "metadata": {},
     "output_type": "display_data"
    },
    {
     "data": {
      "application/vnd.jupyter.widget-view+json": {
       "model_id": "b23da53e03f04fad8f33eddd6677481d",
       "version_major": 2,
       "version_minor": 0
      },
      "text/plain": [
       "HBox(children=(IntProgress(value=0, max=234), HTML(value='')))"
      ]
     },
     "metadata": {},
     "output_type": "display_data"
    },
    {
     "data": {
      "application/vnd.jupyter.widget-view+json": {
       "model_id": "a0433e8394ca41f5b77febae14de4b86",
       "version_major": 2,
       "version_minor": 0
      },
      "text/plain": [
       "HBox(children=(IntProgress(value=0, max=234), HTML(value='')))"
      ]
     },
     "metadata": {},
     "output_type": "display_data"
    },
    {
     "data": {
      "application/vnd.jupyter.widget-view+json": {
       "model_id": "f49bab472b474f73a173485df8c7a04c",
       "version_major": 2,
       "version_minor": 0
      },
      "text/plain": [
       "HBox(children=(IntProgress(value=0, max=234), HTML(value='')))"
      ]
     },
     "metadata": {},
     "output_type": "display_data"
    },
    {
     "data": {
      "application/vnd.jupyter.widget-view+json": {
       "model_id": "0a1af21cdbf54e7f816e786cf404985e",
       "version_major": 2,
       "version_minor": 0
      },
      "text/plain": [
       "HBox(children=(IntProgress(value=0, max=234), HTML(value='')))"
      ]
     },
     "metadata": {},
     "output_type": "display_data"
    },
    {
     "data": {
      "application/vnd.jupyter.widget-view+json": {
       "model_id": "e63e89eaf3554fceb0c4537ff29ea9fc",
       "version_major": 2,
       "version_minor": 0
      },
      "text/plain": [
       "HBox(children=(IntProgress(value=0, max=234), HTML(value='')))"
      ]
     },
     "metadata": {},
     "output_type": "display_data"
    },
    {
     "data": {
      "application/vnd.jupyter.widget-view+json": {
       "model_id": "093a13d262014852b4a6f15f2c03308a",
       "version_major": 2,
       "version_minor": 0
      },
      "text/plain": [
       "HBox(children=(IntProgress(value=0, max=234), HTML(value='')))"
      ]
     },
     "metadata": {},
     "output_type": "display_data"
    },
    {
     "data": {
      "application/vnd.jupyter.widget-view+json": {
       "model_id": "d3b23244d5834e589d0b7055ae778c31",
       "version_major": 2,
       "version_minor": 0
      },
      "text/plain": [
       "HBox(children=(IntProgress(value=0, max=234), HTML(value='')))"
      ]
     },
     "metadata": {},
     "output_type": "display_data"
    },
    {
     "data": {
      "application/vnd.jupyter.widget-view+json": {
       "model_id": "4dc670c1a113444997ea7f7d82054b47",
       "version_major": 2,
       "version_minor": 0
      },
      "text/plain": [
       "HBox(children=(IntProgress(value=0, max=234), HTML(value='')))"
      ]
     },
     "metadata": {},
     "output_type": "display_data"
    },
    {
     "data": {
      "application/vnd.jupyter.widget-view+json": {
       "model_id": "16f686e183554ca099775a9f6ec45272",
       "version_major": 2,
       "version_minor": 0
      },
      "text/plain": [
       "HBox(children=(IntProgress(value=0, max=234), HTML(value='')))"
      ]
     },
     "metadata": {},
     "output_type": "display_data"
    },
    {
     "data": {
      "application/vnd.jupyter.widget-view+json": {
       "model_id": "8ead8b136a4a4c629e951c78b9bf5299",
       "version_major": 2,
       "version_minor": 0
      },
      "text/plain": [
       "HBox(children=(IntProgress(value=0, max=234), HTML(value='')))"
      ]
     },
     "metadata": {},
     "output_type": "display_data"
    },
    {
     "data": {
      "application/vnd.jupyter.widget-view+json": {
       "model_id": "595602429e074428a2cfe618deefd0ca",
       "version_major": 2,
       "version_minor": 0
      },
      "text/plain": [
       "HBox(children=(IntProgress(value=0, max=234), HTML(value='')))"
      ]
     },
     "metadata": {},
     "output_type": "display_data"
    },
    {
     "name": "stdout",
     "output_type": "stream",
     "text": [
      "\n"
     ]
    },
    {
     "data": {
      "image/png": "[encoded data removed]",
      "text/plain": [
       "<Figure size 432x288 with 1 Axes>"
      ]
     },
     "metadata": {
      "needs_background": "light"
     },
     "output_type": "display_data"
    }
   ],
   "source": [
    "# Allocate the classifier.\n",
    "classifier = torch.nn.Sequential(\n",
    "    BatchNormConvolutionalLegoPiece(),\n",
    "    RegularizedFullyConnectedLegoPiece(num_hidden=1000, num_classes=10))\n",
    "# Put the classifier on the GPU.\n",
    "classifier = classifier.to(device)\n",
    "# Allocate the optimizer.\n",
    "optimizer = torch.optim.Adam(classifier.parameters())\n",
    "\n",
    "num_epochs = 30\n",
    "validation_losses = []\n",
    "for epoch in tqdm(range(num_epochs)):\n",
    "    train(classifier, optimizer, dataset_train)\n",
    "    validation_loss = validate(classifier, dataset_validation)\n",
    "    validation_losses.append(validation_loss)\n",
    "    \n",
    "# Plot the validation loss.\n",
    "plt.plot(np.arange(len(validation_losses)), validation_losses, color=\"black\")\n",
    "plt.minorticks_on()\n",
    "plt.xlabel(\"Epochs\")\n",
    "plt.ylabel(\"Validation loss\")\n",
    "plt.show()"
   ]
  },
  {
   "cell_type": "markdown",
   "metadata": {},
   "source": [
    "### Saving and loading models (checkpointing)"
   ]
  },
  {
   "cell_type": "code",
   "execution_count": 31,
   "metadata": {},
   "outputs": [
    {
     "name": "stdout",
     "output_type": "stream",
     "text": [
      "mkdir: cannot create directory ‘models’: File exists\r\n"
     ]
    }
   ],
   "source": [
    "!mkdir models"
   ]
  },
  {
   "cell_type": "code",
   "execution_count": 32,
   "metadata": {},
   "outputs": [
    {
     "data": {
      "application/vnd.jupyter.widget-view+json": {
       "model_id": "1e3c6cdd8a784073b0d3d2a5210b538a",
       "version_major": 2,
       "version_minor": 0
      },
      "text/plain": [
       "HBox(children=(IntProgress(value=0, max=30), HTML(value='')))"
      ]
     },
     "metadata": {},
     "output_type": "display_data"
    },
    {
     "data": {
      "application/vnd.jupyter.widget-view+json": {
       "model_id": "02160121c4734e39a5a345689b50003e",
       "version_major": 2,
       "version_minor": 0
      },
      "text/plain": [
       "HBox(children=(IntProgress(value=0, max=234), HTML(value='')))"
      ]
     },
     "metadata": {},
     "output_type": "display_data"
    },
    {
     "name": "stderr",
     "output_type": "stream",
     "text": [
      "/home/joeri/Anaconda/lib/python3.7/site-packages/torch/serialization.py:251: UserWarning: Couldn't retrieve source code for container of type BatchNormConvolutionalLegoPiece. It won't be checked for correctness upon loading.\n",
      "  \"type \" + obj.__name__ + \". It won't be checked \"\n",
      "/home/joeri/Anaconda/lib/python3.7/site-packages/torch/serialization.py:251: UserWarning: Couldn't retrieve source code for container of type RegularizedFullyConnectedLegoPiece. It won't be checked for correctness upon loading.\n",
      "  \"type \" + obj.__name__ + \". It won't be checked \"\n"
     ]
    },
    {
     "data": {
      "application/vnd.jupyter.widget-view+json": {
       "model_id": "b16f361abbc04fdb96a195408e3e098b",
       "version_major": 2,
       "version_minor": 0
      },
      "text/plain": [
       "HBox(children=(IntProgress(value=0, max=234), HTML(value='')))"
      ]
     },
     "metadata": {},
     "output_type": "display_data"
    },
    {
     "data": {
      "application/vnd.jupyter.widget-view+json": {
       "model_id": "ed04b3035289493da18316243b565207",
       "version_major": 2,
       "version_minor": 0
      },
      "text/plain": [
       "HBox(children=(IntProgress(value=0, max=234), HTML(value='')))"
      ]
     },
     "metadata": {},
     "output_type": "display_data"
    },
    {
     "data": {
      "application/vnd.jupyter.widget-view+json": {
       "model_id": "4e54eca4809a4485826841c2ff33c002",
       "version_major": 2,
       "version_minor": 0
      },
      "text/plain": [
       "HBox(children=(IntProgress(value=0, max=234), HTML(value='')))"
      ]
     },
     "metadata": {},
     "output_type": "display_data"
    },
    {
     "data": {
      "application/vnd.jupyter.widget-view+json": {
       "model_id": "3416ec856576488e89fe00517e5e47ee",
       "version_major": 2,
       "version_minor": 0
      },
      "text/plain": [
       "HBox(children=(IntProgress(value=0, max=234), HTML(value='')))"
      ]
     },
     "metadata": {},
     "output_type": "display_data"
    },
    {
     "data": {
      "application/vnd.jupyter.widget-view+json": {
       "model_id": "2e89b9db05e241238f3886c52fb47bb9",
       "version_major": 2,
       "version_minor": 0
      },
      "text/plain": [
       "HBox(children=(IntProgress(value=0, max=234), HTML(value='')))"
      ]
     },
     "metadata": {},
     "output_type": "display_data"
    },
    {
     "data": {
      "application/vnd.jupyter.widget-view+json": {
       "model_id": "4ca59c33f1294e949c94d05731d59e64",
       "version_major": 2,
       "version_minor": 0
      },
      "text/plain": [
       "HBox(children=(IntProgress(value=0, max=234), HTML(value='')))"
      ]
     },
     "metadata": {},
     "output_type": "display_data"
    },
    {
     "data": {
      "application/vnd.jupyter.widget-view+json": {
       "model_id": "7d43abd1ae54441595e45630cf156def",
       "version_major": 2,
       "version_minor": 0
      },
      "text/plain": [
       "HBox(children=(IntProgress(value=0, max=234), HTML(value='')))"
      ]
     },
     "metadata": {},
     "output_type": "display_data"
    },
    {
     "data": {
      "application/vnd.jupyter.widget-view+json": {
       "model_id": "e2cc3a6fd81549edae91b20c94f7cf71",
       "version_major": 2,
       "version_minor": 0
      },
      "text/plain": [
       "HBox(children=(IntProgress(value=0, max=234), HTML(value='')))"
      ]
     },
     "metadata": {},
     "output_type": "display_data"
    },
    {
     "data": {
      "application/vnd.jupyter.widget-view+json": {
       "model_id": "d4c2d9d229a54fcab79785687d4a3223",
       "version_major": 2,
       "version_minor": 0
      },
      "text/plain": [
       "HBox(children=(IntProgress(value=0, max=234), HTML(value='')))"
      ]
     },
     "metadata": {},
     "output_type": "display_data"
    },
    {
     "data": {
      "application/vnd.jupyter.widget-view+json": {
       "model_id": "a1883598203544f6b865b137b68bc9e2",
       "version_major": 2,
       "version_minor": 0
      },
      "text/plain": [
       "HBox(children=(IntProgress(value=0, max=234), HTML(value='')))"
      ]
     },
     "metadata": {},
     "output_type": "display_data"
    },
    {
     "data": {
      "application/vnd.jupyter.widget-view+json": {
       "model_id": "401bd1b46aaa4384b1929eab3b5688f9",
       "version_major": 2,
       "version_minor": 0
      },
      "text/plain": [
       "HBox(children=(IntProgress(value=0, max=234), HTML(value='')))"
      ]
     },
     "metadata": {},
     "output_type": "display_data"
    },
    {
     "data": {
      "application/vnd.jupyter.widget-view+json": {
       "model_id": "b4b27441eed74f9bbd8824cab0b2dc27",
       "version_major": 2,
       "version_minor": 0
      },
      "text/plain": [
       "HBox(children=(IntProgress(value=0, max=234), HTML(value='')))"
      ]
     },
     "metadata": {},
     "output_type": "display_data"
    },
    {
     "data": {
      "application/vnd.jupyter.widget-view+json": {
       "model_id": "1446e216c7e6488aafe5178d668a47f7",
       "version_major": 2,
       "version_minor": 0
      },
      "text/plain": [
       "HBox(children=(IntProgress(value=0, max=234), HTML(value='')))"
      ]
     },
     "metadata": {},
     "output_type": "display_data"
    },
    {
     "data": {
      "application/vnd.jupyter.widget-view+json": {
       "model_id": "266bbb55953a4dcbbe6976999fddf0b9",
       "version_major": 2,
       "version_minor": 0
      },
      "text/plain": [
       "HBox(children=(IntProgress(value=0, max=234), HTML(value='')))"
      ]
     },
     "metadata": {},
     "output_type": "display_data"
    },
    {
     "data": {
      "application/vnd.jupyter.widget-view+json": {
       "model_id": "2c434b7ba694452682ba65782912e219",
       "version_major": 2,
       "version_minor": 0
      },
      "text/plain": [
       "HBox(children=(IntProgress(value=0, max=234), HTML(value='')))"
      ]
     },
     "metadata": {},
     "output_type": "display_data"
    },
    {
     "data": {
      "application/vnd.jupyter.widget-view+json": {
       "model_id": "5b5ddab66f1c45e5aea0bb31bf74964c",
       "version_major": 2,
       "version_minor": 0
      },
      "text/plain": [
       "HBox(children=(IntProgress(value=0, max=234), HTML(value='')))"
      ]
     },
     "metadata": {},
     "output_type": "display_data"
    },
    {
     "data": {
      "application/vnd.jupyter.widget-view+json": {
       "model_id": "0ba99f5f95274267afd4011683746d3f",
       "version_major": 2,
       "version_minor": 0
      },
      "text/plain": [
       "HBox(children=(IntProgress(value=0, max=234), HTML(value='')))"
      ]
     },
     "metadata": {},
     "output_type": "display_data"
    },
    {
     "data": {
      "application/vnd.jupyter.widget-view+json": {
       "model_id": "800821c8949d43208c94eda0e5c444d6",
       "version_major": 2,
       "version_minor": 0
      },
      "text/plain": [
       "HBox(children=(IntProgress(value=0, max=234), HTML(value='')))"
      ]
     },
     "metadata": {},
     "output_type": "display_data"
    },
    {
     "data": {
      "application/vnd.jupyter.widget-view+json": {
       "model_id": "0edda24873d44ca4b3bb3227c796f54f",
       "version_major": 2,
       "version_minor": 0
      },
      "text/plain": [
       "HBox(children=(IntProgress(value=0, max=234), HTML(value='')))"
      ]
     },
     "metadata": {},
     "output_type": "display_data"
    },
    {
     "data": {
      "application/vnd.jupyter.widget-view+json": {
       "model_id": "9e364261fd994a60b77f95a1fd86eeac",
       "version_major": 2,
       "version_minor": 0
      },
      "text/plain": [
       "HBox(children=(IntProgress(value=0, max=234), HTML(value='')))"
      ]
     },
     "metadata": {},
     "output_type": "display_data"
    },
    {
     "data": {
      "application/vnd.jupyter.widget-view+json": {
       "model_id": "29338375052b4344b322ffa4de9182c8",
       "version_major": 2,
       "version_minor": 0
      },
      "text/plain": [
       "HBox(children=(IntProgress(value=0, max=234), HTML(value='')))"
      ]
     },
     "metadata": {},
     "output_type": "display_data"
    },
    {
     "data": {
      "application/vnd.jupyter.widget-view+json": {
       "model_id": "6398e1c9c1d54d2db9d5b1df15a45980",
       "version_major": 2,
       "version_minor": 0
      },
      "text/plain": [
       "HBox(children=(IntProgress(value=0, max=234), HTML(value='')))"
      ]
     },
     "metadata": {},
     "output_type": "display_data"
    },
    {
     "data": {
      "application/vnd.jupyter.widget-view+json": {
       "model_id": "095df9131efc46829e7a2b159167df50",
       "version_major": 2,
       "version_minor": 0
      },
      "text/plain": [
       "HBox(children=(IntProgress(value=0, max=234), HTML(value='')))"
      ]
     },
     "metadata": {},
     "output_type": "display_data"
    },
    {
     "data": {
      "application/vnd.jupyter.widget-view+json": {
       "model_id": "a0fe03b7204a4751ba101b455affcc0f",
       "version_major": 2,
       "version_minor": 0
      },
      "text/plain": [
       "HBox(children=(IntProgress(value=0, max=234), HTML(value='')))"
      ]
     },
     "metadata": {},
     "output_type": "display_data"
    },
    {
     "data": {
      "application/vnd.jupyter.widget-view+json": {
       "model_id": "33570b7c36be4bc0b9c6539a86d7248b",
       "version_major": 2,
       "version_minor": 0
      },
      "text/plain": [
       "HBox(children=(IntProgress(value=0, max=234), HTML(value='')))"
      ]
     },
     "metadata": {},
     "output_type": "display_data"
    },
    {
     "data": {
      "application/vnd.jupyter.widget-view+json": {
       "model_id": "bc1b8795591d4a61a011cf6cbccb2dee",
       "version_major": 2,
       "version_minor": 0
      },
      "text/plain": [
       "HBox(children=(IntProgress(value=0, max=234), HTML(value='')))"
      ]
     },
     "metadata": {},
     "output_type": "display_data"
    },
    {
     "data": {
      "application/vnd.jupyter.widget-view+json": {
       "model_id": "694f3f25ccd642e7a3cac70790fb76d5",
       "version_major": 2,
       "version_minor": 0
      },
      "text/plain": [
       "HBox(children=(IntProgress(value=0, max=234), HTML(value='')))"
      ]
     },
     "metadata": {},
     "output_type": "display_data"
    },
    {
     "data": {
      "application/vnd.jupyter.widget-view+json": {
       "model_id": "d51bdc8db63b4c4a970ee02c478a3620",
       "version_major": 2,
       "version_minor": 0
      },
      "text/plain": [
       "HBox(children=(IntProgress(value=0, max=234), HTML(value='')))"
      ]
     },
     "metadata": {},
     "output_type": "display_data"
    },
    {
     "data": {
      "application/vnd.jupyter.widget-view+json": {
       "model_id": "8330ae138f2946ac98d0300ccca72d7e",
       "version_major": 2,
       "version_minor": 0
      },
      "text/plain": [
       "HBox(children=(IntProgress(value=0, max=234), HTML(value='')))"
      ]
     },
     "metadata": {},
     "output_type": "display_data"
    },
    {
     "name": "stdout",
     "output_type": "stream",
     "text": [
      "\n"
     ]
    },
    {
     "data": {
      "image/png": "[encoded data removed]",
      "text/plain": [
       "<Figure size 432x288 with 1 Axes>"
      ]
     },
     "metadata": {
      "needs_background": "light"
     },
     "output_type": "display_data"
    }
   ],
   "source": [
    "# Allocate the classifier.\n",
    "classifier = torch.nn.Sequential(\n",
    "    BatchNormConvolutionalLegoPiece(),\n",
    "    RegularizedFullyConnectedLegoPiece(num_hidden=1000, num_classes=10))\n",
    "# Put the classifier on the GPU.\n",
    "classifier = classifier.to(device)\n",
    "# Allocate the optimizer.\n",
    "optimizer = torch.optim.Adam(classifier.parameters())\n",
    "\n",
    "num_epochs = 30\n",
    "validation_losses = []\n",
    "for epoch in tqdm(range(num_epochs)):\n",
    "    train(classifier, optimizer, dataset_train)\n",
    "    validation_loss = validate(classifier, dataset_validation)\n",
    "    torch.save(classifier, \"models/\" + str(epoch) + \".model\")\n",
    "    validation_losses.append(validation_loss)\n",
    "    \n",
    "# Plot the validation loss.\n",
    "plt.plot(np.arange(len(validation_losses)), validation_losses, color=\"black\")\n",
    "plt.minorticks_on()\n",
    "plt.xlabel(\"Epochs\")\n",
    "plt.ylabel(\"Validation loss\")\n",
    "plt.show()"
   ]
  },
  {
   "cell_type": "code",
   "execution_count": 33,
   "metadata": {},
   "outputs": [
    {
     "name": "stdout",
     "output_type": "stream",
     "text": [
      "0.model   13.model  17.model  20.model\t24.model  28.model  4.model  8.model\r\n",
      "10.model  14.model  18.model  21.model\t25.model  29.model  5.model  9.model\r\n",
      "11.model  15.model  19.model  22.model\t26.model  2.model   6.model\r\n",
      "12.model  16.model  1.model   23.model\t27.model  3.model   7.model\r\n"
     ]
    }
   ],
   "source": [
    "!ls models"
   ]
  },
  {
   "cell_type": "code",
   "execution_count": 34,
   "metadata": {},
   "outputs": [
    {
     "data": {
      "image/png": "[encoded data removed]",
      "text/plain": [
       "<Figure size 432x288 with 1 Axes>"
      ]
     },
     "metadata": {
      "needs_background": "light"
     },
     "output_type": "display_data"
    },
    {
     "name": "stdout",
     "output_type": "stream",
     "text": [
      "Predicted digit: 3\n"
     ]
    }
   ],
   "source": [
    "classifier = torch.load(\"models/29.model\")\n",
    "classifier.eval() # Set in \"evaluation\" mode. Important!!\n",
    "\n",
    "# Show the input\n",
    "data_index = random.randint(0, 60000)\n",
    "inputs = dataset_train[data_index][0].view(1, 1, 28, 28).cuda()\n",
    "plt.imshow(inputs.view(28, 28).cpu().numpy(), cmap=\"gist_gray\")\n",
    "plt.show()\n",
    "\n",
    "print(\"Predicted digit:\", classifier(inputs).exp().max(1)[1].item())"
   ]
  },
  {
   "cell_type": "markdown",
   "metadata": {},
   "source": [
    "## Tensorboard"
   ]
  },
  {
   "cell_type": "markdown",
   "metadata": {},
   "source": [
    "`pip install tensorboard`\n",
    "\n",
    "`pip install tensorboardX` (for PyTorch)"
   ]
  },
  {
   "cell_type": "markdown",
   "metadata": {},
   "source": [
    "Start the instance using `tensorboard --logdir='./logs' --port=8000`"
   ]
  },
  {
   "cell_type": "code",
   "execution_count": null,
   "metadata": {},
   "outputs": [],
   "source": []
  }
 ],
 "metadata": {
  "kernelspec": {
   "display_name": "Python 3",
   "language": "python",
   "name": "python3"
  },
  "language_info": {
   "codemirror_mode": {
    "name": "ipython",
    "version": 3
   },
   "file_extension": ".py",
   "mimetype": "text/x-python",
   "name": "python",
   "nbconvert_exporter": "python",
   "pygments_lexer": "ipython3",
   "version": "3.7.1"
  }
 },
 "nbformat": 4,
 "nbformat_minor": 2
}
