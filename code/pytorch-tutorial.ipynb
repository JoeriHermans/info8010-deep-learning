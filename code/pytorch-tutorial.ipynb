{
 "cells": [
  {
   "cell_type": "markdown",
   "metadata": {},
   "source": [
    "# INFO8010 Deep Learning - An introduction to PyTorch\n",
    "*Joeri Hermans*<br>\n",
    "*University of Liège, Belgium*<br>\n",
    "[joeri.hermans@doct.uliege.be](mailto:joeri.hermans@doct.uliege.be)"
   ]
  },
  {
   "cell_type": "code",
   "execution_count": 1,
   "metadata": {},
   "outputs": [
    {
     "name": "stdout",
     "output_type": "stream",
     "text": [
      "Thu Mar 14 20:38:39 CET 2019\r\n"
     ]
    }
   ],
   "source": [
    "!date"
   ]
  },
  {
   "cell_type": "markdown",
   "metadata": {},
   "source": [
    "## Front matter\n",
    "\n",
    "The PyTorch documentation provides a great resource and is significantly more detailed than this lecture. Introductory concepts include:\n",
    "- [Main concepts such as `tensors` and `autograd`](https://pytorch.org/tutorials/beginner/pytorch_with_examples.html).\n",
    "- A 60-minute [crash-course](https://pytorch.org/tutorials/beginner/deep_learning_60min_blitz.html) covering the main usage.\n",
    "- [Loading and processing data](https://pytorch.org/tutorials/beginner/data_loading_tutorial.html).\n",
    "- [Saving and loading models](https://pytorch.org/tutorials/beginner/saving_loading_models.html).\n",
    "- [Syntactic sugar with torch.nn](https://pytorch.org/tutorials/beginner/nn_tutorial.html).\n",
    "- [Transfer learning](https://pytorch.org/tutorials/beginner/transfer_learning_tutorial.html).\n",
    "- [Building a chatbot model](https://pytorch.org/tutorials/beginner/chatbot_tutorial.html).\n",
    "- [Deploying a Seq2Seq model (chatbot) with the Hybrid frontend -> \"compile\" to graph](https://pytorch.org/tutorials/beginner/deploy_seq2seq_hybrid_frontend_tutorial.html).\n",
    "- [Generative Adversarial Networks (DCGAN) using the faces dataset](https://pytorch.org/tutorials/beginner/dcgan_faces_tutorial.html).\n",
    "- [Reinforcement learning (DQN) tutorial](https://pytorch.org/tutorials/intermediate/reinforcement_q_learning.html).\n",
    "- [Writing distributed applications](https://pytorch.org/tutorials/intermediate/dist_tuto.html).\n",
    "- [Distributed training](https://pytorch.org/tutorials/beginner/aws_distributed_training_tutorial.html) (including multi-GPU).\n",
    "- [ONNX](https://pytorch.org/tutorials/advanced/ONNXLive.html) (standard to describe models, useful to transfer between frameworks).\n",
    "- [Using the C++ API](https://pytorch.org/tutorials/advanced/cpp_frontend.html).\n",
    "\n",
    "And many more in PyTorch's [examples](https://github.com/pytorch/examples) GitHub repository. Check it out!"
   ]
  },
  {
   "cell_type": "markdown",
   "metadata": {},
   "source": [
    "## Requirements\n",
    "\n",
    "- [Anaconda](https://www.anaconda.com/distribution/) Python environment (optional, but recommended). Please do not use `Python 2.7`.\n",
    "- [PyTorch](https://pytorch.org/get-started/locally/) according to your system configuration."
   ]
  },
  {
   "cell_type": "markdown",
   "metadata": {},
   "source": [
    "## Let's start"
   ]
  },
  {
   "cell_type": "markdown",
   "metadata": {},
   "source": [
    "Have you ever used **numpy** before?"
   ]
  },
  {
   "cell_type": "code",
   "execution_count": 2,
   "metadata": {},
   "outputs": [],
   "source": [
    "import numpy as np"
   ]
  },
  {
   "cell_type": "markdown",
   "metadata": {},
   "source": [
    "> NumPy’s main object is the homogeneous multidimensional array. It is a table of elements (usually numbers), all of the same type."
   ]
  },
  {
   "cell_type": "code",
   "execution_count": 3,
   "metadata": {},
   "outputs": [
    {
     "data": {
      "text/plain": [
       "array([[-1.1645596 , -0.6290052 , -0.52926069],\n",
       "       [ 0.72309342, -0.27243897,  0.68914565],\n",
       "       [ 0.62695919, -1.24446421,  0.56438764]])"
      ]
     },
     "execution_count": 3,
     "metadata": {},
     "output_type": "execute_result"
    }
   ],
   "source": [
    "# A 5x5 matrix of samples from Normal(mu=0, sigma=1).\n",
    "m = np.random.randn(3, 3)\n",
    "\n",
    "m"
   ]
  },
  {
   "cell_type": "markdown",
   "metadata": {},
   "source": [
    "In fact, from an conceptual point-of-view, `pytorch` and `numpy` are quite similar."
   ]
  },
  {
   "cell_type": "code",
   "execution_count": 4,
   "metadata": {},
   "outputs": [],
   "source": [
    "import torch"
   ]
  },
  {
   "cell_type": "markdown",
   "metadata": {},
   "source": [
    "> A `tensor` is an n-dimensional array."
   ]
  },
  {
   "cell_type": "code",
   "execution_count": 5,
   "metadata": {},
   "outputs": [
    {
     "data": {
      "text/plain": [
       "tensor([[-1.1646, -0.6290, -0.5293],\n",
       "        [ 0.7231, -0.2724,  0.6891],\n",
       "        [ 0.6270, -1.2445,  0.5644]])"
      ]
     },
     "execution_count": 5,
     "metadata": {},
     "output_type": "execute_result"
    }
   ],
   "source": [
    "# A 5x5 tensor of samples from Normal(mu=0, sigma=1).\n",
    "#t = torch.randn(3, 3)\n",
    "#t = torch.from_numpy(m)\n",
    "#t = torch.from_numpy(m).float()\n",
    "t = torch.tensor(m, dtype=torch.float32)\n",
    "\n",
    "t"
   ]
  },
  {
   "cell_type": "markdown",
   "metadata": {},
   "source": [
    "Because of the similarities in the API, I personally use `pytorch` instead of `numpy` for computing projects because of the GPU acceleration. \n",
    "\n",
    "Consider the multiplication of the matrix `m`. In `numpy` this is:"
   ]
  },
  {
   "cell_type": "code",
   "execution_count": 6,
   "metadata": {},
   "outputs": [
    {
     "data": {
      "text/plain": [
       "array([[ 0.56954469,  1.56252556, -0.11582877],\n",
       "       [-0.60701802, -1.23822363, -0.18150977],\n",
       "       [-1.27614722, -0.75768026, -0.87090854]])"
      ]
     },
     "execution_count": 6,
     "metadata": {},
     "output_type": "execute_result"
    }
   ],
   "source": [
    "np.matmul(m, m)"
   ]
  },
  {
   "cell_type": "markdown",
   "metadata": {},
   "source": [
    "In `pytorch`:"
   ]
  },
  {
   "cell_type": "code",
   "execution_count": 7,
   "metadata": {},
   "outputs": [
    {
     "data": {
      "text/plain": [
       "tensor([[ 0.5695,  1.5625, -0.1158],\n",
       "        [-0.6070, -1.2382, -0.1815],\n",
       "        [-1.2761, -0.7577, -0.8709]])"
      ]
     },
     "execution_count": 7,
     "metadata": {},
     "output_type": "execute_result"
    }
   ],
   "source": [
    "torch.matmul(t, t)"
   ]
  },
  {
   "cell_type": "markdown",
   "metadata": {},
   "source": [
    "Alternatively, you can apply an operation on the `tensor` itself:"
   ]
  },
  {
   "cell_type": "code",
   "execution_count": 8,
   "metadata": {},
   "outputs": [
    {
     "data": {
      "text/plain": [
       "tensor([[ 0.5695,  1.5625, -0.1158],\n",
       "        [-0.6070, -1.2382, -0.1815],\n",
       "        [-1.2761, -0.7577, -0.8709]])"
      ]
     },
     "execution_count": 8,
     "metadata": {},
     "output_type": "execute_result"
    }
   ],
   "source": [
    "t.matmul(t)"
   ]
  },
  {
   "cell_type": "markdown",
   "metadata": {},
   "source": [
    "## A simple neural network\n",
    "\n",
    "In this section we will train a simple MLP (multilayered perceptron) with `ReLU` activations. To train the network, we implement gradient descent by hand."
   ]
  },
  {
   "cell_type": "code",
   "execution_count": 9,
   "metadata": {},
   "outputs": [],
   "source": [
    "# To draw a progress bar.\n",
    "from tqdm import tqdm_notebook as tqdm\n",
    "# Plotting functionality\n",
    "import matplotlib.pyplot as plt\n",
    "\n",
    "# Optimization hyperparameters.\n",
    "batch_size = 32\n",
    "learning_rate = 1e-6\n",
    "training_iterations = range(5000)\n",
    "\n",
    "# Configuration of the neural network.\n",
    "num_hidden = 1000\n",
    "num_in = 100\n",
    "num_out = 1"
   ]
  },
  {
   "cell_type": "markdown",
   "metadata": {},
   "source": [
    "### `numpy`"
   ]
  },
  {
   "cell_type": "code",
   "execution_count": 10,
   "metadata": {},
   "outputs": [
    {
     "data": {
      "application/vnd.jupyter.widget-view+json": {
       "model_id": "1f8957be72c64f978243d9f8e8c48bf5",
       "version_major": 2,
       "version_minor": 0
      },
      "text/plain": [
       "HBox(children=(IntProgress(value=0, max=5000), HTML(value='')))"
      ]
     },
     "metadata": {},
     "output_type": "display_data"
    },
    {
     "name": "stdout",
     "output_type": "stream",
     "text": [
      "\n"
     ]
    },
    {
     "data": {
      "image/png": "[encoded data removed]",
      "text/plain": [
       "<Figure size 432x288 with 1 Axes>"
      ]
     },
     "metadata": {
      "needs_background": "light"
     },
     "output_type": "display_data"
    }
   ],
   "source": [
    "# Randomly initialize the weights.\n",
    "w_1 = np.random.randn(num_in, num_hidden) # input -> hidden\n",
    "w_2 = np.random.randn(num_hidden, num_out) # hidden -> output\n",
    "\n",
    "losses = []\n",
    "for iteration in tqdm(training_iterations):\n",
    "    # Fetch the input and corresponding output.\n",
    "    inputs = np.random.randn(batch_size, num_in)\n",
    "    targets = np.random.randn(batch_size, num_out)\n",
    "    \n",
    "    # Apply the `forward` computation of the neural network (compute the prediction).\n",
    "    h = np.matmul(inputs, w_1) # You could also do `inputs.dot(w_1)`.\n",
    "    activation = np.maximum(h, 0)\n",
    "    y_predicted = np.matmul(activation, w_2)\n",
    "    \n",
    "    # Compute loss.\n",
    "    diff = y_predicted - targets\n",
    "    loss = np.square(diff).mean()\n",
    "    losses.append(loss)\n",
    "    \n",
    "    # Apply backpropagation.\n",
    "    grad_y_prediction = 2 * diff\n",
    "    grad_w_2 = np.matmul(activation.T, grad_y_prediction)\n",
    "    grad_activation = np.matmul(grad_y_prediction, w_2.T)\n",
    "    grad_h = grad_activation.copy()\n",
    "    grad_h[h < 0] = 0 # Gradient of ReLU is h (except for activations < 0, then it is 0).\n",
    "    grad_w_1 = np.matmul(inputs.T, grad_h)\n",
    "    \n",
    "    # Update the weights.\n",
    "    w_1 -= learning_rate * grad_w_1\n",
    "    w_2 -= learning_rate * grad_w_2\n",
    "    \n",
    "# Show the loss over the training iterations.\n",
    "plt.plot(training_iterations, losses, color=\"black\")\n",
    "plt.minorticks_on()\n",
    "plt.yscale(\"log\")\n",
    "plt.xlabel(\"Iterations\")\n",
    "plt.ylabel(\"Loss\")\n",
    "plt.grid(True, alpha=.2)\n",
    "plt.show()"
   ]
  },
  {
   "cell_type": "markdown",
   "metadata": {},
   "source": [
    "### `pytorch` (no autograd)"
   ]
  },
  {
   "cell_type": "code",
   "execution_count": 11,
   "metadata": {},
   "outputs": [
    {
     "data": {
      "application/vnd.jupyter.widget-view+json": {
       "model_id": "e06a21a6b62341cd92be771348542477",
       "version_major": 2,
       "version_minor": 0
      },
      "text/plain": [
       "HBox(children=(IntProgress(value=0, max=5000), HTML(value='')))"
      ]
     },
     "metadata": {},
     "output_type": "display_data"
    },
    {
     "name": "stdout",
     "output_type": "stream",
     "text": [
      "\n"
     ]
    },
    {
     "data": {
      "image/png": "[encoded data removed]",
      "text/plain": [
       "<Figure size 432x288 with 1 Axes>"
      ]
     },
     "metadata": {
      "needs_background": "light"
     },
     "output_type": "display_data"
    }
   ],
   "source": [
    "# Randomly initialize the weights.\n",
    "w_1 = torch.randn(num_in, num_hidden) # input -> hidden\n",
    "w_2 = torch.randn(num_hidden, num_out) # hidden -> output\n",
    "\n",
    "losses = []\n",
    "for iteration in tqdm(training_iterations):\n",
    "    # Fetch the input and corresponding output.\n",
    "    inputs = torch.randn(batch_size, num_in)\n",
    "    targets = torch.randn(batch_size, num_out)\n",
    "    \n",
    "    # Apply the `forward` computation of the neural network (compute the prediction).\n",
    "    h = torch.matmul(inputs, w_1)\n",
    "    activation = torch.clamp(h, min=0)\n",
    "    y_predicted = torch.matmul(activation, w_2)\n",
    "    \n",
    "    # Compute loss.\n",
    "    diff = y_predicted - targets\n",
    "    loss = torch.pow(diff, 2).mean()\n",
    "    losses.append(loss)\n",
    "    \n",
    "    # Apply backpropagation.\n",
    "    grad_y_prediction = 2 * diff\n",
    "    grad_w_2 = torch.matmul(activation.t(), grad_y_prediction)\n",
    "    grad_activation = torch.matmul(grad_y_prediction, w_2.t())\n",
    "    grad_h = grad_activation.clone()\n",
    "    grad_h[h < 0] = 0 # Gradient of ReLU is h (except for activations < 0, then it is 0).\n",
    "    grad_w_1 = torch.matmul(inputs.t(), grad_h)\n",
    "    \n",
    "    # Update the weights.\n",
    "    w_1 -= learning_rate * grad_w_1\n",
    "    w_2 -= learning_rate * grad_w_2\n",
    "    \n",
    "# Show the loss over the training iterations.\n",
    "plt.plot(training_iterations, losses, color=\"black\")\n",
    "plt.minorticks_on()\n",
    "plt.yscale(\"log\")\n",
    "plt.xlabel(\"Iterations\")\n",
    "plt.ylabel(\"Loss\")\n",
    "plt.grid(True, alpha=.2)\n",
    "plt.show()"
   ]
  },
  {
   "cell_type": "markdown",
   "metadata": {},
   "source": [
    "### `pytorch` (with autograd)"
   ]
  },
  {
   "cell_type": "markdown",
   "metadata": {},
   "source": [
    "Obviously, implementing the backward pass by hand for complex models is kinda tricky (can you imagine doing this in the 90's?), and you will have to rely on a lot of diagnostics to verify your implementation. Luckily, we have [PyTorch's autodifferentiation](https://pytorch.org/docs/stable/autograd.html) to handle this in the background."
   ]
  },
  {
   "cell_type": "code",
   "execution_count": 12,
   "metadata": {},
   "outputs": [
    {
     "data": {
      "application/vnd.jupyter.widget-view+json": {
       "model_id": "284d2a3e751547e5abcf71a78837fc7e",
       "version_major": 2,
       "version_minor": 0
      },
      "text/plain": [
       "HBox(children=(IntProgress(value=0, max=5000), HTML(value='')))"
      ]
     },
     "metadata": {},
     "output_type": "display_data"
    },
    {
     "name": "stdout",
     "output_type": "stream",
     "text": [
      "\n"
     ]
    },
    {
     "data": {
      "image/png": "[encoded data removed]",
      "text/plain": [
       "<Figure size 432x288 with 1 Axes>"
      ]
     },
     "metadata": {
      "needs_background": "light"
     },
     "output_type": "display_data"
    }
   ],
   "source": [
    "# Randomly initialize the weights.\n",
    "w_1 = torch.randn(num_in, num_hidden) # input -> hidden\n",
    "w_2 = torch.randn(num_hidden, num_out) # hidden -> output\n",
    "\n",
    "# We would like to compute the gradient with respect to the parameters of the model.\n",
    "w_1.requires_grad = True\n",
    "w_2.requires_grad = True\n",
    "\n",
    "losses = []\n",
    "for iteration in tqdm(training_iterations):\n",
    "    # Fetch the input and corresponding output.\n",
    "    inputs = torch.randn(batch_size, num_in)\n",
    "    targets = torch.randn(batch_size, num_out)\n",
    "    \n",
    "    # Apply the `forward` computation of the neural network (compute the prediction).\n",
    "    h = torch.matmul(inputs, w_1)\n",
    "    activation = torch.clamp(h, min=0)\n",
    "    y_predicted = torch.matmul(activation, w_2)\n",
    "    \n",
    "    # Compute loss.\n",
    "    diff = y_predicted - targets\n",
    "    loss = torch.pow(diff, 2).mean()\n",
    "    losses.append(loss)\n",
    "    \n",
    "    # Apply backpropagation.\n",
    "    loss.backward()\n",
    "    \n",
    "    # Update the weights.\n",
    "    with torch.no_grad():\n",
    "        # Update the weights with the derrived gradients.\n",
    "        w_1 -= learning_rate * w_1.grad\n",
    "        w_2 -= learning_rate * w_2.grad\n",
    "        # Reset the accumulation of gradients.\n",
    "        w_1.grad.zero_()\n",
    "        w_2.grad.zero_()\n",
    "    \n",
    "# Show the loss over the training iterations.\n",
    "plt.plot(training_iterations, losses, color=\"black\")\n",
    "plt.minorticks_on()\n",
    "plt.yscale(\"log\")\n",
    "plt.xlabel(\"Iterations\")\n",
    "plt.ylabel(\"Loss\")\n",
    "plt.grid(True, alpha=.2)\n",
    "plt.show()"
   ]
  },
  {
   "cell_type": "markdown",
   "metadata": {},
   "source": [
    "Wait. Why is the `autograd` loss different?"
   ]
  },
  {
   "cell_type": "markdown",
   "metadata": {},
   "source": [
    "**Computer Science 101**: How *should* we compare 2 floating points?"
   ]
  },
  {
   "cell_type": "code",
   "execution_count": 13,
   "metadata": {},
   "outputs": [
    {
     "name": "stdout",
     "output_type": "stream",
     "text": [
      "Whoops\n"
     ]
    }
   ],
   "source": [
    "import random\n",
    "\n",
    "a = random.random()\n",
    "b = a - random.random() * 1e-17\n",
    "\n",
    "if a == b:\n",
    "    print(\"Whoops\")"
   ]
  },
  {
   "cell_type": "markdown",
   "metadata": {},
   "source": [
    "Nevertheless, this can be bypassed by adapting the learning rate to reduce the effect of numerical imprecision. In practice, you will not even notice this because this is a hyperparameter you have to tune anyway."
   ]
  },
  {
   "cell_type": "code",
   "execution_count": 14,
   "metadata": {},
   "outputs": [
    {
     "data": {
      "application/vnd.jupyter.widget-view+json": {
       "model_id": "0eb3c800602e4d918957692b452842da",
       "version_major": 2,
       "version_minor": 0
      },
      "text/plain": [
       "HBox(children=(IntProgress(value=0, max=5000), HTML(value='')))"
      ]
     },
     "metadata": {},
     "output_type": "display_data"
    },
    {
     "name": "stdout",
     "output_type": "stream",
     "text": [
      "\n"
     ]
    },
    {
     "data": {
      "image/png": "[encoded data removed]",
      "text/plain": [
       "<Figure size 432x288 with 1 Axes>"
      ]
     },
     "metadata": {
      "needs_background": "light"
     },
     "output_type": "display_data"
    }
   ],
   "source": [
    "# Larger learning rate to address numerical imprecision.\n",
    "learning_rate = 4e-5\n",
    "\n",
    "# Randomly initialize the weights.\n",
    "w_1 = torch.randn(num_in, num_hidden) # input -> hidden\n",
    "w_2 = torch.randn(num_hidden, num_out) # hidden -> output\n",
    "\n",
    "# We would like to compute the gradient with respect to the parameters of the model.\n",
    "w_1.requires_grad = True\n",
    "w_2.requires_grad = True\n",
    "\n",
    "losses = []\n",
    "for iteration in tqdm(training_iterations):\n",
    "    # Fetch the input and corresponding output.\n",
    "    inputs = torch.randn(batch_size, num_in)\n",
    "    targets = torch.randn(batch_size, num_out)\n",
    "    \n",
    "    # Apply the `forward` computation of the neural network (compute the prediction).\n",
    "    h = torch.matmul(inputs, w_1)\n",
    "    activation = torch.clamp(h, min=0)\n",
    "    y_predicted = torch.matmul(activation, w_2)\n",
    "    \n",
    "    # Compute loss.\n",
    "    diff = y_predicted - targets\n",
    "    loss = torch.pow(diff, 2).mean()\n",
    "    losses.append(loss)\n",
    "    \n",
    "    # Apply backpropagation.\n",
    "    loss.backward()\n",
    "    \n",
    "    # Update the weights.\n",
    "    with torch.no_grad():\n",
    "        # Update the weights with the derrived gradients.\n",
    "        w_1 -= learning_rate * w_1.grad\n",
    "        w_2 -= learning_rate * w_2.grad\n",
    "        # Reset the accumulation of gradients.\n",
    "        w_1.grad.zero_()\n",
    "        w_2.grad.zero_()\n",
    "    \n",
    "# Show the loss over the training iterations.\n",
    "plt.plot(training_iterations, losses, color=\"black\")\n",
    "plt.minorticks_on()\n",
    "plt.yscale(\"log\")\n",
    "plt.xlabel(\"Iterations\")\n",
    "plt.ylabel(\"Loss\")\n",
    "plt.grid(True, alpha=.2)\n",
    "plt.show()"
   ]
  },
  {
   "cell_type": "markdown",
   "metadata": {},
   "source": [
    "Voila!"
   ]
  },
  {
   "cell_type": "markdown",
   "metadata": {},
   "source": [
    "## `torch.nn` modeling and training with `torch.optim`\n",
    "\n",
    "All modules are instances of `torch.nn.Module`. These modules can be viewed as Lego(tm)-bricks which can be connected in some specific way. See the [`torch.nn`](https://pytorch.org/docs/stable/nn.html) documentation for more information."
   ]
  },
  {
   "cell_type": "code",
   "execution_count": 15,
   "metadata": {},
   "outputs": [
    {
     "data": {
      "application/vnd.jupyter.widget-view+json": {
       "model_id": "745923714ffc400d9ced4d4e320ce715",
       "version_major": 2,
       "version_minor": 0
      },
      "text/plain": [
       "HBox(children=(IntProgress(value=0, max=5000), HTML(value='')))"
      ]
     },
     "metadata": {},
     "output_type": "display_data"
    },
    {
     "name": "stdout",
     "output_type": "stream",
     "text": [
      "\n"
     ]
    },
    {
     "data": {
      "image/png": "[encoded data removed]",
      "text/plain": [
       "<Figure size 432x288 with 1 Axes>"
      ]
     },
     "metadata": {
      "needs_background": "light"
     },
     "output_type": "display_data"
    }
   ],
   "source": [
    "class Classifier(torch.nn.Module):\n",
    "    \n",
    "    def __init__(self, num_hidden):\n",
    "        super(Classifier, self).__init__() # Required\n",
    "        self.m_1 = torch.nn.Linear(100, num_hidden)\n",
    "        self.m_2 = torch.nn.Linear(num_hidden, 10)\n",
    "        self.activation = torch.nn.ReLU()\n",
    "        \n",
    "    def forward(self, inputs):\n",
    "        h_1 = self.m_1(inputs)\n",
    "        a_1 = self.activation(h_1)\n",
    "        h_2 = self.m_2(a_1)\n",
    "        \n",
    "        return h_2\n",
    "\n",
    "# Allocate the classifier.\n",
    "classifier = Classifier(num_hidden=1000)\n",
    "\n",
    "# Allocate the optimizer.\n",
    "optimizer = torch.optim.SGD(classifier.parameters(), lr=0.01)\n",
    "\n",
    "# Pick a loss function.\n",
    "# https://pytorch.org/docs/stable/nn.html#loss-functions\n",
    "criterion = torch.nn.MSELoss(reduction=\"mean\") # By default all losses use a `mean` reduction.\n",
    "\n",
    "# Start the training procedure.\n",
    "losses = []\n",
    "for iteration in tqdm(training_iterations):\n",
    "    # Fetch a batch of inputs and targets.\n",
    "    inputs = torch.randn(batch_size, 100)\n",
    "    targets = torch.randn(batch_size, 10)\n",
    "    # Forward pass.\n",
    "    y_pred = classifier(inputs)\n",
    "    # Compute the loss.\n",
    "    loss = criterion(y_pred, targets)\n",
    "    losses.append(loss.item())\n",
    "    # Backward pass.\n",
    "    optimizer.zero_grad() # Clear gradient accumulation.\n",
    "    loss.backward()\n",
    "    optimizer.step()\n",
    "    \n",
    "# Show the loss over the training iterations.\n",
    "plt.plot(training_iterations, losses, color=\"black\")\n",
    "plt.minorticks_on()\n",
    "plt.xlabel(\"Iterations\")\n",
    "plt.ylabel(\"Loss\")\n",
    "plt.grid(True, alpha=.2)\n",
    "plt.show()"
   ]
  },
  {
   "cell_type": "markdown",
   "metadata": {},
   "source": [
    "Alternatively, you can rely on the `Sequential` API (Keras-like):"
   ]
  },
  {
   "cell_type": "code",
   "execution_count": 16,
   "metadata": {},
   "outputs": [
    {
     "data": {
      "application/vnd.jupyter.widget-view+json": {
       "model_id": "007d2e6b249b4da2bc49a8273ee66e43",
       "version_major": 2,
       "version_minor": 0
      },
      "text/plain": [
       "HBox(children=(IntProgress(value=0, max=5000), HTML(value='')))"
      ]
     },
     "metadata": {},
     "output_type": "display_data"
    },
    {
     "name": "stdout",
     "output_type": "stream",
     "text": [
      "\n"
     ]
    },
    {
     "data": {
      "image/png": "[encoded data removed]",
      "text/plain": [
       "<Figure size 432x288 with 1 Axes>"
      ]
     },
     "metadata": {
      "needs_background": "light"
     },
     "output_type": "display_data"
    }
   ],
   "source": [
    "# Allocate the classifier.\n",
    "classifier = torch.nn.Sequential(\n",
    "    torch.nn.Linear(100, 1000),\n",
    "    torch.nn.ReLU(),\n",
    "    torch.nn.Linear(1000, 1000),\n",
    "    torch.nn.ReLU(),\n",
    "    torch.nn.Linear(1000, 10))\n",
    "\n",
    "# Allocate the optimizer.\n",
    "optimizer = torch.optim.SGD(classifier.parameters(), lr=0.01)\n",
    "\n",
    "# Pick a loss function.\n",
    "# https://pytorch.org/docs/stable/nn.html#loss-functions\n",
    "criterion = torch.nn.MSELoss(reduction=\"mean\") # By default all losses use a `mean` reduction.\n",
    "\n",
    "# Start the training procedure.\n",
    "losses = []\n",
    "for iteration in tqdm(training_iterations):\n",
    "    # Fetch a batch of inputs and targets.\n",
    "    inputs = torch.randn(batch_size, 100)\n",
    "    targets = torch.randn(batch_size, 10)\n",
    "    # Forward pass.\n",
    "    y_pred = classifier(inputs)\n",
    "    # Compute the loss.\n",
    "    loss = criterion(y_pred, targets)\n",
    "    losses.append(loss.item())\n",
    "    # Backward pass.\n",
    "    optimizer.zero_grad() # Clear gradient accumulation.\n",
    "    loss.backward()\n",
    "    optimizer.step()\n",
    "    \n",
    "# Show the loss over the training iterations.\n",
    "plt.plot(training_iterations, losses, color=\"black\")\n",
    "plt.minorticks_on()\n",
    "plt.xlabel(\"Iterations\")\n",
    "plt.ylabel(\"Loss\")\n",
    "plt.grid(True, alpha=.2)\n",
    "plt.show()"
   ]
  },
  {
   "cell_type": "markdown",
   "metadata": {},
   "source": [
    "## Hello MNIST\n",
    "\n",
    "Yet another `MNIST` tutorial."
   ]
  },
  {
   "cell_type": "markdown",
   "metadata": {},
   "source": [
    "### Data preprocessing and loading\n",
    "\n",
    "Instead of loading the data directly in the training loop using something like:"
   ]
  },
  {
   "cell_type": "code",
   "execution_count": 17,
   "metadata": {},
   "outputs": [],
   "source": [
    "# Fetch a batch of inputs and targets.\n",
    "inputs = torch.randn(batch_size, 100)\n",
    "targets = torch.randn(batch_size, 10)"
   ]
  },
  {
   "cell_type": "markdown",
   "metadata": {},
   "source": [
    "We can rely instead rely on the `dataset` abstraction. If you like, you could implement your own [Dataset](https://pytorch.org/docs/stable/data.html#torch.utils.data.Dataset), especially if you are dealing with other file formats such as `HDF5` or `ROOT`. However, when implementing such datasets I would recommend to set the number of asynchronous data loaders to 0, as the errors are typically isolated in the forked process."
   ]
  },
  {
   "cell_type": "code",
   "execution_count": 18,
   "metadata": {},
   "outputs": [],
   "source": [
    "import torchvision\n",
    "\n",
    "# Data preprocessing steps (standardization).\n",
    "transformations = torchvision.transforms.Compose([\n",
    "    torchvision.transforms.ToTensor(),\n",
    "    torchvision.transforms.Normalize((0.1307,), (0.3081,))])\n",
    "# Allocate the training dataset (and download it).\n",
    "dataset_train = torchvision.datasets.MNIST(\"data\", train=True, download=True, transform=transformations)\n",
    "# Allocate the validation dataset using the same pre-processing transformations.\n",
    "dataset_validation = torchvision.datasets.MNIST(\"data\", train=False, download=True, transform=transformations)"
   ]
  },
  {
   "cell_type": "markdown",
   "metadata": {},
   "source": [
    "The first image in the dataset:"
   ]
  },
  {
   "cell_type": "code",
   "execution_count": 19,
   "metadata": {},
   "outputs": [
    {
     "data": {
      "image/png": "[encoded data removed]",
      "text/plain": [
       "<Figure size 432x288 with 1 Axes>"
      ]
     },
     "metadata": {
      "needs_background": "light"
     },
     "output_type": "display_data"
    },
    {
     "name": "stdout",
     "output_type": "stream",
     "text": [
      "The number depicted in the image is a 5\n"
     ]
    }
   ],
   "source": [
    "image, label = dataset_train[0]\n",
    "\n",
    "# Show the first image in the dataset.\n",
    "plt.imshow(image.view(28, 28), cmap=\"gist_gray\")\n",
    "plt.show()\n",
    "\n",
    "print(\"The number depicted in the image is a\", label.item())"
   ]
  },
  {
   "cell_type": "markdown",
   "metadata": {},
   "source": [
    "### Model development\n",
    "\n",
    "The code below is a bit more complex than it should be, but it is intended to show how you could combine `torch.nn` modules.\n",
    "\n",
    "The first convolutional block of our architecture:"
   ]
  },
  {
   "cell_type": "code",
   "execution_count": 20,
   "metadata": {},
   "outputs": [],
   "source": [
    "class ConvolutionalLegoPiece(torch.nn.Module):\n",
    "    \n",
    "    def __init__(self):\n",
    "        super(ConvolutionalLegoPiece, self).__init__()\n",
    "        self.piece = torch.nn.Sequential(\n",
    "            # First block.\n",
    "            torch.nn.Conv2d(in_channels=1, out_channels=20, kernel_size=5, stride=1),\n",
    "            torch.nn.ReLU(),\n",
    "            torch.nn.MaxPool2d(kernel_size=2), # Stride is set to `kernel_size` by default.\n",
    "            # Second block.\n",
    "            torch.nn.Conv2d(in_channels=20, out_channels=50, kernel_size=5, stride=1),\n",
    "            torch.nn.ReLU(),\n",
    "            torch.nn.MaxPool2d(kernel_size=2))\n",
    "        \n",
    "    def forward(self, images):\n",
    "        latents = self.piece(images)\n",
    "        \n",
    "        return latents"
   ]
  },
  {
   "cell_type": "markdown",
   "metadata": {},
   "source": [
    "The fully connected part:"
   ]
  },
  {
   "cell_type": "code",
   "execution_count": 21,
   "metadata": {},
   "outputs": [],
   "source": [
    "class FullyConnectedLegoPiece(torch.nn.Module):\n",
    "    \n",
    "    def __init__(self, latent_dimensionality=4 * 4 * 50, num_hidden=1000, num_classes=10):\n",
    "        super(FullyConnectedLegoPiece, self).__init__()\n",
    "        self.z_dim = latent_dimensionality\n",
    "        self.piece = torch.nn.Sequential(\n",
    "            torch.nn.Linear(self.z_dim, num_hidden),\n",
    "            torch.nn.ReLU(),\n",
    "            torch.nn.Linear(num_hidden, num_hidden),\n",
    "            torch.nn.ReLU(),\n",
    "            torch.nn.Linear(num_hidden, num_hidden),\n",
    "            torch.nn.ReLU(),\n",
    "            torch.nn.Linear(num_hidden, num_classes),\n",
    "            torch.nn.LogSoftmax(dim=1))\n",
    "        \n",
    "    def forward(self, latents):\n",
    "        latents = latents.view(-1, self.z_dim)\n",
    "        return self.piece(latents)"
   ]
  },
  {
   "cell_type": "markdown",
   "metadata": {},
   "source": [
    "### Training and testing"
   ]
  },
  {
   "cell_type": "markdown",
   "metadata": {},
   "source": [
    "When faced with a classical training problem, it is usual a a good approach to define a `train` and `validate` method. Other approaches involves wrapping these in some aiding class (in generally prefer the latter because these functions might have to share state, this also makes the code a bit nicer to read)."
   ]
  },
  {
   "cell_type": "code",
   "execution_count": 22,
   "metadata": {},
   "outputs": [],
   "source": [
    "def train(model, optimizer, dataset, batch_size=256, workers=4):\n",
    "    model.train() # Ensure all modules are in `training` mode.\n",
    "    data_loader = torch.utils.data.DataLoader(dataset, shuffle=True, batch_size=batch_size, num_workers=workers)\n",
    "    data_loader = iter(data_loader)\n",
    "    criterion = torch.nn.NLLLoss()\n",
    "    iterations = range(len(dataset) // batch_size)\n",
    "    for batch_index in tqdm(iterations):\n",
    "        inputs, targets = next(data_loader)\n",
    "        prediction = model(inputs)\n",
    "        loss = criterion(prediction, targets)\n",
    "        optimizer.zero_grad()\n",
    "        loss.backward()\n",
    "        optimizer.step()\n",
    "        \n",
    "def validate(model, dataset, batch_size=256, workers=4):\n",
    "    model.eval()\n",
    "    data_loader = torch.utils.data.DataLoader(dataset, shuffle=True, batch_size=batch_size, num_workers=workers)\n",
    "    total_loss = 0\n",
    "    criterion = torch.nn.NLLLoss(reduction=\"sum\")\n",
    "    with torch.no_grad():\n",
    "        for inputs, targets in data_loader:\n",
    "            outputs = model(inputs)\n",
    "            loss = criterion(outputs, targets).item()\n",
    "            total_loss += loss\n",
    "    total_loss / len(dataset)\n",
    "    \n",
    "    return total_loss"
   ]
  },
  {
   "cell_type": "markdown",
   "metadata": {},
   "source": [
    "The actual training:"
   ]
  },
  {
   "cell_type": "code",
   "execution_count": 23,
   "metadata": {},
   "outputs": [
    {
     "data": {
      "application/vnd.jupyter.widget-view+json": {
       "model_id": "c9f3601ea9ab4fc2b061657d184d4c37",
       "version_major": 2,
       "version_minor": 0
      },
      "text/plain": [
       "HBox(children=(IntProgress(value=0, max=15), HTML(value='')))"
      ]
     },
     "metadata": {},
     "output_type": "display_data"
    },
    {
     "data": {
      "application/vnd.jupyter.widget-view+json": {
       "model_id": "fdb9a9d826a147699b31efc2d92eaa41",
       "version_major": 2,
       "version_minor": 0
      },
      "text/plain": [
       "HBox(children=(IntProgress(value=0, max=234), HTML(value='')))"
      ]
     },
     "metadata": {},
     "output_type": "display_data"
    },
    {
     "data": {
      "application/vnd.jupyter.widget-view+json": {
       "model_id": "c0700b2bbb724631989a38f1d3714215",
       "version_major": 2,
       "version_minor": 0
      },
      "text/plain": [
       "HBox(children=(IntProgress(value=0, max=234), HTML(value='')))"
      ]
     },
     "metadata": {},
     "output_type": "display_data"
    },
    {
     "data": {
      "application/vnd.jupyter.widget-view+json": {
       "model_id": "294869af55244b73a1d9f4f7ea72ab2a",
       "version_major": 2,
       "version_minor": 0
      },
      "text/plain": [
       "HBox(children=(IntProgress(value=0, max=234), HTML(value='')))"
      ]
     },
     "metadata": {},
     "output_type": "display_data"
    },
    {
     "data": {
      "application/vnd.jupyter.widget-view+json": {
       "model_id": "53748c1366ff4557b46a8289b6e215a0",
       "version_major": 2,
       "version_minor": 0
      },
      "text/plain": [
       "HBox(children=(IntProgress(value=0, max=234), HTML(value='')))"
      ]
     },
     "metadata": {},
     "output_type": "display_data"
    },
    {
     "data": {
      "application/vnd.jupyter.widget-view+json": {
       "model_id": "b7db067c432841128e056bab00682a7e",
       "version_major": 2,
       "version_minor": 0
      },
      "text/plain": [
       "HBox(children=(IntProgress(value=0, max=234), HTML(value='')))"
      ]
     },
     "metadata": {},
     "output_type": "display_data"
    },
    {
     "data": {
      "application/vnd.jupyter.widget-view+json": {
       "model_id": "8d86874604644170a11f0cc81a5b3a01",
       "version_major": 2,
       "version_minor": 0
      },
      "text/plain": [
       "HBox(children=(IntProgress(value=0, max=234), HTML(value='')))"
      ]
     },
     "metadata": {},
     "output_type": "display_data"
    },
    {
     "data": {
      "application/vnd.jupyter.widget-view+json": {
       "model_id": "567dc5cb801f40e0b7fb669cea4c6806",
       "version_major": 2,
       "version_minor": 0
      },
      "text/plain": [
       "HBox(children=(IntProgress(value=0, max=234), HTML(value='')))"
      ]
     },
     "metadata": {},
     "output_type": "display_data"
    },
    {
     "data": {
      "application/vnd.jupyter.widget-view+json": {
       "model_id": "29afd49071084592b5f229a241745702",
       "version_major": 2,
       "version_minor": 0
      },
      "text/plain": [
       "HBox(children=(IntProgress(value=0, max=234), HTML(value='')))"
      ]
     },
     "metadata": {},
     "output_type": "display_data"
    },
    {
     "data": {
      "application/vnd.jupyter.widget-view+json": {
       "model_id": "9314fc98d1f243fe946a99157928a19e",
       "version_major": 2,
       "version_minor": 0
      },
      "text/plain": [
       "HBox(children=(IntProgress(value=0, max=234), HTML(value='')))"
      ]
     },
     "metadata": {},
     "output_type": "display_data"
    },
    {
     "data": {
      "application/vnd.jupyter.widget-view+json": {
       "model_id": "8e044f457b764720aacd3d51f1817e49",
       "version_major": 2,
       "version_minor": 0
      },
      "text/plain": [
       "HBox(children=(IntProgress(value=0, max=234), HTML(value='')))"
      ]
     },
     "metadata": {},
     "output_type": "display_data"
    },
    {
     "data": {
      "application/vnd.jupyter.widget-view+json": {
       "model_id": "14644fade0a6409f909bf20f0b299041",
       "version_major": 2,
       "version_minor": 0
      },
      "text/plain": [
       "HBox(children=(IntProgress(value=0, max=234), HTML(value='')))"
      ]
     },
     "metadata": {},
     "output_type": "display_data"
    },
    {
     "data": {
      "application/vnd.jupyter.widget-view+json": {
       "model_id": "d44265b65ad84c92bb27bd0a5edf7223",
       "version_major": 2,
       "version_minor": 0
      },
      "text/plain": [
       "HBox(children=(IntProgress(value=0, max=234), HTML(value='')))"
      ]
     },
     "metadata": {},
     "output_type": "display_data"
    },
    {
     "data": {
      "application/vnd.jupyter.widget-view+json": {
       "model_id": "3ff2f4bd8da74cdd909db2dbefc17e07",
       "version_major": 2,
       "version_minor": 0
      },
      "text/plain": [
       "HBox(children=(IntProgress(value=0, max=234), HTML(value='')))"
      ]
     },
     "metadata": {},
     "output_type": "display_data"
    },
    {
     "data": {
      "application/vnd.jupyter.widget-view+json": {
       "model_id": "94745824a8a2431ba384af2e81a9a32c",
       "version_major": 2,
       "version_minor": 0
      },
      "text/plain": [
       "HBox(children=(IntProgress(value=0, max=234), HTML(value='')))"
      ]
     },
     "metadata": {},
     "output_type": "display_data"
    },
    {
     "data": {
      "application/vnd.jupyter.widget-view+json": {
       "model_id": "b9e467b47c65432496d4efc5c473f003",
       "version_major": 2,
       "version_minor": 0
      },
      "text/plain": [
       "HBox(children=(IntProgress(value=0, max=234), HTML(value='')))"
      ]
     },
     "metadata": {},
     "output_type": "display_data"
    },
    {
     "name": "stdout",
     "output_type": "stream",
     "text": [
      "\n"
     ]
    },
    {
     "data": {
      "image/png": "[encoded data removed]",
      "text/plain": [
       "<Figure size 432x288 with 1 Axes>"
      ]
     },
     "metadata": {
      "needs_background": "light"
     },
     "output_type": "display_data"
    }
   ],
   "source": [
    "# Allocate the classifier.\n",
    "classifier = torch.nn.Sequential(\n",
    "    ConvolutionalLegoPiece(),\n",
    "    FullyConnectedLegoPiece(num_hidden=1000, num_classes=10))\n",
    "# Allocate the optimizer.\n",
    "optimizer = torch.optim.Adam(classifier.parameters())\n",
    "\n",
    "num_epochs = 15\n",
    "validation_losses = []\n",
    "for epoch in tqdm(range(num_epochs)):\n",
    "    train(classifier, optimizer, dataset_train)\n",
    "    validation_loss = validate(classifier, dataset_validation)\n",
    "    validation_losses.append(validation_loss)\n",
    "    \n",
    "# Plot the validation loss.\n",
    "plt.plot(np.arange(len(validation_losses)), validation_losses, color=\"black\")\n",
    "plt.minorticks_on()\n",
    "plt.xlabel(\"Epochs\")\n",
    "plt.ylabel(\"Validation loss\")\n",
    "plt.show()"
   ]
  },
  {
   "cell_type": "code",
   "execution_count": 24,
   "metadata": {},
   "outputs": [
    {
     "data": {
      "image/png": "[encoded data removed]",
      "text/plain": [
       "<Figure size 432x288 with 1 Axes>"
      ]
     },
     "metadata": {
      "needs_background": "light"
     },
     "output_type": "display_data"
    },
    {
     "name": "stdout",
     "output_type": "stream",
     "text": [
      "Predicted digit: 5\n"
     ]
    }
   ],
   "source": [
    "# Show the input\n",
    "data_index = random.randint(0, 60000)\n",
    "inputs = dataset_train[data_index][0].view(1, 1, 28, 28)\n",
    "plt.imshow(inputs.view(28, 28).cpu().numpy(), cmap=\"gist_gray\")\n",
    "plt.show()\n",
    "\n",
    "classifier = classifier.cpu()\n",
    "print(\"Predicted digit:\", classifier(inputs).exp().max(1)[1].item())"
   ]
  },
  {
   "cell_type": "markdown",
   "metadata": {},
   "source": [
    "### GPU acceleration"
   ]
  },
  {
   "cell_type": "markdown",
   "metadata": {},
   "source": [
    "The training and validation procedure desribed above was run on the CPU. Let's use a GPU to accelerate this process."
   ]
  },
  {
   "cell_type": "code",
   "execution_count": 42,
   "metadata": {},
   "outputs": [
    {
     "name": "stdout",
     "output_type": "stream",
     "text": [
      "Number of GPU's: 1\n",
      "GPU: GeForce RTX 2080 Ti\n"
     ]
    }
   ],
   "source": [
    "# Check if a CUDA-enabled GPU is available.\n",
    "if torch.cuda.is_available():\n",
    "    device = torch.device(0)\n",
    "else:\n",
    "    device = \"cpu\"\n",
    "    \n",
    "print(\"Number of GPU's:\", torch.cuda.device_count())\n",
    "print(\"GPU:\", torch.cuda.get_device_name(device))"
   ]
  },
  {
   "cell_type": "markdown",
   "metadata": {},
   "source": [
    "PyTorch also supports `AMD` GPU's through [ROCm](https://rocm-documentation.readthedocs.io/en/latest/Deep_learning/Deep-learning.html#building-pytorch-for-rocm). TensorFlow probably does the same but if I recall correctly they use some propertary layer to do it.\n",
    "\n",
    "**Note `pin_memory=True`!** Also check: [disadvantages of `pin_memory`](https://discuss.pytorch.org/t/what-is-the-disadvantage-of-using-pin-memory/1702/8).\n"
   ]
  },
  {
   "cell_type": "code",
   "execution_count": 40,
   "metadata": {},
   "outputs": [],
   "source": [
    "def train(model, optimizer, dataset, batch_size=256, workers=4):\n",
    "    model.train() # Ensure all modules are in `training` mode.\n",
    "    data_loader = torch.utils.data.DataLoader(dataset, shuffle=True, batch_size=batch_size, num_workers=workers, pin_memory=True)\n",
    "    data_loader = iter(data_loader)\n",
    "    # Compute the loss in the GPU.\n",
    "    criterion = torch.nn.NLLLoss().to(device)\n",
    "    iterations = range(len(dataset) // batch_size)\n",
    "    for batch_index in tqdm(iterations):\n",
    "        inputs, targets = next(data_loader)\n",
    "        # Transfer to the GPU.\n",
    "        inputs = inputs.to(device)\n",
    "        targets = targets.to(device)\n",
    "        prediction = model(inputs)\n",
    "        loss = criterion(prediction, targets)\n",
    "        optimizer.zero_grad()\n",
    "        loss.backward()\n",
    "        optimizer.step()\n",
    "        \n",
    "def validate(model, dataset):\n",
    "    model.eval() # Set the model in 'evaluation' model.\n",
    "    data_loader = torch.utils.data.DataLoader(dataset, shuffle=True, batch_size=32, num_workers=4, pin_memory=True)\n",
    "    total_loss = 0\n",
    "    criterion = torch.nn.NLLLoss(reduction=\"sum\").to(device)\n",
    "    with torch.no_grad():\n",
    "        for inputs, targets in data_loader:\n",
    "            inputs = inputs.to(device)\n",
    "            targets = targets.to(device)\n",
    "            outputs = model(inputs)\n",
    "            loss = criterion(outputs, targets).item()\n",
    "            total_loss += loss\n",
    "        total_loss /= len(dataset)\n",
    "    \n",
    "    return total_loss"
   ]
  },
  {
   "cell_type": "markdown",
   "metadata": {},
   "source": [
    "In short, what you have to do to train on a `GPU`:\n",
    "1. Transfer your model to the GPU by using `.to(device)` or `.cuda()`\n",
    "2. Allocate your optimizer (AFTER transferring your model to the GPU).\n",
    "3. Transfer your criterion to the GPU.\n",
    "4. For every inputs and targets transfer it to the GPU.\n",
    "  - You *could* transfer the complete dataset to the GPU at first, prevents wasting transfer-time on the PCIe-bus.\n",
    "  - You *could* use asynchronous transfers (to pipeline transfer and computation) by using `.cuda(non_blocking=True)` or `.to(device, non_blocking=True)`."
   ]
  },
  {
   "cell_type": "code",
   "execution_count": 27,
   "metadata": {},
   "outputs": [
    {
     "data": {
      "application/vnd.jupyter.widget-view+json": {
       "model_id": "4b615642fb01488e9fed0da8eb53e476",
       "version_major": 2,
       "version_minor": 0
      },
      "text/plain": [
       "HBox(children=(IntProgress(value=0, max=30), HTML(value='')))"
      ]
     },
     "metadata": {},
     "output_type": "display_data"
    },
    {
     "data": {
      "application/vnd.jupyter.widget-view+json": {
       "model_id": "5070e5adb0264d3b8e4be278e82cfbe4",
       "version_major": 2,
       "version_minor": 0
      },
      "text/plain": [
       "HBox(children=(IntProgress(value=0, max=234), HTML(value='')))"
      ]
     },
     "metadata": {},
     "output_type": "display_data"
    },
    {
     "data": {
      "application/vnd.jupyter.widget-view+json": {
       "model_id": "5437720ea80e4fcf9a0bea25c18bcf34",
       "version_major": 2,
       "version_minor": 0
      },
      "text/plain": [
       "HBox(children=(IntProgress(value=0, max=234), HTML(value='')))"
      ]
     },
     "metadata": {},
     "output_type": "display_data"
    },
    {
     "data": {
      "application/vnd.jupyter.widget-view+json": {
       "model_id": "e4b1c4c5a5c54924a4256d8649cab529",
       "version_major": 2,
       "version_minor": 0
      },
      "text/plain": [
       "HBox(children=(IntProgress(value=0, max=234), HTML(value='')))"
      ]
     },
     "metadata": {},
     "output_type": "display_data"
    },
    {
     "data": {
      "application/vnd.jupyter.widget-view+json": {
       "model_id": "5a1e4061176046338e91f647a24e707a",
       "version_major": 2,
       "version_minor": 0
      },
      "text/plain": [
       "HBox(children=(IntProgress(value=0, max=234), HTML(value='')))"
      ]
     },
     "metadata": {},
     "output_type": "display_data"
    },
    {
     "data": {
      "application/vnd.jupyter.widget-view+json": {
       "model_id": "3e81e74f3a1d40cdbc418960ff56bead",
       "version_major": 2,
       "version_minor": 0
      },
      "text/plain": [
       "HBox(children=(IntProgress(value=0, max=234), HTML(value='')))"
      ]
     },
     "metadata": {},
     "output_type": "display_data"
    },
    {
     "data": {
      "application/vnd.jupyter.widget-view+json": {
       "model_id": "d54488c6a76a488a8224e4c45bb07f5c",
       "version_major": 2,
       "version_minor": 0
      },
      "text/plain": [
       "HBox(children=(IntProgress(value=0, max=234), HTML(value='')))"
      ]
     },
     "metadata": {},
     "output_type": "display_data"
    },
    {
     "data": {
      "application/vnd.jupyter.widget-view+json": {
       "model_id": "278ff46ecd604428bd1472883c821b30",
       "version_major": 2,
       "version_minor": 0
      },
      "text/plain": [
       "HBox(children=(IntProgress(value=0, max=234), HTML(value='')))"
      ]
     },
     "metadata": {},
     "output_type": "display_data"
    },
    {
     "data": {
      "application/vnd.jupyter.widget-view+json": {
       "model_id": "9817de0d35b94835add261f0ea7c544e",
       "version_major": 2,
       "version_minor": 0
      },
      "text/plain": [
       "HBox(children=(IntProgress(value=0, max=234), HTML(value='')))"
      ]
     },
     "metadata": {},
     "output_type": "display_data"
    },
    {
     "data": {
      "application/vnd.jupyter.widget-view+json": {
       "model_id": "cf4c60b171fb433aa0fea1bd0d8fbd11",
       "version_major": 2,
       "version_minor": 0
      },
      "text/plain": [
       "HBox(children=(IntProgress(value=0, max=234), HTML(value='')))"
      ]
     },
     "metadata": {},
     "output_type": "display_data"
    },
    {
     "data": {
      "application/vnd.jupyter.widget-view+json": {
       "model_id": "d4b55940f6714f008409ef0d9dd7c56d",
       "version_major": 2,
       "version_minor": 0
      },
      "text/plain": [
       "HBox(children=(IntProgress(value=0, max=234), HTML(value='')))"
      ]
     },
     "metadata": {},
     "output_type": "display_data"
    },
    {
     "data": {
      "application/vnd.jupyter.widget-view+json": {
       "model_id": "c9c1c73d0e7c461fb1c81d7ad494119a",
       "version_major": 2,
       "version_minor": 0
      },
      "text/plain": [
       "HBox(children=(IntProgress(value=0, max=234), HTML(value='')))"
      ]
     },
     "metadata": {},
     "output_type": "display_data"
    },
    {
     "data": {
      "application/vnd.jupyter.widget-view+json": {
       "model_id": "fdbad73cab7f4e138e6613afbd1fce10",
       "version_major": 2,
       "version_minor": 0
      },
      "text/plain": [
       "HBox(children=(IntProgress(value=0, max=234), HTML(value='')))"
      ]
     },
     "metadata": {},
     "output_type": "display_data"
    },
    {
     "data": {
      "application/vnd.jupyter.widget-view+json": {
       "model_id": "2bddf84163dd4487bf86d466284669a0",
       "version_major": 2,
       "version_minor": 0
      },
      "text/plain": [
       "HBox(children=(IntProgress(value=0, max=234), HTML(value='')))"
      ]
     },
     "metadata": {},
     "output_type": "display_data"
    },
    {
     "data": {
      "application/vnd.jupyter.widget-view+json": {
       "model_id": "e7c4d1dcac2b4574a68387b7241c8a48",
       "version_major": 2,
       "version_minor": 0
      },
      "text/plain": [
       "HBox(children=(IntProgress(value=0, max=234), HTML(value='')))"
      ]
     },
     "metadata": {},
     "output_type": "display_data"
    },
    {
     "data": {
      "application/vnd.jupyter.widget-view+json": {
       "model_id": "aea7cd71f5f640d9a0235e0130a921f7",
       "version_major": 2,
       "version_minor": 0
      },
      "text/plain": [
       "HBox(children=(IntProgress(value=0, max=234), HTML(value='')))"
      ]
     },
     "metadata": {},
     "output_type": "display_data"
    },
    {
     "data": {
      "application/vnd.jupyter.widget-view+json": {
       "model_id": "80a65c4a791d416182af9d209d12b454",
       "version_major": 2,
       "version_minor": 0
      },
      "text/plain": [
       "HBox(children=(IntProgress(value=0, max=234), HTML(value='')))"
      ]
     },
     "metadata": {},
     "output_type": "display_data"
    },
    {
     "data": {
      "application/vnd.jupyter.widget-view+json": {
       "model_id": "65a221b84def42a0b95224569506aec2",
       "version_major": 2,
       "version_minor": 0
      },
      "text/plain": [
       "HBox(children=(IntProgress(value=0, max=234), HTML(value='')))"
      ]
     },
     "metadata": {},
     "output_type": "display_data"
    },
    {
     "data": {
      "application/vnd.jupyter.widget-view+json": {
       "model_id": "a93f334f172342d09ea944e4fb09bb7a",
       "version_major": 2,
       "version_minor": 0
      },
      "text/plain": [
       "HBox(children=(IntProgress(value=0, max=234), HTML(value='')))"
      ]
     },
     "metadata": {},
     "output_type": "display_data"
    },
    {
     "data": {
      "application/vnd.jupyter.widget-view+json": {
       "model_id": "f2ed799bd27149fab4e50a2f417dafa2",
       "version_major": 2,
       "version_minor": 0
      },
      "text/plain": [
       "HBox(children=(IntProgress(value=0, max=234), HTML(value='')))"
      ]
     },
     "metadata": {},
     "output_type": "display_data"
    },
    {
     "data": {
      "application/vnd.jupyter.widget-view+json": {
       "model_id": "7332b16f5ab249d4b0a94a8c5541e0a9",
       "version_major": 2,
       "version_minor": 0
      },
      "text/plain": [
       "HBox(children=(IntProgress(value=0, max=234), HTML(value='')))"
      ]
     },
     "metadata": {},
     "output_type": "display_data"
    },
    {
     "data": {
      "application/vnd.jupyter.widget-view+json": {
       "model_id": "449a50fc63e542d0b4fc36fa0138d22d",
       "version_major": 2,
       "version_minor": 0
      },
      "text/plain": [
       "HBox(children=(IntProgress(value=0, max=234), HTML(value='')))"
      ]
     },
     "metadata": {},
     "output_type": "display_data"
    },
    {
     "data": {
      "application/vnd.jupyter.widget-view+json": {
       "model_id": "ec8dc9e28b7a454d879a3f9c337fe718",
       "version_major": 2,
       "version_minor": 0
      },
      "text/plain": [
       "HBox(children=(IntProgress(value=0, max=234), HTML(value='')))"
      ]
     },
     "metadata": {},
     "output_type": "display_data"
    },
    {
     "data": {
      "application/vnd.jupyter.widget-view+json": {
       "model_id": "17c2ec9c26ff41bb9e85a48f754bc55b",
       "version_major": 2,
       "version_minor": 0
      },
      "text/plain": [
       "HBox(children=(IntProgress(value=0, max=234), HTML(value='')))"
      ]
     },
     "metadata": {},
     "output_type": "display_data"
    },
    {
     "data": {
      "application/vnd.jupyter.widget-view+json": {
       "model_id": "fb016bce2359494ea6463e79b8a0823e",
       "version_major": 2,
       "version_minor": 0
      },
      "text/plain": [
       "HBox(children=(IntProgress(value=0, max=234), HTML(value='')))"
      ]
     },
     "metadata": {},
     "output_type": "display_data"
    },
    {
     "data": {
      "application/vnd.jupyter.widget-view+json": {
       "model_id": "c3a49e4252634547868f462c749dca01",
       "version_major": 2,
       "version_minor": 0
      },
      "text/plain": [
       "HBox(children=(IntProgress(value=0, max=234), HTML(value='')))"
      ]
     },
     "metadata": {},
     "output_type": "display_data"
    },
    {
     "data": {
      "application/vnd.jupyter.widget-view+json": {
       "model_id": "963d0a92d0e244bf870573fa9762053b",
       "version_major": 2,
       "version_minor": 0
      },
      "text/plain": [
       "HBox(children=(IntProgress(value=0, max=234), HTML(value='')))"
      ]
     },
     "metadata": {},
     "output_type": "display_data"
    },
    {
     "data": {
      "application/vnd.jupyter.widget-view+json": {
       "model_id": "29f6d7b8c1844b5395b81f51090e2c52",
       "version_major": 2,
       "version_minor": 0
      },
      "text/plain": [
       "HBox(children=(IntProgress(value=0, max=234), HTML(value='')))"
      ]
     },
     "metadata": {},
     "output_type": "display_data"
    },
    {
     "data": {
      "application/vnd.jupyter.widget-view+json": {
       "model_id": "8d2a4418e948464e94bebb4444669e81",
       "version_major": 2,
       "version_minor": 0
      },
      "text/plain": [
       "HBox(children=(IntProgress(value=0, max=234), HTML(value='')))"
      ]
     },
     "metadata": {},
     "output_type": "display_data"
    },
    {
     "data": {
      "application/vnd.jupyter.widget-view+json": {
       "model_id": "b449fb8cacfd414da888c2543341272c",
       "version_major": 2,
       "version_minor": 0
      },
      "text/plain": [
       "HBox(children=(IntProgress(value=0, max=234), HTML(value='')))"
      ]
     },
     "metadata": {},
     "output_type": "display_data"
    },
    {
     "data": {
      "application/vnd.jupyter.widget-view+json": {
       "model_id": "0fa7f81d89354ccf87e6eb3f9bd8fd20",
       "version_major": 2,
       "version_minor": 0
      },
      "text/plain": [
       "HBox(children=(IntProgress(value=0, max=234), HTML(value='')))"
      ]
     },
     "metadata": {},
     "output_type": "display_data"
    },
    {
     "name": "stdout",
     "output_type": "stream",
     "text": [
      "\n"
     ]
    },
    {
     "data": {
      "image/png": "[encoded data removed]",
      "text/plain": [
       "<Figure size 432x288 with 1 Axes>"
      ]
     },
     "metadata": {
      "needs_background": "light"
     },
     "output_type": "display_data"
    }
   ],
   "source": [
    "# Allocate the classifier.\n",
    "classifier = torch.nn.Sequential(\n",
    "    ConvolutionalLegoPiece(),\n",
    "    FullyConnectedLegoPiece(num_hidden=1000, num_classes=10))\n",
    "# Put the classifier on the GPU.\n",
    "classifier = classifier.to(device)\n",
    "# Allocate the optimizer.\n",
    "optimizer = torch.optim.Adam(classifier.parameters())\n",
    "\n",
    "num_epochs = 30\n",
    "validation_losses = []\n",
    "for epoch in tqdm(range(num_epochs)):\n",
    "    train(classifier, optimizer, dataset_train)\n",
    "    validation_loss = validate(classifier, dataset_validation)\n",
    "    validation_losses.append(validation_loss)\n",
    "    \n",
    "# Plot the validation loss.\n",
    "plt.plot(np.arange(len(validation_losses)), validation_losses, color=\"black\")\n",
    "plt.minorticks_on()\n",
    "plt.xlabel(\"Epochs\")\n",
    "plt.ylabel(\"Validation loss\")\n",
    "plt.show()"
   ]
  },
  {
   "cell_type": "markdown",
   "metadata": {},
   "source": [
    "### Regularization"
   ]
  },
  {
   "cell_type": "markdown",
   "metadata": {},
   "source": [
    "The model above seems to be overfitting, can we use some regularization techniques such as `torch.nn.Dropout` [[link]](https://pytorch.org/docs/stable/nn.html#dropout-layers) to prevent that?\n",
    "\n",
    "Lets change our convolutional Lego-piece:"
   ]
  },
  {
   "cell_type": "code",
   "execution_count": 44,
   "metadata": {},
   "outputs": [],
   "source": [
    "class BatchNormConvolutionalLegoPiece(torch.nn.Module):\n",
    "    \n",
    "    def __init__(self):\n",
    "        super(BatchNormConvolutionalLegoPiece, self).__init__()\n",
    "        self.piece = torch.nn.Sequential(\n",
    "            # First block.\n",
    "            torch.nn.Conv2d(in_channels=1, out_channels=20, kernel_size=5, stride=1),\n",
    "            torch.nn.BatchNorm2d(20), # Wouldn't call BatchNorm 'regularization', but ok.\n",
    "            torch.nn.ReLU(),\n",
    "            torch.nn.MaxPool2d(kernel_size=2), # Stride is set to `kernel_size` by default.\n",
    "            # Second block.\n",
    "            torch.nn.Conv2d(in_channels=20, out_channels=50, kernel_size=5, stride=1),\n",
    "            torch.nn.ReLU(),\n",
    "            torch.nn.MaxPool2d(kernel_size=2))\n",
    "        \n",
    "    def forward(self, images):\n",
    "        latents = self.piece(images)\n",
    "        \n",
    "        return latents"
   ]
  },
  {
   "cell_type": "markdown",
   "metadata": {},
   "source": [
    "Regularize the fully connected \"Lego-piece\":"
   ]
  },
  {
   "cell_type": "code",
   "execution_count": 29,
   "metadata": {},
   "outputs": [],
   "source": [
    "class RegularizedFullyConnectedLegoPiece(torch.nn.Module):\n",
    "    \n",
    "    def __init__(self, latent_dimensionality=4 * 4 * 50, num_hidden=1000, num_classes=10, p=0.5):\n",
    "        super(RegularizedFullyConnectedLegoPiece, self).__init__()\n",
    "        self.z_dim = latent_dimensionality\n",
    "        self.piece = torch.nn.Sequential(\n",
    "            torch.nn.Dropout(p=p),\n",
    "            torch.nn.Linear(self.z_dim, num_hidden),\n",
    "            torch.nn.ReLU(),\n",
    "            torch.nn.Dropout(p=p),\n",
    "            torch.nn.Linear(num_hidden, num_hidden),\n",
    "            torch.nn.ReLU(),\n",
    "            torch.nn.Dropout(p=p),\n",
    "            torch.nn.Linear(num_hidden, num_hidden),\n",
    "            torch.nn.ReLU(),\n",
    "            torch.nn.Linear(num_hidden, num_classes),\n",
    "            torch.nn.LogSoftmax(dim=1))\n",
    "        \n",
    "    def forward(self, latents):\n",
    "        latents = latents.view(-1, self.z_dim)\n",
    "        return self.piece(latents)"
   ]
  },
  {
   "cell_type": "markdown",
   "metadata": {},
   "source": [
    "Let's train this classifier!"
   ]
  },
  {
   "cell_type": "code",
   "execution_count": 30,
   "metadata": {},
   "outputs": [
    {
     "data": {
      "application/vnd.jupyter.widget-view+json": {
       "model_id": "b1a659c9ec4648469e0250d3c65ef501",
       "version_major": 2,
       "version_minor": 0
      },
      "text/plain": [
       "HBox(children=(IntProgress(value=0, max=30), HTML(value='')))"
      ]
     },
     "metadata": {},
     "output_type": "display_data"
    },
    {
     "data": {
      "application/vnd.jupyter.widget-view+json": {
       "model_id": "3533d027c46644c3b69ac9b9805f605b",
       "version_major": 2,
       "version_minor": 0
      },
      "text/plain": [
       "HBox(children=(IntProgress(value=0, max=234), HTML(value='')))"
      ]
     },
     "metadata": {},
     "output_type": "display_data"
    },
    {
     "data": {
      "application/vnd.jupyter.widget-view+json": {
       "model_id": "cd7052c29ad9427695a1b06df70ceae2",
       "version_major": 2,
       "version_minor": 0
      },
      "text/plain": [
       "HBox(children=(IntProgress(value=0, max=234), HTML(value='')))"
      ]
     },
     "metadata": {},
     "output_type": "display_data"
    },
    {
     "data": {
      "application/vnd.jupyter.widget-view+json": {
       "model_id": "cd7827591e994c0aa703dede6b340f93",
       "version_major": 2,
       "version_minor": 0
      },
      "text/plain": [
       "HBox(children=(IntProgress(value=0, max=234), HTML(value='')))"
      ]
     },
     "metadata": {},
     "output_type": "display_data"
    },
    {
     "data": {
      "application/vnd.jupyter.widget-view+json": {
       "model_id": "85aaee55b3fa4067a9cc7baf9a7feec6",
       "version_major": 2,
       "version_minor": 0
      },
      "text/plain": [
       "HBox(children=(IntProgress(value=0, max=234), HTML(value='')))"
      ]
     },
     "metadata": {},
     "output_type": "display_data"
    },
    {
     "data": {
      "application/vnd.jupyter.widget-view+json": {
       "model_id": "3699669be84b41cc9251b162cef8a1a0",
       "version_major": 2,
       "version_minor": 0
      },
      "text/plain": [
       "HBox(children=(IntProgress(value=0, max=234), HTML(value='')))"
      ]
     },
     "metadata": {},
     "output_type": "display_data"
    },
    {
     "data": {
      "application/vnd.jupyter.widget-view+json": {
       "model_id": "69d0d2efd7414b86af103f72d5e857d4",
       "version_major": 2,
       "version_minor": 0
      },
      "text/plain": [
       "HBox(children=(IntProgress(value=0, max=234), HTML(value='')))"
      ]
     },
     "metadata": {},
     "output_type": "display_data"
    },
    {
     "data": {
      "application/vnd.jupyter.widget-view+json": {
       "model_id": "866735ba42ab4b7e883d580d8b31764b",
       "version_major": 2,
       "version_minor": 0
      },
      "text/plain": [
       "HBox(children=(IntProgress(value=0, max=234), HTML(value='')))"
      ]
     },
     "metadata": {},
     "output_type": "display_data"
    },
    {
     "data": {
      "application/vnd.jupyter.widget-view+json": {
       "model_id": "ed9d2dbc6db846f6b224ac476dbebfb2",
       "version_major": 2,
       "version_minor": 0
      },
      "text/plain": [
       "HBox(children=(IntProgress(value=0, max=234), HTML(value='')))"
      ]
     },
     "metadata": {},
     "output_type": "display_data"
    },
    {
     "data": {
      "application/vnd.jupyter.widget-view+json": {
       "model_id": "30da9c667b2d44f99dfb2895c829ecca",
       "version_major": 2,
       "version_minor": 0
      },
      "text/plain": [
       "HBox(children=(IntProgress(value=0, max=234), HTML(value='')))"
      ]
     },
     "metadata": {},
     "output_type": "display_data"
    },
    {
     "data": {
      "application/vnd.jupyter.widget-view+json": {
       "model_id": "a131399ec07243f4ab8ac6a68000b134",
       "version_major": 2,
       "version_minor": 0
      },
      "text/plain": [
       "HBox(children=(IntProgress(value=0, max=234), HTML(value='')))"
      ]
     },
     "metadata": {},
     "output_type": "display_data"
    },
    {
     "data": {
      "application/vnd.jupyter.widget-view+json": {
       "model_id": "c2ee9326e35745b98ba9ea9372c992cb",
       "version_major": 2,
       "version_minor": 0
      },
      "text/plain": [
       "HBox(children=(IntProgress(value=0, max=234), HTML(value='')))"
      ]
     },
     "metadata": {},
     "output_type": "display_data"
    },
    {
     "data": {
      "application/vnd.jupyter.widget-view+json": {
       "model_id": "540495290c64430586326b77efbffd0e",
       "version_major": 2,
       "version_minor": 0
      },
      "text/plain": [
       "HBox(children=(IntProgress(value=0, max=234), HTML(value='')))"
      ]
     },
     "metadata": {},
     "output_type": "display_data"
    },
    {
     "data": {
      "application/vnd.jupyter.widget-view+json": {
       "model_id": "9e84cb004ed84b92809e3fadeff8dd49",
       "version_major": 2,
       "version_minor": 0
      },
      "text/plain": [
       "HBox(children=(IntProgress(value=0, max=234), HTML(value='')))"
      ]
     },
     "metadata": {},
     "output_type": "display_data"
    },
    {
     "data": {
      "application/vnd.jupyter.widget-view+json": {
       "model_id": "9423fa28abae415598422aeb3b03858e",
       "version_major": 2,
       "version_minor": 0
      },
      "text/plain": [
       "HBox(children=(IntProgress(value=0, max=234), HTML(value='')))"
      ]
     },
     "metadata": {},
     "output_type": "display_data"
    },
    {
     "data": {
      "application/vnd.jupyter.widget-view+json": {
       "model_id": "48b39fbcb6af44e0ac176d2a56840abe",
       "version_major": 2,
       "version_minor": 0
      },
      "text/plain": [
       "HBox(children=(IntProgress(value=0, max=234), HTML(value='')))"
      ]
     },
     "metadata": {},
     "output_type": "display_data"
    },
    {
     "data": {
      "application/vnd.jupyter.widget-view+json": {
       "model_id": "7b92494b0b854ba8969970b7a9d423e5",
       "version_major": 2,
       "version_minor": 0
      },
      "text/plain": [
       "HBox(children=(IntProgress(value=0, max=234), HTML(value='')))"
      ]
     },
     "metadata": {},
     "output_type": "display_data"
    },
    {
     "data": {
      "application/vnd.jupyter.widget-view+json": {
       "model_id": "9b87b001729e46d58218fade284ca704",
       "version_major": 2,
       "version_minor": 0
      },
      "text/plain": [
       "HBox(children=(IntProgress(value=0, max=234), HTML(value='')))"
      ]
     },
     "metadata": {},
     "output_type": "display_data"
    },
    {
     "data": {
      "application/vnd.jupyter.widget-view+json": {
       "model_id": "f6eda70fb999444da73403c382ff335b",
       "version_major": 2,
       "version_minor": 0
      },
      "text/plain": [
       "HBox(children=(IntProgress(value=0, max=234), HTML(value='')))"
      ]
     },
     "metadata": {},
     "output_type": "display_data"
    },
    {
     "data": {
      "application/vnd.jupyter.widget-view+json": {
       "model_id": "e7b214027ec543228a6800b9931534fb",
       "version_major": 2,
       "version_minor": 0
      },
      "text/plain": [
       "HBox(children=(IntProgress(value=0, max=234), HTML(value='')))"
      ]
     },
     "metadata": {},
     "output_type": "display_data"
    },
    {
     "data": {
      "application/vnd.jupyter.widget-view+json": {
       "model_id": "68c43b4ed4334a0c9781288b48819e4e",
       "version_major": 2,
       "version_minor": 0
      },
      "text/plain": [
       "HBox(children=(IntProgress(value=0, max=234), HTML(value='')))"
      ]
     },
     "metadata": {},
     "output_type": "display_data"
    },
    {
     "data": {
      "application/vnd.jupyter.widget-view+json": {
       "model_id": "2f6c22e8b0474b57ac4b4bd2a0a14bc7",
       "version_major": 2,
       "version_minor": 0
      },
      "text/plain": [
       "HBox(children=(IntProgress(value=0, max=234), HTML(value='')))"
      ]
     },
     "metadata": {},
     "output_type": "display_data"
    },
    {
     "data": {
      "application/vnd.jupyter.widget-view+json": {
       "model_id": "72ef83ea131143a192808c4e3efde610",
       "version_major": 2,
       "version_minor": 0
      },
      "text/plain": [
       "HBox(children=(IntProgress(value=0, max=234), HTML(value='')))"
      ]
     },
     "metadata": {},
     "output_type": "display_data"
    },
    {
     "data": {
      "application/vnd.jupyter.widget-view+json": {
       "model_id": "7e9f8ad2114845efa3cef2ee846da9a5",
       "version_major": 2,
       "version_minor": 0
      },
      "text/plain": [
       "HBox(children=(IntProgress(value=0, max=234), HTML(value='')))"
      ]
     },
     "metadata": {},
     "output_type": "display_data"
    },
    {
     "data": {
      "application/vnd.jupyter.widget-view+json": {
       "model_id": "0d8130c62635416eadbcbaffabc359ef",
       "version_major": 2,
       "version_minor": 0
      },
      "text/plain": [
       "HBox(children=(IntProgress(value=0, max=234), HTML(value='')))"
      ]
     },
     "metadata": {},
     "output_type": "display_data"
    },
    {
     "data": {
      "application/vnd.jupyter.widget-view+json": {
       "model_id": "50eacb98c8de465bbded8cf9022f41fd",
       "version_major": 2,
       "version_minor": 0
      },
      "text/plain": [
       "HBox(children=(IntProgress(value=0, max=234), HTML(value='')))"
      ]
     },
     "metadata": {},
     "output_type": "display_data"
    },
    {
     "data": {
      "application/vnd.jupyter.widget-view+json": {
       "model_id": "8803141cba464a1b948f83cbd28e44e4",
       "version_major": 2,
       "version_minor": 0
      },
      "text/plain": [
       "HBox(children=(IntProgress(value=0, max=234), HTML(value='')))"
      ]
     },
     "metadata": {},
     "output_type": "display_data"
    },
    {
     "data": {
      "application/vnd.jupyter.widget-view+json": {
       "model_id": "2650c22a8ec44a598eeef06e89ced376",
       "version_major": 2,
       "version_minor": 0
      },
      "text/plain": [
       "HBox(children=(IntProgress(value=0, max=234), HTML(value='')))"
      ]
     },
     "metadata": {},
     "output_type": "display_data"
    },
    {
     "data": {
      "application/vnd.jupyter.widget-view+json": {
       "model_id": "92523fded33b4978b3cfd519bd4cb7f0",
       "version_major": 2,
       "version_minor": 0
      },
      "text/plain": [
       "HBox(children=(IntProgress(value=0, max=234), HTML(value='')))"
      ]
     },
     "metadata": {},
     "output_type": "display_data"
    },
    {
     "data": {
      "application/vnd.jupyter.widget-view+json": {
       "model_id": "ddf4a74a133b416cb1076e4b559e3a48",
       "version_major": 2,
       "version_minor": 0
      },
      "text/plain": [
       "HBox(children=(IntProgress(value=0, max=234), HTML(value='')))"
      ]
     },
     "metadata": {},
     "output_type": "display_data"
    },
    {
     "data": {
      "application/vnd.jupyter.widget-view+json": {
       "model_id": "b984cf1b1210499fb4e0fa582364e02b",
       "version_major": 2,
       "version_minor": 0
      },
      "text/plain": [
       "HBox(children=(IntProgress(value=0, max=234), HTML(value='')))"
      ]
     },
     "metadata": {},
     "output_type": "display_data"
    },
    {
     "name": "stdout",
     "output_type": "stream",
     "text": [
      "\n"
     ]
    },
    {
     "data": {
      "image/png": "[encoded data removed]",
      "text/plain": [
       "<Figure size 432x288 with 1 Axes>"
      ]
     },
     "metadata": {
      "needs_background": "light"
     },
     "output_type": "display_data"
    }
   ],
   "source": [
    "# Allocate the classifier.\n",
    "classifier = torch.nn.Sequential(\n",
    "    BatchNormConvolutionalLegoPiece(),\n",
    "    RegularizedFullyConnectedLegoPiece(num_hidden=1000, num_classes=10))\n",
    "# Put the classifier on the GPU.\n",
    "classifier = classifier.to(device)\n",
    "# Allocate the optimizer.\n",
    "optimizer = torch.optim.Adam(classifier.parameters())\n",
    "\n",
    "num_epochs = 30\n",
    "validation_losses = []\n",
    "for epoch in tqdm(range(num_epochs)):\n",
    "    train(classifier, optimizer, dataset_train)\n",
    "    validation_loss = validate(classifier, dataset_validation)\n",
    "    validation_losses.append(validation_loss)\n",
    "    \n",
    "# Plot the validation loss.\n",
    "plt.plot(np.arange(len(validation_losses)), validation_losses, color=\"black\")\n",
    "plt.minorticks_on()\n",
    "plt.xlabel(\"Epochs\")\n",
    "plt.ylabel(\"Validation loss\")\n",
    "plt.show()"
   ]
  },
  {
   "cell_type": "markdown",
   "metadata": {},
   "source": [
    "No clear signs of overfitting (for 30 epochs at least)!"
   ]
  },
  {
   "cell_type": "markdown",
   "metadata": {},
   "source": [
    "### Saving and loading models (checkpointing)"
   ]
  },
  {
   "cell_type": "code",
   "execution_count": 31,
   "metadata": {},
   "outputs": [
    {
     "name": "stdout",
     "output_type": "stream",
     "text": [
      "mkdir: cannot create directory ‘models’: File exists\r\n"
     ]
    }
   ],
   "source": [
    "!mkdir models"
   ]
  },
  {
   "cell_type": "code",
   "execution_count": 32,
   "metadata": {},
   "outputs": [
    {
     "data": {
      "application/vnd.jupyter.widget-view+json": {
       "model_id": "a0e4e608895b4c21a3aec28db8395492",
       "version_major": 2,
       "version_minor": 0
      },
      "text/plain": [
       "HBox(children=(IntProgress(value=0, max=30), HTML(value='')))"
      ]
     },
     "metadata": {},
     "output_type": "display_data"
    },
    {
     "data": {
      "application/vnd.jupyter.widget-view+json": {
       "model_id": "dd649c3a7e5f4aa6a9115f02799a09ad",
       "version_major": 2,
       "version_minor": 0
      },
      "text/plain": [
       "HBox(children=(IntProgress(value=0, max=234), HTML(value='')))"
      ]
     },
     "metadata": {},
     "output_type": "display_data"
    },
    {
     "name": "stderr",
     "output_type": "stream",
     "text": [
      "/home/joeri/Anaconda/lib/python3.7/site-packages/torch/serialization.py:251: UserWarning: Couldn't retrieve source code for container of type BatchNormConvolutionalLegoPiece. It won't be checked for correctness upon loading.\n",
      "  \"type \" + obj.__name__ + \". It won't be checked \"\n",
      "/home/joeri/Anaconda/lib/python3.7/site-packages/torch/serialization.py:251: UserWarning: Couldn't retrieve source code for container of type RegularizedFullyConnectedLegoPiece. It won't be checked for correctness upon loading.\n",
      "  \"type \" + obj.__name__ + \". It won't be checked \"\n"
     ]
    },
    {
     "data": {
      "application/vnd.jupyter.widget-view+json": {
       "model_id": "40ff515922914b3bbb5860d729c51eb1",
       "version_major": 2,
       "version_minor": 0
      },
      "text/plain": [
       "HBox(children=(IntProgress(value=0, max=234), HTML(value='')))"
      ]
     },
     "metadata": {},
     "output_type": "display_data"
    },
    {
     "data": {
      "application/vnd.jupyter.widget-view+json": {
       "model_id": "235d0dfdb3a44dca870b03f79ea9a774",
       "version_major": 2,
       "version_minor": 0
      },
      "text/plain": [
       "HBox(children=(IntProgress(value=0, max=234), HTML(value='')))"
      ]
     },
     "metadata": {},
     "output_type": "display_data"
    },
    {
     "data": {
      "application/vnd.jupyter.widget-view+json": {
       "model_id": "2d0c62d8101344a8b7305516af9062f6",
       "version_major": 2,
       "version_minor": 0
      },
      "text/plain": [
       "HBox(children=(IntProgress(value=0, max=234), HTML(value='')))"
      ]
     },
     "metadata": {},
     "output_type": "display_data"
    },
    {
     "data": {
      "application/vnd.jupyter.widget-view+json": {
       "model_id": "35e3b60a4f94490ba4c1403ef01fa75e",
       "version_major": 2,
       "version_minor": 0
      },
      "text/plain": [
       "HBox(children=(IntProgress(value=0, max=234), HTML(value='')))"
      ]
     },
     "metadata": {},
     "output_type": "display_data"
    },
    {
     "data": {
      "application/vnd.jupyter.widget-view+json": {
       "model_id": "05cf6677d79f4a3985ae815b5dcf6691",
       "version_major": 2,
       "version_minor": 0
      },
      "text/plain": [
       "HBox(children=(IntProgress(value=0, max=234), HTML(value='')))"
      ]
     },
     "metadata": {},
     "output_type": "display_data"
    },
    {
     "data": {
      "application/vnd.jupyter.widget-view+json": {
       "model_id": "b2cb94bdb1e748019fae8418eb90aac7",
       "version_major": 2,
       "version_minor": 0
      },
      "text/plain": [
       "HBox(children=(IntProgress(value=0, max=234), HTML(value='')))"
      ]
     },
     "metadata": {},
     "output_type": "display_data"
    },
    {
     "data": {
      "application/vnd.jupyter.widget-view+json": {
       "model_id": "f8e289b72c664965ba591a4f6086d637",
       "version_major": 2,
       "version_minor": 0
      },
      "text/plain": [
       "HBox(children=(IntProgress(value=0, max=234), HTML(value='')))"
      ]
     },
     "metadata": {},
     "output_type": "display_data"
    },
    {
     "data": {
      "application/vnd.jupyter.widget-view+json": {
       "model_id": "68151105bc274d48b67d210d6c3a074b",
       "version_major": 2,
       "version_minor": 0
      },
      "text/plain": [
       "HBox(children=(IntProgress(value=0, max=234), HTML(value='')))"
      ]
     },
     "metadata": {},
     "output_type": "display_data"
    },
    {
     "data": {
      "application/vnd.jupyter.widget-view+json": {
       "model_id": "86777e4c055a48798b4b46134652c1ba",
       "version_major": 2,
       "version_minor": 0
      },
      "text/plain": [
       "HBox(children=(IntProgress(value=0, max=234), HTML(value='')))"
      ]
     },
     "metadata": {},
     "output_type": "display_data"
    },
    {
     "data": {
      "application/vnd.jupyter.widget-view+json": {
       "model_id": "b2adaf95c7da4fcfb8d0db41e1c4f546",
       "version_major": 2,
       "version_minor": 0
      },
      "text/plain": [
       "HBox(children=(IntProgress(value=0, max=234), HTML(value='')))"
      ]
     },
     "metadata": {},
     "output_type": "display_data"
    },
    {
     "data": {
      "application/vnd.jupyter.widget-view+json": {
       "model_id": "46b67389f9594fd6a7c2115870fa1ad7",
       "version_major": 2,
       "version_minor": 0
      },
      "text/plain": [
       "HBox(children=(IntProgress(value=0, max=234), HTML(value='')))"
      ]
     },
     "metadata": {},
     "output_type": "display_data"
    },
    {
     "data": {
      "application/vnd.jupyter.widget-view+json": {
       "model_id": "5dcd3741d2a34280b3393ede8bbb8368",
       "version_major": 2,
       "version_minor": 0
      },
      "text/plain": [
       "HBox(children=(IntProgress(value=0, max=234), HTML(value='')))"
      ]
     },
     "metadata": {},
     "output_type": "display_data"
    },
    {
     "data": {
      "application/vnd.jupyter.widget-view+json": {
       "model_id": "7c1a52defb7d4a2f9396b6610b2ac769",
       "version_major": 2,
       "version_minor": 0
      },
      "text/plain": [
       "HBox(children=(IntProgress(value=0, max=234), HTML(value='')))"
      ]
     },
     "metadata": {},
     "output_type": "display_data"
    },
    {
     "data": {
      "application/vnd.jupyter.widget-view+json": {
       "model_id": "3e0cdc7bd23f408eac1ccedee469134a",
       "version_major": 2,
       "version_minor": 0
      },
      "text/plain": [
       "HBox(children=(IntProgress(value=0, max=234), HTML(value='')))"
      ]
     },
     "metadata": {},
     "output_type": "display_data"
    },
    {
     "data": {
      "application/vnd.jupyter.widget-view+json": {
       "model_id": "152eb76ea27d4f01a0ddbd696d3264ee",
       "version_major": 2,
       "version_minor": 0
      },
      "text/plain": [
       "HBox(children=(IntProgress(value=0, max=234), HTML(value='')))"
      ]
     },
     "metadata": {},
     "output_type": "display_data"
    },
    {
     "data": {
      "application/vnd.jupyter.widget-view+json": {
       "model_id": "0d2d106db3ff4e51b3b832bbf8c2cb99",
       "version_major": 2,
       "version_minor": 0
      },
      "text/plain": [
       "HBox(children=(IntProgress(value=0, max=234), HTML(value='')))"
      ]
     },
     "metadata": {},
     "output_type": "display_data"
    },
    {
     "data": {
      "application/vnd.jupyter.widget-view+json": {
       "model_id": "58c041df460e489fbe38944bcff142c5",
       "version_major": 2,
       "version_minor": 0
      },
      "text/plain": [
       "HBox(children=(IntProgress(value=0, max=234), HTML(value='')))"
      ]
     },
     "metadata": {},
     "output_type": "display_data"
    },
    {
     "data": {
      "application/vnd.jupyter.widget-view+json": {
       "model_id": "15568ff4e66949dcb4f178a547d0d5f8",
       "version_major": 2,
       "version_minor": 0
      },
      "text/plain": [
       "HBox(children=(IntProgress(value=0, max=234), HTML(value='')))"
      ]
     },
     "metadata": {},
     "output_type": "display_data"
    },
    {
     "data": {
      "application/vnd.jupyter.widget-view+json": {
       "model_id": "d250bd83ce1f4ab1bbe82db61a36fe55",
       "version_major": 2,
       "version_minor": 0
      },
      "text/plain": [
       "HBox(children=(IntProgress(value=0, max=234), HTML(value='')))"
      ]
     },
     "metadata": {},
     "output_type": "display_data"
    },
    {
     "data": {
      "application/vnd.jupyter.widget-view+json": {
       "model_id": "8fcb113c2136489a96ff8a698092090a",
       "version_major": 2,
       "version_minor": 0
      },
      "text/plain": [
       "HBox(children=(IntProgress(value=0, max=234), HTML(value='')))"
      ]
     },
     "metadata": {},
     "output_type": "display_data"
    },
    {
     "data": {
      "application/vnd.jupyter.widget-view+json": {
       "model_id": "e798a3151b8245f4b551605907edc67b",
       "version_major": 2,
       "version_minor": 0
      },
      "text/plain": [
       "HBox(children=(IntProgress(value=0, max=234), HTML(value='')))"
      ]
     },
     "metadata": {},
     "output_type": "display_data"
    },
    {
     "data": {
      "application/vnd.jupyter.widget-view+json": {
       "model_id": "b57837153a9c4fe7973ed9d32608ed4b",
       "version_major": 2,
       "version_minor": 0
      },
      "text/plain": [
       "HBox(children=(IntProgress(value=0, max=234), HTML(value='')))"
      ]
     },
     "metadata": {},
     "output_type": "display_data"
    },
    {
     "data": {
      "application/vnd.jupyter.widget-view+json": {
       "model_id": "b5138806cde64df2898348164ff0aab4",
       "version_major": 2,
       "version_minor": 0
      },
      "text/plain": [
       "HBox(children=(IntProgress(value=0, max=234), HTML(value='')))"
      ]
     },
     "metadata": {},
     "output_type": "display_data"
    },
    {
     "data": {
      "application/vnd.jupyter.widget-view+json": {
       "model_id": "fda6b843732c4e39ad269d2159c0abed",
       "version_major": 2,
       "version_minor": 0
      },
      "text/plain": [
       "HBox(children=(IntProgress(value=0, max=234), HTML(value='')))"
      ]
     },
     "metadata": {},
     "output_type": "display_data"
    },
    {
     "data": {
      "application/vnd.jupyter.widget-view+json": {
       "model_id": "a439b3652a164421bd1e9b21734e8ada",
       "version_major": 2,
       "version_minor": 0
      },
      "text/plain": [
       "HBox(children=(IntProgress(value=0, max=234), HTML(value='')))"
      ]
     },
     "metadata": {},
     "output_type": "display_data"
    },
    {
     "data": {
      "application/vnd.jupyter.widget-view+json": {
       "model_id": "145741bb6c2a422dbc3fb3051c83985d",
       "version_major": 2,
       "version_minor": 0
      },
      "text/plain": [
       "HBox(children=(IntProgress(value=0, max=234), HTML(value='')))"
      ]
     },
     "metadata": {},
     "output_type": "display_data"
    },
    {
     "data": {
      "application/vnd.jupyter.widget-view+json": {
       "model_id": "6f7d8b9cb8ab4a29b417c7e6b2ad3454",
       "version_major": 2,
       "version_minor": 0
      },
      "text/plain": [
       "HBox(children=(IntProgress(value=0, max=234), HTML(value='')))"
      ]
     },
     "metadata": {},
     "output_type": "display_data"
    },
    {
     "data": {
      "application/vnd.jupyter.widget-view+json": {
       "model_id": "917f12cc48564724bf49a194353ddce4",
       "version_major": 2,
       "version_minor": 0
      },
      "text/plain": [
       "HBox(children=(IntProgress(value=0, max=234), HTML(value='')))"
      ]
     },
     "metadata": {},
     "output_type": "display_data"
    },
    {
     "data": {
      "application/vnd.jupyter.widget-view+json": {
       "model_id": "5325e77ac8ba451b800464f1244c4b58",
       "version_major": 2,
       "version_minor": 0
      },
      "text/plain": [
       "HBox(children=(IntProgress(value=0, max=234), HTML(value='')))"
      ]
     },
     "metadata": {},
     "output_type": "display_data"
    },
    {
     "name": "stdout",
     "output_type": "stream",
     "text": [
      "\n"
     ]
    },
    {
     "data": {
      "image/png": "[encoded data removed]",
      "text/plain": [
       "<Figure size 432x288 with 1 Axes>"
      ]
     },
     "metadata": {
      "needs_background": "light"
     },
     "output_type": "display_data"
    }
   ],
   "source": [
    "# Allocate the classifier.\n",
    "classifier = torch.nn.Sequential(\n",
    "    BatchNormConvolutionalLegoPiece(),\n",
    "    RegularizedFullyConnectedLegoPiece(num_hidden=1000, num_classes=10))\n",
    "# Put the classifier on the GPU.\n",
    "classifier = classifier.to(device)\n",
    "# Allocate the optimizer.\n",
    "optimizer = torch.optim.Adam(classifier.parameters())\n",
    "\n",
    "num_epochs = 30\n",
    "validation_losses = []\n",
    "for epoch in tqdm(range(num_epochs)):\n",
    "    train(classifier, optimizer, dataset_train)\n",
    "    validation_loss = validate(classifier, dataset_validation)\n",
    "    torch.save(classifier, \"models/\" + str(epoch) + \".model\")\n",
    "    validation_losses.append(validation_loss)\n",
    "    \n",
    "# Plot the validation loss.\n",
    "plt.plot(np.arange(len(validation_losses)), validation_losses, color=\"black\")\n",
    "plt.minorticks_on()\n",
    "plt.xlabel(\"Epochs\")\n",
    "plt.ylabel(\"Validation loss\")\n",
    "plt.show()"
   ]
  },
  {
   "cell_type": "code",
   "execution_count": 33,
   "metadata": {},
   "outputs": [
    {
     "name": "stdout",
     "output_type": "stream",
     "text": [
      "0.model   13.model  17.model  20.model\t24.model  28.model  4.model  8.model\r\n",
      "10.model  14.model  18.model  21.model\t25.model  29.model  5.model  9.model\r\n",
      "11.model  15.model  19.model  22.model\t26.model  2.model   6.model\r\n",
      "12.model  16.model  1.model   23.model\t27.model  3.model   7.model\r\n"
     ]
    }
   ],
   "source": [
    "!ls models"
   ]
  },
  {
   "cell_type": "code",
   "execution_count": 34,
   "metadata": {},
   "outputs": [
    {
     "data": {
      "image/png": "[encoded data removed]",
      "text/plain": [
       "<Figure size 432x288 with 1 Axes>"
      ]
     },
     "metadata": {
      "needs_background": "light"
     },
     "output_type": "display_data"
    },
    {
     "name": "stdout",
     "output_type": "stream",
     "text": [
      "Predicted digit: 4\n"
     ]
    }
   ],
   "source": [
    "classifier = torch.load(\"models/29.model\")\n",
    "classifier.eval() # Set in \"evaluation\" mode. Important!!\n",
    "\n",
    "# Show the input\n",
    "data_index = random.randint(0, 60000)\n",
    "inputs = dataset_train[data_index][0].view(1, 1, 28, 28).cuda()\n",
    "plt.imshow(inputs.view(28, 28).cpu().numpy(), cmap=\"gist_gray\")\n",
    "plt.show()\n",
    "\n",
    "print(\"Predicted digit:\", classifier(inputs).exp().max(1)[1].item())"
   ]
  },
  {
   "cell_type": "markdown",
   "metadata": {},
   "source": [
    "## Tensorboard"
   ]
  },
  {
   "cell_type": "markdown",
   "metadata": {},
   "source": [
    "`pip install tensorboard`\n",
    "\n",
    "`pip install tensorboardX` (for PyTorch and other frameworks)"
   ]
  },
  {
   "cell_type": "markdown",
   "metadata": {},
   "source": [
    "Start the instance using `tensorboard --logdir='/path/to/runs' --port=8000`"
   ]
  },
  {
   "cell_type": "code",
   "execution_count": 35,
   "metadata": {},
   "outputs": [],
   "source": [
    "!rm -r runs"
   ]
  },
  {
   "cell_type": "code",
   "execution_count": 36,
   "metadata": {},
   "outputs": [],
   "source": [
    "from tensorboardX import SummaryWriter\n",
    "\n",
    "writer = SummaryWriter()"
   ]
  },
  {
   "cell_type": "code",
   "execution_count": 37,
   "metadata": {},
   "outputs": [],
   "source": [
    "log_iteration = 0\n",
    "\n",
    "def log_loss(loss):\n",
    "    global log_iteration\n",
    "    writer.add_scalar(\"training/loss\", loss, log_iteration)\n",
    "    log_iteration += 1\n",
    "    \n",
    "def log_validation(loss):\n",
    "    global log_iteration\n",
    "    writer.add_scalar(\"validation/loss\", loss, log_iteration)\n",
    "\n",
    "def train(model, optimizer, dataset, batch_size=256, workers=4):\n",
    "    model.train() # Ensure all modules are in `training` mode.\n",
    "    data_loader = torch.utils.data.DataLoader(dataset, shuffle=True, batch_size=batch_size, num_workers=workers, pin_memory=True)\n",
    "    data_loader = iter(data_loader)\n",
    "    # Compute the loss in the GPU.\n",
    "    criterion = torch.nn.NLLLoss().to(device)\n",
    "    iterations = range(len(dataset) // batch_size)\n",
    "    for batch_index in iterations:\n",
    "        inputs, targets = next(data_loader)\n",
    "        # Transfer to the GPU.\n",
    "        inputs = inputs.to(device)\n",
    "        targets = targets.to(device)\n",
    "        prediction = model(inputs)\n",
    "        loss = criterion(prediction, targets)\n",
    "        optimizer.zero_grad()\n",
    "        loss.backward()\n",
    "        optimizer.step()\n",
    "        # Log to Tensorboard.\n",
    "        log_loss(loss.item())\n",
    "        \n",
    "def validate(model, dataset):\n",
    "    model.eval() # Set the model in 'evaluation' model.\n",
    "    data_loader = torch.utils.data.DataLoader(dataset, shuffle=True, batch_size=32, num_workers=4, pin_memory=True)\n",
    "    total_loss = 0\n",
    "    criterion = torch.nn.NLLLoss(reduction=\"sum\").to(device)\n",
    "    with torch.no_grad():\n",
    "        for inputs, targets in data_loader:\n",
    "            inputs = inputs.to(device)\n",
    "            targets = targets.to(device)\n",
    "            outputs = model(inputs)\n",
    "            loss = criterion(outputs, targets).item()\n",
    "            total_loss += loss\n",
    "        total_loss /= len(dataset)\n",
    "        log_validation(total_loss) # Log to Tensorboard.\n",
    "    \n",
    "    return total_loss"
   ]
  },
  {
   "cell_type": "code",
   "execution_count": 38,
   "metadata": {},
   "outputs": [],
   "source": [
    "# Allocate the classifier.\n",
    "classifier = torch.nn.Sequential(\n",
    "    BatchNormConvolutionalLegoPiece(),\n",
    "    RegularizedFullyConnectedLegoPiece(num_hidden=1000, num_classes=10))\n",
    "# Put the classifier on the GPU.\n",
    "classifier = classifier.to(device)\n",
    "# Allocate the optimizer.\n",
    "optimizer = torch.optim.Adam(classifier.parameters())\n",
    "\n",
    "num_epochs = 30\n",
    "validation_losses = []\n",
    "for epoch in range(num_epochs):\n",
    "    train(classifier, optimizer, dataset_train)\n",
    "    validation_loss = validate(classifier, dataset_validation)\n",
    "    validation_losses.append(validation_loss)"
   ]
  },
  {
   "cell_type": "code",
   "execution_count": 39,
   "metadata": {},
   "outputs": [],
   "source": [
    "# Clean up everything.\n",
    "writer.close()"
   ]
  },
  {
   "cell_type": "markdown",
   "metadata": {},
   "source": [
    "<br><br><br><br><center><h1>Have fun!</h1></center>"
   ]
  }
 ],
 "metadata": {
  "kernelspec": {
   "display_name": "Python 3",
   "language": "python",
   "name": "python3"
  },
  "language_info": {
   "codemirror_mode": {
    "name": "ipython",
    "version": 3
   },
   "file_extension": ".py",
   "mimetype": "text/x-python",
   "name": "python",
   "nbconvert_exporter": "python",
   "pygments_lexer": "ipython3",
   "version": "3.7.1"
  }
 },
 "nbformat": 4,
 "nbformat_minor": 2
}
