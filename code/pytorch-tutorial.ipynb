{
 "cells": [
  {
   "cell_type": "markdown",
   "metadata": {},
   "source": [
    "# INFO8010 Deep Learning - An introduction to PyTorch\n",
    "*Joeri Hermans*<br>\n",
    "*University of Liège, Belgium*<br>\n",
    "[joeri.hermans@doct.uliege.be](mailto:joeri.hermans@doct.uliege.be)"
   ]
  },
  {
   "cell_type": "code",
   "execution_count": 1,
   "metadata": {},
   "outputs": [
    {
     "name": "stdout",
     "output_type": "stream",
     "text": [
      "Thu Mar 14 19:56:41 CET 2019\r\n"
     ]
    }
   ],
   "source": [
    "!date"
   ]
  },
  {
   "cell_type": "markdown",
   "metadata": {},
   "source": [
    "## Front matter\n",
    "\n",
    "The PyTorch documentation provides a great resource and is significantly more detailed than this lecture. Introductory concepts include:\n",
    "- [Main concepts such as `tensors` and `autograd`](https://pytorch.org/tutorials/beginner/pytorch_with_examples.html).\n",
    "- A 60-minute [crash-course](https://pytorch.org/tutorials/beginner/deep_learning_60min_blitz.html) covering the main usage.\n",
    "- [Loading and processing data](https://pytorch.org/tutorials/beginner/data_loading_tutorial.html).\n",
    "- [Saving and loading models](https://pytorch.org/tutorials/beginner/saving_loading_models.html).\n",
    "- [Syntactic sugar with torch.nn](https://pytorch.org/tutorials/beginner/nn_tutorial.html).\n",
    "- [Transfer learning](https://pytorch.org/tutorials/beginner/transfer_learning_tutorial.html).\n",
    "- [Building a chatbot model](https://pytorch.org/tutorials/beginner/chatbot_tutorial.html).\n",
    "- [Deploying a Seq2Seq model (chatbot) with the Hybrid frontend -> \"compile\" to graph](https://pytorch.org/tutorials/beginner/deploy_seq2seq_hybrid_frontend_tutorial.html).\n",
    "- [Generative Adversarial Networks (DCGAN) using the faces dataset](https://pytorch.org/tutorials/beginner/dcgan_faces_tutorial.html).\n",
    "- [Reinforcement learning (DQN) tutorial](https://pytorch.org/tutorials/intermediate/reinforcement_q_learning.html).\n",
    "- [Writing distributed applications](https://pytorch.org/tutorials/intermediate/dist_tuto.html).\n",
    "- [Distributed training](https://pytorch.org/tutorials/beginner/aws_distributed_training_tutorial.html) (including multi-GPU).\n",
    "- [ONNX](https://pytorch.org/tutorials/advanced/ONNXLive.html) (standard to describe models, useful to transfer between frameworks).\n",
    "- [Using the C++ API](https://pytorch.org/tutorials/advanced/cpp_frontend.html).\n",
    "\n",
    "And many more in PyTorch's [examples](https://github.com/pytorch/examples) GitHub repository. Check it out!"
   ]
  },
  {
   "cell_type": "markdown",
   "metadata": {},
   "source": [
    "## Requirements\n",
    "\n",
    "- [Anaconda](https://www.anaconda.com/distribution/) Python environment (optional, but recommended). Please do not use `Python 2.7`.\n",
    "- [PyTorch](https://pytorch.org/get-started/locally/) according to your system configuration."
   ]
  },
  {
   "cell_type": "markdown",
   "metadata": {},
   "source": [
    "## Let's start"
   ]
  },
  {
   "cell_type": "markdown",
   "metadata": {},
   "source": [
    "Have you ever used **numpy** before?"
   ]
  },
  {
   "cell_type": "code",
   "execution_count": 2,
   "metadata": {},
   "outputs": [],
   "source": [
    "import numpy as np"
   ]
  },
  {
   "cell_type": "markdown",
   "metadata": {},
   "source": [
    "> NumPy’s main object is the homogeneous multidimensional array. It is a table of elements (usually numbers), all of the same type."
   ]
  },
  {
   "cell_type": "code",
   "execution_count": 3,
   "metadata": {},
   "outputs": [
    {
     "data": {
      "text/plain": [
       "array([[ 0.32047051,  0.47874654,  0.59698832],\n",
       "       [ 0.8223334 ,  0.35458405, -0.5012327 ],\n",
       "       [-0.20760932,  1.27822624,  1.43864095]])"
      ]
     },
     "execution_count": 3,
     "metadata": {},
     "output_type": "execute_result"
    }
   ],
   "source": [
    "# A 5x5 matrix of samples from Normal(mu=0, sigma=1).\n",
    "m = np.random.randn(3, 3)\n",
    "\n",
    "m"
   ]
  },
  {
   "cell_type": "markdown",
   "metadata": {},
   "source": [
    "In fact, from an conceptual point-of-view, `pytorch` and `numpy` are quite similar."
   ]
  },
  {
   "cell_type": "code",
   "execution_count": 4,
   "metadata": {},
   "outputs": [],
   "source": [
    "import torch"
   ]
  },
  {
   "cell_type": "markdown",
   "metadata": {},
   "source": [
    "> A `tensor` is an n-dimensional array."
   ]
  },
  {
   "cell_type": "code",
   "execution_count": 5,
   "metadata": {},
   "outputs": [
    {
     "data": {
      "text/plain": [
       "tensor([[ 0.3205,  0.4787,  0.5970],\n",
       "        [ 0.8223,  0.3546, -0.5012],\n",
       "        [-0.2076,  1.2782,  1.4386]])"
      ]
     },
     "execution_count": 5,
     "metadata": {},
     "output_type": "execute_result"
    }
   ],
   "source": [
    "# A 5x5 tensor of samples from Normal(mu=0, sigma=1).\n",
    "#t = torch.randn(3, 3)\n",
    "#t = torch.from_numpy(m)\n",
    "#t = torch.from_numpy(m).float()\n",
    "t = torch.tensor(m, dtype=torch.float32)\n",
    "\n",
    "t"
   ]
  },
  {
   "cell_type": "markdown",
   "metadata": {},
   "source": [
    "Because of the similarities in the API, I personally use `pytorch` instead of `numpy` for computing projects because of the GPU acceleration. \n",
    "\n",
    "Consider the multiplication of the matrix `m`. In `numpy` this is:"
   ]
  },
  {
   "cell_type": "code",
   "execution_count": 6,
   "metadata": {},
   "outputs": [
    {
     "data": {
      "text/plain": [
       "array([[ 0.37245028,  1.08626617,  0.81020558],\n",
       "       [ 0.65918049, -0.12126967, -0.40789957],\n",
       "       [ 0.6859202 ,  2.192755  ,  1.30505866]])"
      ]
     },
     "execution_count": 6,
     "metadata": {},
     "output_type": "execute_result"
    }
   ],
   "source": [
    "np.matmul(m, m)"
   ]
  },
  {
   "cell_type": "markdown",
   "metadata": {},
   "source": [
    "In `pytorch`:"
   ]
  },
  {
   "cell_type": "code",
   "execution_count": 7,
   "metadata": {},
   "outputs": [
    {
     "data": {
      "text/plain": [
       "tensor([[ 0.3725,  1.0863,  0.8102],\n",
       "        [ 0.6592, -0.1213, -0.4079],\n",
       "        [ 0.6859,  2.1928,  1.3051]])"
      ]
     },
     "execution_count": 7,
     "metadata": {},
     "output_type": "execute_result"
    }
   ],
   "source": [
    "torch.matmul(t, t)"
   ]
  },
  {
   "cell_type": "markdown",
   "metadata": {},
   "source": [
    "Alternatively, you can apply an operation on the `tensor` itself:"
   ]
  },
  {
   "cell_type": "code",
   "execution_count": 8,
   "metadata": {},
   "outputs": [
    {
     "data": {
      "text/plain": [
       "tensor([[ 0.3725,  1.0863,  0.8102],\n",
       "        [ 0.6592, -0.1213, -0.4079],\n",
       "        [ 0.6859,  2.1928,  1.3051]])"
      ]
     },
     "execution_count": 8,
     "metadata": {},
     "output_type": "execute_result"
    }
   ],
   "source": [
    "t.matmul(t)"
   ]
  },
  {
   "cell_type": "markdown",
   "metadata": {},
   "source": [
    "## A simple neural network\n",
    "\n",
    "In this section we will train a simple MLP (multilayered perceptron) with `ReLU` activations. To train the network, we implement gradient descent by hand."
   ]
  },
  {
   "cell_type": "code",
   "execution_count": 9,
   "metadata": {},
   "outputs": [],
   "source": [
    "# To draw a progress bar.\n",
    "from tqdm import tqdm_notebook as tqdm\n",
    "# Plotting functionality\n",
    "import matplotlib.pyplot as plt\n",
    "\n",
    "# Optimization hyperparameters.\n",
    "batch_size = 32\n",
    "learning_rate = 1e-6\n",
    "training_iterations = range(5000)\n",
    "\n",
    "# Configuration of the neural network.\n",
    "num_hidden = 1000\n",
    "num_in = 100\n",
    "num_out = 1"
   ]
  },
  {
   "cell_type": "markdown",
   "metadata": {},
   "source": [
    "### `numpy`"
   ]
  },
  {
   "cell_type": "code",
   "execution_count": 10,
   "metadata": {},
   "outputs": [
    {
     "data": {
      "application/vnd.jupyter.widget-view+json": {
       "model_id": "a239ae341bd0492cad01335ccd5d841a",
       "version_major": 2,
       "version_minor": 0
      },
      "text/plain": [
       "HBox(children=(IntProgress(value=0, max=5000), HTML(value='')))"
      ]
     },
     "metadata": {},
     "output_type": "display_data"
    },
    {
     "name": "stdout",
     "output_type": "stream",
     "text": [
      "\n"
     ]
    },
    {
     "data": {
      "image/png": "[encoded data removed]",
      "text/plain": [
       "<Figure size 432x288 with 1 Axes>"
      ]
     },
     "metadata": {
      "needs_background": "light"
     },
     "output_type": "display_data"
    }
   ],
   "source": [
    "# Randomly initialize the weights.\n",
    "w_1 = np.random.randn(num_in, num_hidden) # input -> hidden\n",
    "w_2 = np.random.randn(num_hidden, num_out) # hidden -> output\n",
    "\n",
    "losses = []\n",
    "for iteration in tqdm(training_iterations):\n",
    "    # Fetch the input and corresponding output.\n",
    "    inputs = np.random.randn(batch_size, num_in)\n",
    "    targets = np.random.randn(batch_size, num_out)\n",
    "    \n",
    "    # Apply the `forward` computation of the neural network (compute the prediction).\n",
    "    h = np.matmul(inputs, w_1) # You could also do `inputs.dot(w_1)`.\n",
    "    activation = np.maximum(h, 0)\n",
    "    y_predicted = np.matmul(activation, w_2)\n",
    "    \n",
    "    # Compute loss.\n",
    "    diff = y_predicted - targets\n",
    "    loss = np.square(diff).mean()\n",
    "    losses.append(loss)\n",
    "    \n",
    "    # Apply backpropagation.\n",
    "    grad_y_prediction = 2 * diff\n",
    "    grad_w_2 = np.matmul(activation.T, grad_y_prediction)\n",
    "    grad_activation = np.matmul(grad_y_prediction, w_2.T)\n",
    "    grad_h = grad_activation.copy()\n",
    "    grad_h[h < 0] = 0 # Gradient of ReLU is h (except for activations < 0, then it is 0).\n",
    "    grad_w_1 = np.matmul(inputs.T, grad_h)\n",
    "    \n",
    "    # Update the weights.\n",
    "    w_1 -= learning_rate * grad_w_1\n",
    "    w_2 -= learning_rate * grad_w_2\n",
    "    \n",
    "# Show the loss over the training iterations.\n",
    "plt.plot(training_iterations, losses, color=\"black\")\n",
    "plt.minorticks_on()\n",
    "plt.yscale(\"log\")\n",
    "plt.xlabel(\"Iterations\")\n",
    "plt.ylabel(\"Loss\")\n",
    "plt.grid(True, alpha=.2)\n",
    "plt.show()"
   ]
  },
  {
   "cell_type": "markdown",
   "metadata": {},
   "source": [
    "### `pytorch` (no autograd)"
   ]
  },
  {
   "cell_type": "code",
   "execution_count": 11,
   "metadata": {},
   "outputs": [
    {
     "data": {
      "application/vnd.jupyter.widget-view+json": {
       "model_id": "b714637af4b0480cb61d20150dcdcda9",
       "version_major": 2,
       "version_minor": 0
      },
      "text/plain": [
       "HBox(children=(IntProgress(value=0, max=5000), HTML(value='')))"
      ]
     },
     "metadata": {},
     "output_type": "display_data"
    },
    {
     "name": "stdout",
     "output_type": "stream",
     "text": [
      "\n"
     ]
    },
    {
     "data": {
      "image/png": "[encoded data removed]",
      "text/plain": [
       "<Figure size 432x288 with 1 Axes>"
      ]
     },
     "metadata": {
      "needs_background": "light"
     },
     "output_type": "display_data"
    }
   ],
   "source": [
    "# Randomly initialize the weights.\n",
    "w_1 = torch.randn(num_in, num_hidden) # input -> hidden\n",
    "w_2 = torch.randn(num_hidden, num_out) # hidden -> output\n",
    "\n",
    "losses = []\n",
    "for iteration in tqdm(training_iterations):\n",
    "    # Fetch the input and corresponding output.\n",
    "    inputs = torch.randn(batch_size, num_in)\n",
    "    targets = torch.randn(batch_size, num_out)\n",
    "    \n",
    "    # Apply the `forward` computation of the neural network (compute the prediction).\n",
    "    h = torch.matmul(inputs, w_1)\n",
    "    activation = torch.clamp(h, min=0)\n",
    "    y_predicted = torch.matmul(activation, w_2)\n",
    "    \n",
    "    # Compute loss.\n",
    "    diff = y_predicted - targets\n",
    "    loss = torch.pow(diff, 2).mean()\n",
    "    losses.append(loss)\n",
    "    \n",
    "    # Apply backpropagation.\n",
    "    grad_y_prediction = 2 * diff\n",
    "    grad_w_2 = torch.matmul(activation.t(), grad_y_prediction)\n",
    "    grad_activation = torch.matmul(grad_y_prediction, w_2.t())\n",
    "    grad_h = grad_activation.clone()\n",
    "    grad_h[h < 0] = 0 # Gradient of ReLU is h (except for activations < 0, then it is 0).\n",
    "    grad_w_1 = torch.matmul(inputs.t(), grad_h)\n",
    "    \n",
    "    # Update the weights.\n",
    "    w_1 -= learning_rate * grad_w_1\n",
    "    w_2 -= learning_rate * grad_w_2\n",
    "    \n",
    "# Show the loss over the training iterations.\n",
    "plt.plot(training_iterations, losses, color=\"black\")\n",
    "plt.minorticks_on()\n",
    "plt.yscale(\"log\")\n",
    "plt.xlabel(\"Iterations\")\n",
    "plt.ylabel(\"Loss\")\n",
    "plt.grid(True, alpha=.2)\n",
    "plt.show()"
   ]
  },
  {
   "cell_type": "markdown",
   "metadata": {},
   "source": [
    "### `pytorch` (with autograd)"
   ]
  },
  {
   "cell_type": "markdown",
   "metadata": {},
   "source": [
    "Obviously, implementing the backward pass by hand for complex models is kinda tricky (can you imagine doing this in the 90's?), and you will have to rely on a lot of diagnostics to verify your implementation. Luckily, we have [PyTorch's autodifferentiation](https://pytorch.org/docs/stable/autograd.html) to handle this in the background."
   ]
  },
  {
   "cell_type": "code",
   "execution_count": 12,
   "metadata": {},
   "outputs": [
    {
     "data": {
      "application/vnd.jupyter.widget-view+json": {
       "model_id": "f51d793afe924e9e8841b7a01d6b9b13",
       "version_major": 2,
       "version_minor": 0
      },
      "text/plain": [
       "HBox(children=(IntProgress(value=0, max=5000), HTML(value='')))"
      ]
     },
     "metadata": {},
     "output_type": "display_data"
    },
    {
     "name": "stdout",
     "output_type": "stream",
     "text": [
      "\n"
     ]
    },
    {
     "data": {
      "image/png": "[encoded data removed]",
      "text/plain": [
       "<Figure size 432x288 with 1 Axes>"
      ]
     },
     "metadata": {
      "needs_background": "light"
     },
     "output_type": "display_data"
    }
   ],
   "source": [
    "# Randomly initialize the weights.\n",
    "w_1 = torch.randn(num_in, num_hidden) # input -> hidden\n",
    "w_2 = torch.randn(num_hidden, num_out) # hidden -> output\n",
    "\n",
    "# We would like to compute the gradient with respect to the parameters of the model.\n",
    "w_1.requires_grad = True\n",
    "w_2.requires_grad = True\n",
    "\n",
    "losses = []\n",
    "for iteration in tqdm(training_iterations):\n",
    "    # Fetch the input and corresponding output.\n",
    "    inputs = torch.randn(batch_size, num_in)\n",
    "    targets = torch.randn(batch_size, num_out)\n",
    "    \n",
    "    # Apply the `forward` computation of the neural network (compute the prediction).\n",
    "    h = torch.matmul(inputs, w_1)\n",
    "    activation = torch.clamp(h, min=0)\n",
    "    y_predicted = torch.matmul(activation, w_2)\n",
    "    \n",
    "    # Compute loss.\n",
    "    diff = y_predicted - targets\n",
    "    loss = torch.pow(diff, 2).mean()\n",
    "    losses.append(loss)\n",
    "    \n",
    "    # Apply backpropagation.\n",
    "    loss.backward()\n",
    "    \n",
    "    # Update the weights.\n",
    "    with torch.no_grad():\n",
    "        # Update the weights with the derrived gradients.\n",
    "        w_1 -= learning_rate * w_1.grad\n",
    "        w_2 -= learning_rate * w_2.grad\n",
    "        # Reset the accumulation of gradients.\n",
    "        w_1.grad.zero_()\n",
    "        w_2.grad.zero_()\n",
    "    \n",
    "# Show the loss over the training iterations.\n",
    "plt.plot(training_iterations, losses, color=\"black\")\n",
    "plt.minorticks_on()\n",
    "plt.yscale(\"log\")\n",
    "plt.xlabel(\"Iterations\")\n",
    "plt.ylabel(\"Loss\")\n",
    "plt.grid(True, alpha=.2)\n",
    "plt.show()"
   ]
  },
  {
   "cell_type": "markdown",
   "metadata": {},
   "source": [
    "Wait. Why is the `autograd` loss different?"
   ]
  },
  {
   "cell_type": "markdown",
   "metadata": {},
   "source": [
    "**Computer Science 101**: How *should* we compare 2 floating points?"
   ]
  },
  {
   "cell_type": "code",
   "execution_count": 13,
   "metadata": {},
   "outputs": [
    {
     "name": "stdout",
     "output_type": "stream",
     "text": [
      "Whoops\n"
     ]
    }
   ],
   "source": [
    "import random\n",
    "\n",
    "a = random.random()\n",
    "b = a - random.random() * 1e-17\n",
    "\n",
    "if a == b:\n",
    "    print(\"Whoops\")"
   ]
  },
  {
   "cell_type": "markdown",
   "metadata": {},
   "source": [
    "Nevertheless, this can be bypassed by adapting the learning rate to reduce the effect of numerical imprecision. In practice, you will not even notice this because this is a hyperparameter you have to tune anyway."
   ]
  },
  {
   "cell_type": "code",
   "execution_count": 14,
   "metadata": {},
   "outputs": [
    {
     "data": {
      "application/vnd.jupyter.widget-view+json": {
       "model_id": "5969461edebf49949421a1027f9479a5",
       "version_major": 2,
       "version_minor": 0
      },
      "text/plain": [
       "HBox(children=(IntProgress(value=0, max=5000), HTML(value='')))"
      ]
     },
     "metadata": {},
     "output_type": "display_data"
    },
    {
     "name": "stdout",
     "output_type": "stream",
     "text": [
      "\n"
     ]
    },
    {
     "data": {
      "image/png": "[encoded data removed]",
      "text/plain": [
       "<Figure size 432x288 with 1 Axes>"
      ]
     },
     "metadata": {
      "needs_background": "light"
     },
     "output_type": "display_data"
    }
   ],
   "source": [
    "# Larger learning rate to address numerical imprecision.\n",
    "learning_rate = 4e-5\n",
    "\n",
    "# Randomly initialize the weights.\n",
    "w_1 = torch.randn(num_in, num_hidden) # input -> hidden\n",
    "w_2 = torch.randn(num_hidden, num_out) # hidden -> output\n",
    "\n",
    "# We would like to compute the gradient with respect to the parameters of the model.\n",
    "w_1.requires_grad = True\n",
    "w_2.requires_grad = True\n",
    "\n",
    "losses = []\n",
    "for iteration in tqdm(training_iterations):\n",
    "    # Fetch the input and corresponding output.\n",
    "    inputs = torch.randn(batch_size, num_in)\n",
    "    targets = torch.randn(batch_size, num_out)\n",
    "    \n",
    "    # Apply the `forward` computation of the neural network (compute the prediction).\n",
    "    h = torch.matmul(inputs, w_1)\n",
    "    activation = torch.clamp(h, min=0)\n",
    "    y_predicted = torch.matmul(activation, w_2)\n",
    "    \n",
    "    # Compute loss.\n",
    "    diff = y_predicted - targets\n",
    "    loss = torch.pow(diff, 2).mean()\n",
    "    losses.append(loss)\n",
    "    \n",
    "    # Apply backpropagation.\n",
    "    loss.backward()\n",
    "    \n",
    "    # Update the weights.\n",
    "    with torch.no_grad():\n",
    "        # Update the weights with the derrived gradients.\n",
    "        w_1 -= learning_rate * w_1.grad\n",
    "        w_2 -= learning_rate * w_2.grad\n",
    "        # Reset the accumulation of gradients.\n",
    "        w_1.grad.zero_()\n",
    "        w_2.grad.zero_()\n",
    "    \n",
    "# Show the loss over the training iterations.\n",
    "plt.plot(training_iterations, losses, color=\"black\")\n",
    "plt.minorticks_on()\n",
    "plt.yscale(\"log\")\n",
    "plt.xlabel(\"Iterations\")\n",
    "plt.ylabel(\"Loss\")\n",
    "plt.grid(True, alpha=.2)\n",
    "plt.show()"
   ]
  },
  {
   "cell_type": "markdown",
   "metadata": {},
   "source": [
    "Voila!"
   ]
  },
  {
   "cell_type": "markdown",
   "metadata": {},
   "source": [
    "## `torch.nn` modeling and training with `torch.optim`\n",
    "\n",
    "All modules are instances of `torch.nn.Module`. These modules can be viewed as Lego(tm)-bricks which can be connected with each-other in some specific way. See the [`torch.nn`](https://pytorch.org/docs/stable/nn.html) documentation for more information."
   ]
  },
  {
   "cell_type": "code",
   "execution_count": 15,
   "metadata": {},
   "outputs": [
    {
     "data": {
      "application/vnd.jupyter.widget-view+json": {
       "model_id": "28b647f85cb642e2a04b1e336f8be18e",
       "version_major": 2,
       "version_minor": 0
      },
      "text/plain": [
       "HBox(children=(IntProgress(value=0, max=5000), HTML(value='')))"
      ]
     },
     "metadata": {},
     "output_type": "display_data"
    },
    {
     "name": "stdout",
     "output_type": "stream",
     "text": [
      "\n"
     ]
    },
    {
     "data": {
      "image/png": "[encoded data removed]",
      "text/plain": [
       "<Figure size 432x288 with 1 Axes>"
      ]
     },
     "metadata": {
      "needs_background": "light"
     },
     "output_type": "display_data"
    }
   ],
   "source": [
    "class Classifier(torch.nn.Module):\n",
    "    \n",
    "    def __init__(self, num_hidden):\n",
    "        super(Classifier, self).__init__() # Required\n",
    "        self.m_1 = torch.nn.Linear(100, num_hidden)\n",
    "        self.m_2 = torch.nn.Linear(num_hidden, 10)\n",
    "        self.activation = torch.nn.ReLU()\n",
    "        \n",
    "    def forward(self, inputs):\n",
    "        h_1 = self.m_1(inputs)\n",
    "        a_1 = self.activation(h_1)\n",
    "        h_2 = self.m_2(a_1)\n",
    "        \n",
    "        return h_2\n",
    "\n",
    "# Allocate the classifier.\n",
    "classifier = Classifier(num_hidden=1000)\n",
    "\n",
    "# Allocate the optimizer.\n",
    "optimizer = torch.optim.SGD(classifier.parameters(), lr=0.01)\n",
    "\n",
    "# Pick a loss function.\n",
    "# https://pytorch.org/docs/stable/nn.html#loss-functions\n",
    "criterion = torch.nn.MSELoss(reduction=\"mean\") # By default all losses use a `mean` reduction.\n",
    "\n",
    "# Start the training procedure.\n",
    "losses = []\n",
    "for iteration in tqdm(training_iterations):\n",
    "    # Fetch a batch of inputs and targets.\n",
    "    inputs = torch.randn(batch_size, 100)\n",
    "    targets = torch.randn(batch_size, 10)\n",
    "    # Forward pass.\n",
    "    y_pred = classifier(inputs)\n",
    "    # Compute the loss.\n",
    "    loss = criterion(y_pred, targets)\n",
    "    losses.append(loss.item())\n",
    "    # Backward pass.\n",
    "    optimizer.zero_grad() # Clear gradient accumulation.\n",
    "    loss.backward()\n",
    "    optimizer.step()\n",
    "    \n",
    "# Show the loss over the training iterations.\n",
    "plt.plot(training_iterations, losses, color=\"black\")\n",
    "plt.minorticks_on()\n",
    "plt.xlabel(\"Iterations\")\n",
    "plt.ylabel(\"Loss\")\n",
    "plt.grid(True, alpha=.2)\n",
    "plt.show()"
   ]
  },
  {
   "cell_type": "markdown",
   "metadata": {},
   "source": [
    "Alternatively, you can rely on the `Sequential` API (Keras-like):"
   ]
  },
  {
   "cell_type": "code",
   "execution_count": 16,
   "metadata": {},
   "outputs": [
    {
     "data": {
      "application/vnd.jupyter.widget-view+json": {
       "model_id": "703726b9b4b04097b7781d78d8a2555d",
       "version_major": 2,
       "version_minor": 0
      },
      "text/plain": [
       "HBox(children=(IntProgress(value=0, max=5000), HTML(value='')))"
      ]
     },
     "metadata": {},
     "output_type": "display_data"
    },
    {
     "name": "stdout",
     "output_type": "stream",
     "text": [
      "\n"
     ]
    },
    {
     "data": {
      "image/png": "[encoded data removed]",
      "text/plain": [
       "<Figure size 432x288 with 1 Axes>"
      ]
     },
     "metadata": {
      "needs_background": "light"
     },
     "output_type": "display_data"
    }
   ],
   "source": [
    "# Allocate the classifier.\n",
    "classifier = torch.nn.Sequential(\n",
    "    torch.nn.Linear(100, 1000),\n",
    "    torch.nn.ReLU(),\n",
    "    torch.nn.Linear(1000, 1000),\n",
    "    torch.nn.ReLU(),\n",
    "    torch.nn.Linear(1000, 10))\n",
    "\n",
    "# Allocate the optimizer.\n",
    "optimizer = torch.optim.SGD(classifier.parameters(), lr=0.01)\n",
    "\n",
    "# Pick a loss function.\n",
    "# https://pytorch.org/docs/stable/nn.html#loss-functions\n",
    "criterion = torch.nn.MSELoss(reduction=\"mean\") # By default all losses use a `mean` reduction.\n",
    "\n",
    "# Start the training procedure.\n",
    "losses = []\n",
    "for iteration in tqdm(training_iterations):\n",
    "    # Fetch a batch of inputs and targets.\n",
    "    inputs = torch.randn(batch_size, 100)\n",
    "    targets = torch.randn(batch_size, 10)\n",
    "    # Forward pass.\n",
    "    y_pred = classifier(inputs)\n",
    "    # Compute the loss.\n",
    "    loss = criterion(y_pred, targets)\n",
    "    losses.append(loss.item())\n",
    "    # Backward pass.\n",
    "    optimizer.zero_grad() # Clear gradient accumulation.\n",
    "    loss.backward()\n",
    "    optimizer.step()\n",
    "    \n",
    "# Show the loss over the training iterations.\n",
    "plt.plot(training_iterations, losses, color=\"black\")\n",
    "plt.minorticks_on()\n",
    "plt.xlabel(\"Iterations\")\n",
    "plt.ylabel(\"Loss\")\n",
    "plt.grid(True, alpha=.2)\n",
    "plt.show()"
   ]
  },
  {
   "cell_type": "markdown",
   "metadata": {},
   "source": [
    "## Hello MNIST"
   ]
  },
  {
   "cell_type": "markdown",
   "metadata": {},
   "source": [
    "### Data preprocessing and loading"
   ]
  },
  {
   "cell_type": "code",
   "execution_count": 17,
   "metadata": {},
   "outputs": [],
   "source": [
    "# Fetch a batch of inputs and targets.\n",
    "inputs = torch.randn(batch_size, 100)\n",
    "targets = torch.randn(batch_size, 10)"
   ]
  },
  {
   "cell_type": "markdown",
   "metadata": {},
   "source": [
    "`dataset` abstraction."
   ]
  },
  {
   "cell_type": "code",
   "execution_count": 18,
   "metadata": {},
   "outputs": [],
   "source": [
    "import torchvision\n",
    "\n",
    "# Data preprocessing steps (standardization).\n",
    "transformations = torchvision.transforms.Compose([\n",
    "    torchvision.transforms.ToTensor(),\n",
    "    torchvision.transforms.Normalize((0.1307,), (0.3081,))])\n",
    "# Allocate the training dataset (and download it).\n",
    "dataset_train = torchvision.datasets.MNIST(\"data\", train=True, download=True, transform=transformations)\n",
    "# Allocate the validation dataset using the same pre-processing transformations.\n",
    "dataset_validation = torchvision.datasets.MNIST(\"data\", train=False, download=True, transform=transformations)"
   ]
  },
  {
   "cell_type": "code",
   "execution_count": 19,
   "metadata": {},
   "outputs": [
    {
     "data": {
      "image/png": "[encoded data removed]",
      "text/plain": [
       "<Figure size 432x288 with 1 Axes>"
      ]
     },
     "metadata": {
      "needs_background": "light"
     },
     "output_type": "display_data"
    },
    {
     "name": "stdout",
     "output_type": "stream",
     "text": [
      "The number depicted in the image is a 5\n"
     ]
    }
   ],
   "source": [
    "image, label = dataset_train[0]\n",
    "\n",
    "# Show the first image in the dataset.\n",
    "plt.imshow(image.view(28, 28), cmap=\"gist_gray\")\n",
    "plt.show()\n",
    "\n",
    "print(\"The number depicted in the image is a\", label.item())"
   ]
  },
  {
   "cell_type": "markdown",
   "metadata": {},
   "source": [
    "### Model development\n",
    "\n",
    "The code below is a bit more complex than it should be, but it is intended to show how you could combine `torch.nn` modules."
   ]
  },
  {
   "cell_type": "code",
   "execution_count": 20,
   "metadata": {},
   "outputs": [],
   "source": [
    "class ConvolutionalLegoPiece(torch.nn.Module):\n",
    "    \n",
    "    def __init__(self):\n",
    "        super(ConvolutionalLegoPiece, self).__init__()\n",
    "        self.piece = torch.nn.Sequential(\n",
    "            # First block.\n",
    "            torch.nn.Conv2d(in_channels=1, out_channels=20, kernel_size=5, stride=1),\n",
    "            torch.nn.ReLU(),\n",
    "            torch.nn.MaxPool2d(kernel_size=2), # Stride is set to `kernel_size` by default.\n",
    "            # Second block.\n",
    "            torch.nn.Conv2d(in_channels=20, out_channels=50, kernel_size=5, stride=1),\n",
    "            torch.nn.ReLU(),\n",
    "            torch.nn.MaxPool2d(kernel_size=2))\n",
    "        \n",
    "    def forward(self, images):\n",
    "        latents = self.piece(images)\n",
    "        \n",
    "        return latents"
   ]
  },
  {
   "cell_type": "code",
   "execution_count": 21,
   "metadata": {},
   "outputs": [],
   "source": [
    "class FullyConnectedLegoPiece(torch.nn.Module):\n",
    "    \n",
    "    def __init__(self, latent_dimensionality=4 * 4 * 50, num_hidden=1000, num_classes=10):\n",
    "        super(FullyConnectedLegoPiece, self).__init__()\n",
    "        self.z_dim = latent_dimensionality\n",
    "        self.piece = torch.nn.Sequential(\n",
    "            torch.nn.Linear(self.z_dim, num_hidden),\n",
    "            torch.nn.ReLU(),\n",
    "            torch.nn.Linear(num_hidden, num_hidden),\n",
    "            torch.nn.ReLU(),\n",
    "            torch.nn.Linear(num_hidden, num_hidden),\n",
    "            torch.nn.ReLU(),\n",
    "            torch.nn.Linear(num_hidden, num_classes),\n",
    "            torch.nn.LogSoftmax(dim=1))\n",
    "        \n",
    "    def forward(self, latents):\n",
    "        latents = latents.view(-1, self.z_dim)\n",
    "        return self.piece(latents)"
   ]
  },
  {
   "cell_type": "markdown",
   "metadata": {},
   "source": [
    "### Training and testing"
   ]
  },
  {
   "cell_type": "code",
   "execution_count": 22,
   "metadata": {},
   "outputs": [],
   "source": [
    "def train(model, optimizer, dataset, batch_size=256, workers=4):\n",
    "    model.train() # Ensure all modules are in `training` mode.\n",
    "    data_loader = torch.utils.data.DataLoader(dataset, shuffle=True, batch_size=batch_size, num_workers=workers)\n",
    "    data_loader = iter(data_loader)\n",
    "    criterion = torch.nn.NLLLoss()\n",
    "    iterations = range(len(dataset) // batch_size)\n",
    "    for batch_index in tqdm(iterations):\n",
    "        inputs, targets = next(data_loader)\n",
    "        prediction = model(inputs)\n",
    "        loss = criterion(prediction, targets)\n",
    "        optimizer.zero_grad()\n",
    "        loss.backward()\n",
    "        optimizer.step()\n",
    "        \n",
    "def validate(model, dataset, batch_size=256, workers=4):\n",
    "    model.eval()\n",
    "    data_loader = torch.utils.data.DataLoader(dataset, shuffle=True, batch_size=batch_size, num_workers=workers)\n",
    "    total_loss = 0\n",
    "    criterion = torch.nn.NLLLoss(reduction=\"sum\")\n",
    "    with torch.no_grad():\n",
    "        for inputs, targets in data_loader:\n",
    "            outputs = model(inputs)\n",
    "            loss = criterion(outputs, targets).item()\n",
    "            total_loss += loss\n",
    "    total_loss / len(dataset)\n",
    "    \n",
    "    return total_loss"
   ]
  },
  {
   "cell_type": "code",
   "execution_count": 23,
   "metadata": {},
   "outputs": [
    {
     "data": {
      "application/vnd.jupyter.widget-view+json": {
       "model_id": "461a4d1e64c84be29f693ae4b502d342",
       "version_major": 2,
       "version_minor": 0
      },
      "text/plain": [
       "HBox(children=(IntProgress(value=0, max=15), HTML(value='')))"
      ]
     },
     "metadata": {},
     "output_type": "display_data"
    },
    {
     "data": {
      "application/vnd.jupyter.widget-view+json": {
       "model_id": "d02e2272a1b042ddb6d45ff3132be151",
       "version_major": 2,
       "version_minor": 0
      },
      "text/plain": [
       "HBox(children=(IntProgress(value=0, max=234), HTML(value='')))"
      ]
     },
     "metadata": {},
     "output_type": "display_data"
    },
    {
     "data": {
      "application/vnd.jupyter.widget-view+json": {
       "model_id": "04774f8982d44821a878b5ce2da4e613",
       "version_major": 2,
       "version_minor": 0
      },
      "text/plain": [
       "HBox(children=(IntProgress(value=0, max=234), HTML(value='')))"
      ]
     },
     "metadata": {},
     "output_type": "display_data"
    },
    {
     "data": {
      "application/vnd.jupyter.widget-view+json": {
       "model_id": "54dfe9c4a8a44a21a38ff42fa5fa07da",
       "version_major": 2,
       "version_minor": 0
      },
      "text/plain": [
       "HBox(children=(IntProgress(value=0, max=234), HTML(value='')))"
      ]
     },
     "metadata": {},
     "output_type": "display_data"
    },
    {
     "data": {
      "application/vnd.jupyter.widget-view+json": {
       "model_id": "cecfb6de051e4c23ae7dabd83339c6f2",
       "version_major": 2,
       "version_minor": 0
      },
      "text/plain": [
       "HBox(children=(IntProgress(value=0, max=234), HTML(value='')))"
      ]
     },
     "metadata": {},
     "output_type": "display_data"
    },
    {
     "data": {
      "application/vnd.jupyter.widget-view+json": {
       "model_id": "2b8d381f64ae48cca518699a66ac7195",
       "version_major": 2,
       "version_minor": 0
      },
      "text/plain": [
       "HBox(children=(IntProgress(value=0, max=234), HTML(value='')))"
      ]
     },
     "metadata": {},
     "output_type": "display_data"
    },
    {
     "data": {
      "application/vnd.jupyter.widget-view+json": {
       "model_id": "23b63d8c095c43759fb0e2d3d0e5b1a7",
       "version_major": 2,
       "version_minor": 0
      },
      "text/plain": [
       "HBox(children=(IntProgress(value=0, max=234), HTML(value='')))"
      ]
     },
     "metadata": {},
     "output_type": "display_data"
    },
    {
     "data": {
      "application/vnd.jupyter.widget-view+json": {
       "model_id": "8fa1e048a7bc4809a982e2a0c105c620",
       "version_major": 2,
       "version_minor": 0
      },
      "text/plain": [
       "HBox(children=(IntProgress(value=0, max=234), HTML(value='')))"
      ]
     },
     "metadata": {},
     "output_type": "display_data"
    },
    {
     "data": {
      "application/vnd.jupyter.widget-view+json": {
       "model_id": "54a195e6d8b04bc8a404a46175033f04",
       "version_major": 2,
       "version_minor": 0
      },
      "text/plain": [
       "HBox(children=(IntProgress(value=0, max=234), HTML(value='')))"
      ]
     },
     "metadata": {},
     "output_type": "display_data"
    },
    {
     "data": {
      "application/vnd.jupyter.widget-view+json": {
       "model_id": "2a0a2f6b49f34e88b6facdcfd6ca38ee",
       "version_major": 2,
       "version_minor": 0
      },
      "text/plain": [
       "HBox(children=(IntProgress(value=0, max=234), HTML(value='')))"
      ]
     },
     "metadata": {},
     "output_type": "display_data"
    },
    {
     "data": {
      "application/vnd.jupyter.widget-view+json": {
       "model_id": "e444c786e19f4585ba63fe015ec9b77d",
       "version_major": 2,
       "version_minor": 0
      },
      "text/plain": [
       "HBox(children=(IntProgress(value=0, max=234), HTML(value='')))"
      ]
     },
     "metadata": {},
     "output_type": "display_data"
    },
    {
     "data": {
      "application/vnd.jupyter.widget-view+json": {
       "model_id": "ce5ac0e38e944853b110a541ad13e902",
       "version_major": 2,
       "version_minor": 0
      },
      "text/plain": [
       "HBox(children=(IntProgress(value=0, max=234), HTML(value='')))"
      ]
     },
     "metadata": {},
     "output_type": "display_data"
    },
    {
     "data": {
      "application/vnd.jupyter.widget-view+json": {
       "model_id": "69a72e0fd478417293d521b3a2bfd85c",
       "version_major": 2,
       "version_minor": 0
      },
      "text/plain": [
       "HBox(children=(IntProgress(value=0, max=234), HTML(value='')))"
      ]
     },
     "metadata": {},
     "output_type": "display_data"
    },
    {
     "data": {
      "application/vnd.jupyter.widget-view+json": {
       "model_id": "bdbd20b89b754e408ac1b16995edbfe7",
       "version_major": 2,
       "version_minor": 0
      },
      "text/plain": [
       "HBox(children=(IntProgress(value=0, max=234), HTML(value='')))"
      ]
     },
     "metadata": {},
     "output_type": "display_data"
    },
    {
     "data": {
      "application/vnd.jupyter.widget-view+json": {
       "model_id": "37d3d16dff244e49a66ac8c54df383aa",
       "version_major": 2,
       "version_minor": 0
      },
      "text/plain": [
       "HBox(children=(IntProgress(value=0, max=234), HTML(value='')))"
      ]
     },
     "metadata": {},
     "output_type": "display_data"
    },
    {
     "data": {
      "application/vnd.jupyter.widget-view+json": {
       "model_id": "e43e0dd9222648e89854a6b7c39094fd",
       "version_major": 2,
       "version_minor": 0
      },
      "text/plain": [
       "HBox(children=(IntProgress(value=0, max=234), HTML(value='')))"
      ]
     },
     "metadata": {},
     "output_type": "display_data"
    },
    {
     "name": "stdout",
     "output_type": "stream",
     "text": [
      "\n"
     ]
    },
    {
     "data": {
      "image/png": "[encoded data removed]",
      "text/plain": [
       "<Figure size 432x288 with 1 Axes>"
      ]
     },
     "metadata": {
      "needs_background": "light"
     },
     "output_type": "display_data"
    }
   ],
   "source": [
    "# Allocate the classifier.\n",
    "classifier = torch.nn.Sequential(\n",
    "    ConvolutionalLegoPiece(),\n",
    "    FullyConnectedLegoPiece(num_hidden=1000, num_classes=10))\n",
    "# Allocate the optimizer.\n",
    "optimizer = torch.optim.Adam(classifier.parameters())\n",
    "\n",
    "num_epochs = 15\n",
    "validation_losses = []\n",
    "for epoch in tqdm(range(num_epochs)):\n",
    "    train(classifier, optimizer, dataset_train)\n",
    "    validation_loss = validate(classifier, dataset_validation)\n",
    "    validation_losses.append(validation_loss)\n",
    "    \n",
    "# Plot the validation loss.\n",
    "plt.plot(np.arange(len(validation_losses)), validation_losses, color=\"black\")\n",
    "plt.minorticks_on()\n",
    "plt.xlabel(\"Epochs\")\n",
    "plt.ylabel(\"Validation loss\")\n",
    "plt.show()"
   ]
  },
  {
   "cell_type": "code",
   "execution_count": 41,
   "metadata": {},
   "outputs": [
    {
     "data": {
      "image/png": "[encoded data removed]",
      "text/plain": [
       "<Figure size 432x288 with 1 Axes>"
      ]
     },
     "metadata": {
      "needs_background": "light"
     },
     "output_type": "display_data"
    },
    {
     "name": "stdout",
     "output_type": "stream",
     "text": [
      "Predicted digit: 8\n"
     ]
    }
   ],
   "source": [
    "# Show the input\n",
    "data_index = random.randint(0, 60000)\n",
    "inputs = dataset_train[data_index][0].view(1, 1, 28, 28)\n",
    "plt.imshow(inputs.view(28, 28).cpu().numpy(), cmap=\"gist_gray\")\n",
    "plt.show()\n",
    "\n",
    "classifier = classifier.cpu()\n",
    "print(\"Predicted digit:\", classifier(inputs).exp().max(1)[1].item())"
   ]
  },
  {
   "cell_type": "markdown",
   "metadata": {},
   "source": [
    "### GPU acceleration"
   ]
  },
  {
   "cell_type": "markdown",
   "metadata": {},
   "source": []
  },
  {
   "cell_type": "code",
   "execution_count": 25,
   "metadata": {},
   "outputs": [],
   "source": [
    "# Check if a CUDA-enabled GPU is available.\n",
    "if torch.cuda.is_available():\n",
    "    device = torch.device(0)\n",
    "else:\n",
    "    device = \"cpu\""
   ]
  },
  {
   "cell_type": "code",
   "execution_count": 26,
   "metadata": {},
   "outputs": [],
   "source": [
    "def train(model, optimizer, dataset, batch_size=256, workers=4):\n",
    "    model.train() # Ensure all modules are in `training` mode.\n",
    "    data_loader = torch.utils.data.DataLoader(dataset, shuffle=True, batch_size=batch_size, num_workers=workers, pin_memory=True)\n",
    "    data_loader = iter(data_loader)\n",
    "    # Compute the loss in the GPU.\n",
    "    criterion = torch.nn.NLLLoss().to(device)\n",
    "    iterations = range(len(dataset) // batch_size)\n",
    "    for batch_index in tqdm(iterations):\n",
    "        inputs, targets = next(data_loader)\n",
    "        # Transfer to the GPU.\n",
    "        inputs = inputs.to(device)\n",
    "        targets = targets.to(device)\n",
    "        prediction = model(inputs)\n",
    "        loss = criterion(prediction, targets)\n",
    "        optimizer.zero_grad()\n",
    "        loss.backward()\n",
    "        optimizer.step()\n",
    "        \n",
    "def validate(model, dataset):\n",
    "    model.eval() # Set the model in 'evaluation' model.\n",
    "    data_loader = torch.utils.data.DataLoader(dataset, shuffle=True, batch_size=32, num_workers=4, pin_memory=True)\n",
    "    total_loss = 0\n",
    "    criterion = torch.nn.NLLLoss(reduction=\"sum\").to(device)\n",
    "    with torch.no_grad():\n",
    "        for inputs, targets in data_loader:\n",
    "            inputs = inputs.to(device)\n",
    "            targets = targets.to(device)\n",
    "            outputs = model(inputs)\n",
    "            loss = criterion(outputs, targets).item()\n",
    "            total_loss += loss\n",
    "    \n",
    "    return total_loss"
   ]
  },
  {
   "cell_type": "markdown",
   "metadata": {},
   "source": [
    "Also check: [disadvantages of `pin_memory`](https://discuss.pytorch.org/t/what-is-the-disadvantage-of-using-pin-memory/1702/8)."
   ]
  },
  {
   "cell_type": "code",
   "execution_count": 27,
   "metadata": {},
   "outputs": [
    {
     "data": {
      "application/vnd.jupyter.widget-view+json": {
       "model_id": "2a18fc3a84fe4215ad3f2404557e267f",
       "version_major": 2,
       "version_minor": 0
      },
      "text/plain": [
       "HBox(children=(IntProgress(value=0, max=30), HTML(value='')))"
      ]
     },
     "metadata": {},
     "output_type": "display_data"
    },
    {
     "data": {
      "application/vnd.jupyter.widget-view+json": {
       "model_id": "311a4d01f7ae47048f21cae56a476f9a",
       "version_major": 2,
       "version_minor": 0
      },
      "text/plain": [
       "HBox(children=(IntProgress(value=0, max=234), HTML(value='')))"
      ]
     },
     "metadata": {},
     "output_type": "display_data"
    },
    {
     "data": {
      "application/vnd.jupyter.widget-view+json": {
       "model_id": "9cffafdc4213454f9f6d942c5701b443",
       "version_major": 2,
       "version_minor": 0
      },
      "text/plain": [
       "HBox(children=(IntProgress(value=0, max=234), HTML(value='')))"
      ]
     },
     "metadata": {},
     "output_type": "display_data"
    },
    {
     "data": {
      "application/vnd.jupyter.widget-view+json": {
       "model_id": "400943b8475341f2ba1d8b16427cd427",
       "version_major": 2,
       "version_minor": 0
      },
      "text/plain": [
       "HBox(children=(IntProgress(value=0, max=234), HTML(value='')))"
      ]
     },
     "metadata": {},
     "output_type": "display_data"
    },
    {
     "data": {
      "application/vnd.jupyter.widget-view+json": {
       "model_id": "b8a782118c8a41eca04dbae21ac7c3e8",
       "version_major": 2,
       "version_minor": 0
      },
      "text/plain": [
       "HBox(children=(IntProgress(value=0, max=234), HTML(value='')))"
      ]
     },
     "metadata": {},
     "output_type": "display_data"
    },
    {
     "data": {
      "application/vnd.jupyter.widget-view+json": {
       "model_id": "17a35f4a043948dd8286298ef99ed7b4",
       "version_major": 2,
       "version_minor": 0
      },
      "text/plain": [
       "HBox(children=(IntProgress(value=0, max=234), HTML(value='')))"
      ]
     },
     "metadata": {},
     "output_type": "display_data"
    },
    {
     "data": {
      "application/vnd.jupyter.widget-view+json": {
       "model_id": "f95f7d81263145bbbc65b07b08fe3d01",
       "version_major": 2,
       "version_minor": 0
      },
      "text/plain": [
       "HBox(children=(IntProgress(value=0, max=234), HTML(value='')))"
      ]
     },
     "metadata": {},
     "output_type": "display_data"
    },
    {
     "data": {
      "application/vnd.jupyter.widget-view+json": {
       "model_id": "fc81ed86d4204dfd8a67f4997d068c4c",
       "version_major": 2,
       "version_minor": 0
      },
      "text/plain": [
       "HBox(children=(IntProgress(value=0, max=234), HTML(value='')))"
      ]
     },
     "metadata": {},
     "output_type": "display_data"
    },
    {
     "data": {
      "application/vnd.jupyter.widget-view+json": {
       "model_id": "f9bc0ab994f54b9c998ee588d1924779",
       "version_major": 2,
       "version_minor": 0
      },
      "text/plain": [
       "HBox(children=(IntProgress(value=0, max=234), HTML(value='')))"
      ]
     },
     "metadata": {},
     "output_type": "display_data"
    },
    {
     "data": {
      "application/vnd.jupyter.widget-view+json": {
       "model_id": "5c01a300edf648e5833566b11a5495f3",
       "version_major": 2,
       "version_minor": 0
      },
      "text/plain": [
       "HBox(children=(IntProgress(value=0, max=234), HTML(value='')))"
      ]
     },
     "metadata": {},
     "output_type": "display_data"
    },
    {
     "data": {
      "application/vnd.jupyter.widget-view+json": {
       "model_id": "b5c47a4967e74a8790275e37882a8f6c",
       "version_major": 2,
       "version_minor": 0
      },
      "text/plain": [
       "HBox(children=(IntProgress(value=0, max=234), HTML(value='')))"
      ]
     },
     "metadata": {},
     "output_type": "display_data"
    },
    {
     "data": {
      "application/vnd.jupyter.widget-view+json": {
       "model_id": "43d57a24d1d04f71b96bd5388a274e0e",
       "version_major": 2,
       "version_minor": 0
      },
      "text/plain": [
       "HBox(children=(IntProgress(value=0, max=234), HTML(value='')))"
      ]
     },
     "metadata": {},
     "output_type": "display_data"
    },
    {
     "data": {
      "application/vnd.jupyter.widget-view+json": {
       "model_id": "0644bb263ffd475d821c3a8b793107b4",
       "version_major": 2,
       "version_minor": 0
      },
      "text/plain": [
       "HBox(children=(IntProgress(value=0, max=234), HTML(value='')))"
      ]
     },
     "metadata": {},
     "output_type": "display_data"
    },
    {
     "data": {
      "application/vnd.jupyter.widget-view+json": {
       "model_id": "4667ab990b0b452c892164475d3871a0",
       "version_major": 2,
       "version_minor": 0
      },
      "text/plain": [
       "HBox(children=(IntProgress(value=0, max=234), HTML(value='')))"
      ]
     },
     "metadata": {},
     "output_type": "display_data"
    },
    {
     "data": {
      "application/vnd.jupyter.widget-view+json": {
       "model_id": "38d78863886d4c59965be0427f42ac1c",
       "version_major": 2,
       "version_minor": 0
      },
      "text/plain": [
       "HBox(children=(IntProgress(value=0, max=234), HTML(value='')))"
      ]
     },
     "metadata": {},
     "output_type": "display_data"
    },
    {
     "data": {
      "application/vnd.jupyter.widget-view+json": {
       "model_id": "094c3655e95643ad95857fc92a3eff8c",
       "version_major": 2,
       "version_minor": 0
      },
      "text/plain": [
       "HBox(children=(IntProgress(value=0, max=234), HTML(value='')))"
      ]
     },
     "metadata": {},
     "output_type": "display_data"
    },
    {
     "data": {
      "application/vnd.jupyter.widget-view+json": {
       "model_id": "d7b3c12d85764926875f5341244102bf",
       "version_major": 2,
       "version_minor": 0
      },
      "text/plain": [
       "HBox(children=(IntProgress(value=0, max=234), HTML(value='')))"
      ]
     },
     "metadata": {},
     "output_type": "display_data"
    },
    {
     "data": {
      "application/vnd.jupyter.widget-view+json": {
       "model_id": "311b2125698d4eb69c3d83194db4c030",
       "version_major": 2,
       "version_minor": 0
      },
      "text/plain": [
       "HBox(children=(IntProgress(value=0, max=234), HTML(value='')))"
      ]
     },
     "metadata": {},
     "output_type": "display_data"
    },
    {
     "data": {
      "application/vnd.jupyter.widget-view+json": {
       "model_id": "380b68fdaf60418da89672701357c9e8",
       "version_major": 2,
       "version_minor": 0
      },
      "text/plain": [
       "HBox(children=(IntProgress(value=0, max=234), HTML(value='')))"
      ]
     },
     "metadata": {},
     "output_type": "display_data"
    },
    {
     "data": {
      "application/vnd.jupyter.widget-view+json": {
       "model_id": "0872a756226b4a1b90fedb3a8ec2662d",
       "version_major": 2,
       "version_minor": 0
      },
      "text/plain": [
       "HBox(children=(IntProgress(value=0, max=234), HTML(value='')))"
      ]
     },
     "metadata": {},
     "output_type": "display_data"
    },
    {
     "data": {
      "application/vnd.jupyter.widget-view+json": {
       "model_id": "76a36aef716440c5a36914d0b9b57d18",
       "version_major": 2,
       "version_minor": 0
      },
      "text/plain": [
       "HBox(children=(IntProgress(value=0, max=234), HTML(value='')))"
      ]
     },
     "metadata": {},
     "output_type": "display_data"
    },
    {
     "data": {
      "application/vnd.jupyter.widget-view+json": {
       "model_id": "177178f065464c7ab8229b67f55b5a58",
       "version_major": 2,
       "version_minor": 0
      },
      "text/plain": [
       "HBox(children=(IntProgress(value=0, max=234), HTML(value='')))"
      ]
     },
     "metadata": {},
     "output_type": "display_data"
    },
    {
     "data": {
      "application/vnd.jupyter.widget-view+json": {
       "model_id": "cad78a349ca74a11b0698b27e30d58a7",
       "version_major": 2,
       "version_minor": 0
      },
      "text/plain": [
       "HBox(children=(IntProgress(value=0, max=234), HTML(value='')))"
      ]
     },
     "metadata": {},
     "output_type": "display_data"
    },
    {
     "data": {
      "application/vnd.jupyter.widget-view+json": {
       "model_id": "97f4dbe03b8c4e17bdec74478b806fdb",
       "version_major": 2,
       "version_minor": 0
      },
      "text/plain": [
       "HBox(children=(IntProgress(value=0, max=234), HTML(value='')))"
      ]
     },
     "metadata": {},
     "output_type": "display_data"
    },
    {
     "data": {
      "application/vnd.jupyter.widget-view+json": {
       "model_id": "258422a17d984958b189304e38b27b91",
       "version_major": 2,
       "version_minor": 0
      },
      "text/plain": [
       "HBox(children=(IntProgress(value=0, max=234), HTML(value='')))"
      ]
     },
     "metadata": {},
     "output_type": "display_data"
    },
    {
     "data": {
      "application/vnd.jupyter.widget-view+json": {
       "model_id": "286edc1f838c458db94c0182c5faf533",
       "version_major": 2,
       "version_minor": 0
      },
      "text/plain": [
       "HBox(children=(IntProgress(value=0, max=234), HTML(value='')))"
      ]
     },
     "metadata": {},
     "output_type": "display_data"
    },
    {
     "data": {
      "application/vnd.jupyter.widget-view+json": {
       "model_id": "2121e7b5691940f58fa74a085ba5fcda",
       "version_major": 2,
       "version_minor": 0
      },
      "text/plain": [
       "HBox(children=(IntProgress(value=0, max=234), HTML(value='')))"
      ]
     },
     "metadata": {},
     "output_type": "display_data"
    },
    {
     "data": {
      "application/vnd.jupyter.widget-view+json": {
       "model_id": "6f4dd86a790046639b19d71d5688336f",
       "version_major": 2,
       "version_minor": 0
      },
      "text/plain": [
       "HBox(children=(IntProgress(value=0, max=234), HTML(value='')))"
      ]
     },
     "metadata": {},
     "output_type": "display_data"
    },
    {
     "data": {
      "application/vnd.jupyter.widget-view+json": {
       "model_id": "092f7db0fff846a28c64c3249494a951",
       "version_major": 2,
       "version_minor": 0
      },
      "text/plain": [
       "HBox(children=(IntProgress(value=0, max=234), HTML(value='')))"
      ]
     },
     "metadata": {},
     "output_type": "display_data"
    },
    {
     "data": {
      "application/vnd.jupyter.widget-view+json": {
       "model_id": "e9634afc7c0846259c328694c313c3d2",
       "version_major": 2,
       "version_minor": 0
      },
      "text/plain": [
       "HBox(children=(IntProgress(value=0, max=234), HTML(value='')))"
      ]
     },
     "metadata": {},
     "output_type": "display_data"
    },
    {
     "data": {
      "application/vnd.jupyter.widget-view+json": {
       "model_id": "751373ec1c504f4fb286fd3d3b605648",
       "version_major": 2,
       "version_minor": 0
      },
      "text/plain": [
       "HBox(children=(IntProgress(value=0, max=234), HTML(value='')))"
      ]
     },
     "metadata": {},
     "output_type": "display_data"
    },
    {
     "name": "stdout",
     "output_type": "stream",
     "text": [
      "\n"
     ]
    },
    {
     "data": {
      "image/png": "[encoded data removed]",
      "text/plain": [
       "<Figure size 432x288 with 1 Axes>"
      ]
     },
     "metadata": {
      "needs_background": "light"
     },
     "output_type": "display_data"
    }
   ],
   "source": [
    "# Allocate the classifier.\n",
    "classifier = torch.nn.Sequential(\n",
    "    ConvolutionalLegoPiece(),\n",
    "    FullyConnectedLegoPiece(num_hidden=1000, num_classes=10))\n",
    "# Put the classifier on the GPU.\n",
    "classifier = classifier.to(device)\n",
    "# Allocate the optimizer.\n",
    "optimizer = torch.optim.Adam(classifier.parameters())\n",
    "\n",
    "num_epochs = 30\n",
    "validation_losses = []\n",
    "for epoch in tqdm(range(num_epochs)):\n",
    "    train(classifier, optimizer, dataset_train)\n",
    "    validation_loss = validate(classifier, dataset_validation)\n",
    "    validation_losses.append(validation_loss)\n",
    "    \n",
    "# Plot the validation loss.\n",
    "plt.plot(np.arange(len(validation_losses)), validation_losses, color=\"black\")\n",
    "plt.minorticks_on()\n",
    "plt.xlabel(\"Epochs\")\n",
    "plt.ylabel(\"Validation loss\")\n",
    "plt.show()"
   ]
  },
  {
   "cell_type": "markdown",
   "metadata": {},
   "source": [
    "### Regularization"
   ]
  },
  {
   "cell_type": "markdown",
   "metadata": {},
   "source": [
    "`torch.nn.Dropout`, `torch.nn.BatchNorm2d`"
   ]
  },
  {
   "cell_type": "code",
   "execution_count": 28,
   "metadata": {},
   "outputs": [],
   "source": [
    "class BatchNormConvolutionalLegoPiece(torch.nn.Module):\n",
    "    \n",
    "    def __init__(self):\n",
    "        super(BatchNormConvolutionalLegoPiece, self).__init__()\n",
    "        self.piece = torch.nn.Sequential(\n",
    "            # First block.\n",
    "            torch.nn.Conv2d(in_channels=1, out_channels=20, kernel_size=5, stride=1),\n",
    "            torch.nn.BatchNorm2d(20),\n",
    "            torch.nn.ReLU(),\n",
    "            torch.nn.MaxPool2d(kernel_size=2), # Stride is set to `kernel_size` by default.\n",
    "            # Second block.\n",
    "            torch.nn.Conv2d(in_channels=20, out_channels=50, kernel_size=5, stride=1),\n",
    "            torch.nn.ReLU(),\n",
    "            torch.nn.MaxPool2d(kernel_size=2))\n",
    "        \n",
    "    def forward(self, images):\n",
    "        latents = self.piece(images)\n",
    "        \n",
    "        return latents"
   ]
  },
  {
   "cell_type": "code",
   "execution_count": 29,
   "metadata": {},
   "outputs": [],
   "source": [
    "class RegularizedFullyConnectedLegoPiece(torch.nn.Module):\n",
    "    \n",
    "    def __init__(self, latent_dimensionality=4 * 4 * 50, num_hidden=1000, num_classes=10, p=0.5):\n",
    "        super(RegularizedFullyConnectedLegoPiece, self).__init__()\n",
    "        self.z_dim = latent_dimensionality\n",
    "        self.piece = torch.nn.Sequential(\n",
    "            torch.nn.Dropout(p=p),\n",
    "            torch.nn.Linear(self.z_dim, num_hidden),\n",
    "            torch.nn.ReLU(),\n",
    "            torch.nn.Dropout(p=p),\n",
    "            torch.nn.Linear(num_hidden, num_hidden),\n",
    "            torch.nn.ReLU(),\n",
    "            torch.nn.Dropout(p=p),\n",
    "            torch.nn.Linear(num_hidden, num_hidden),\n",
    "            torch.nn.ReLU(),\n",
    "            torch.nn.Linear(num_hidden, num_classes),\n",
    "            torch.nn.LogSoftmax(dim=1))\n",
    "        \n",
    "    def forward(self, latents):\n",
    "        latents = latents.view(-1, self.z_dim)\n",
    "        return self.piece(latents)"
   ]
  },
  {
   "cell_type": "code",
   "execution_count": 30,
   "metadata": {},
   "outputs": [
    {
     "data": {
      "application/vnd.jupyter.widget-view+json": {
       "model_id": "500e2cf5b851420cb9d9c6d83b5e6f9d",
       "version_major": 2,
       "version_minor": 0
      },
      "text/plain": [
       "HBox(children=(IntProgress(value=0, max=30), HTML(value='')))"
      ]
     },
     "metadata": {},
     "output_type": "display_data"
    },
    {
     "data": {
      "application/vnd.jupyter.widget-view+json": {
       "model_id": "939b20b929e3415dab1c64a729c08d13",
       "version_major": 2,
       "version_minor": 0
      },
      "text/plain": [
       "HBox(children=(IntProgress(value=0, max=234), HTML(value='')))"
      ]
     },
     "metadata": {},
     "output_type": "display_data"
    },
    {
     "data": {
      "application/vnd.jupyter.widget-view+json": {
       "model_id": "0a2fa681f6484bb1aa399185185ea450",
       "version_major": 2,
       "version_minor": 0
      },
      "text/plain": [
       "HBox(children=(IntProgress(value=0, max=234), HTML(value='')))"
      ]
     },
     "metadata": {},
     "output_type": "display_data"
    },
    {
     "data": {
      "application/vnd.jupyter.widget-view+json": {
       "model_id": "2cf28a89ab71478ca222924c23e7e715",
       "version_major": 2,
       "version_minor": 0
      },
      "text/plain": [
       "HBox(children=(IntProgress(value=0, max=234), HTML(value='')))"
      ]
     },
     "metadata": {},
     "output_type": "display_data"
    },
    {
     "data": {
      "application/vnd.jupyter.widget-view+json": {
       "model_id": "827798ca3d934bdf85d2d67c41483e6d",
       "version_major": 2,
       "version_minor": 0
      },
      "text/plain": [
       "HBox(children=(IntProgress(value=0, max=234), HTML(value='')))"
      ]
     },
     "metadata": {},
     "output_type": "display_data"
    },
    {
     "data": {
      "application/vnd.jupyter.widget-view+json": {
       "model_id": "fc0bfb0c68004568ab60b0ca603f0531",
       "version_major": 2,
       "version_minor": 0
      },
      "text/plain": [
       "HBox(children=(IntProgress(value=0, max=234), HTML(value='')))"
      ]
     },
     "metadata": {},
     "output_type": "display_data"
    },
    {
     "data": {
      "application/vnd.jupyter.widget-view+json": {
       "model_id": "f7c36864db7b4d568c28643dafc2ec38",
       "version_major": 2,
       "version_minor": 0
      },
      "text/plain": [
       "HBox(children=(IntProgress(value=0, max=234), HTML(value='')))"
      ]
     },
     "metadata": {},
     "output_type": "display_data"
    },
    {
     "data": {
      "application/vnd.jupyter.widget-view+json": {
       "model_id": "f7066c08669b418787a159800f3fb10f",
       "version_major": 2,
       "version_minor": 0
      },
      "text/plain": [
       "HBox(children=(IntProgress(value=0, max=234), HTML(value='')))"
      ]
     },
     "metadata": {},
     "output_type": "display_data"
    },
    {
     "data": {
      "application/vnd.jupyter.widget-view+json": {
       "model_id": "b56dd57b4ac64384a72c770660778331",
       "version_major": 2,
       "version_minor": 0
      },
      "text/plain": [
       "HBox(children=(IntProgress(value=0, max=234), HTML(value='')))"
      ]
     },
     "metadata": {},
     "output_type": "display_data"
    },
    {
     "data": {
      "application/vnd.jupyter.widget-view+json": {
       "model_id": "1149676bc8ff4edc9a2e0df37fd4214b",
       "version_major": 2,
       "version_minor": 0
      },
      "text/plain": [
       "HBox(children=(IntProgress(value=0, max=234), HTML(value='')))"
      ]
     },
     "metadata": {},
     "output_type": "display_data"
    },
    {
     "data": {
      "application/vnd.jupyter.widget-view+json": {
       "model_id": "a7c795588afe43d48cfeb7fb96cb2cb4",
       "version_major": 2,
       "version_minor": 0
      },
      "text/plain": [
       "HBox(children=(IntProgress(value=0, max=234), HTML(value='')))"
      ]
     },
     "metadata": {},
     "output_type": "display_data"
    },
    {
     "data": {
      "application/vnd.jupyter.widget-view+json": {
       "model_id": "f9cd89b0685149dfbf6861ec3390f993",
       "version_major": 2,
       "version_minor": 0
      },
      "text/plain": [
       "HBox(children=(IntProgress(value=0, max=234), HTML(value='')))"
      ]
     },
     "metadata": {},
     "output_type": "display_data"
    },
    {
     "data": {
      "application/vnd.jupyter.widget-view+json": {
       "model_id": "601b1fe54f9d47acaa3adc6e4672098b",
       "version_major": 2,
       "version_minor": 0
      },
      "text/plain": [
       "HBox(children=(IntProgress(value=0, max=234), HTML(value='')))"
      ]
     },
     "metadata": {},
     "output_type": "display_data"
    },
    {
     "data": {
      "application/vnd.jupyter.widget-view+json": {
       "model_id": "586676985d984b649c7b10a86cbeae32",
       "version_major": 2,
       "version_minor": 0
      },
      "text/plain": [
       "HBox(children=(IntProgress(value=0, max=234), HTML(value='')))"
      ]
     },
     "metadata": {},
     "output_type": "display_data"
    },
    {
     "data": {
      "application/vnd.jupyter.widget-view+json": {
       "model_id": "017613b4e3fc4ec2ae342a17a9051014",
       "version_major": 2,
       "version_minor": 0
      },
      "text/plain": [
       "HBox(children=(IntProgress(value=0, max=234), HTML(value='')))"
      ]
     },
     "metadata": {},
     "output_type": "display_data"
    },
    {
     "data": {
      "application/vnd.jupyter.widget-view+json": {
       "model_id": "f5c5008b02324c78a872d13038605b9d",
       "version_major": 2,
       "version_minor": 0
      },
      "text/plain": [
       "HBox(children=(IntProgress(value=0, max=234), HTML(value='')))"
      ]
     },
     "metadata": {},
     "output_type": "display_data"
    },
    {
     "data": {
      "application/vnd.jupyter.widget-view+json": {
       "model_id": "6d207011d47748739fc62c39e89457c6",
       "version_major": 2,
       "version_minor": 0
      },
      "text/plain": [
       "HBox(children=(IntProgress(value=0, max=234), HTML(value='')))"
      ]
     },
     "metadata": {},
     "output_type": "display_data"
    },
    {
     "data": {
      "application/vnd.jupyter.widget-view+json": {
       "model_id": "49869dbac0c9436e8f15f3ae4ead206c",
       "version_major": 2,
       "version_minor": 0
      },
      "text/plain": [
       "HBox(children=(IntProgress(value=0, max=234), HTML(value='')))"
      ]
     },
     "metadata": {},
     "output_type": "display_data"
    },
    {
     "data": {
      "application/vnd.jupyter.widget-view+json": {
       "model_id": "c207bba241454f478c06dd9882392b1b",
       "version_major": 2,
       "version_minor": 0
      },
      "text/plain": [
       "HBox(children=(IntProgress(value=0, max=234), HTML(value='')))"
      ]
     },
     "metadata": {},
     "output_type": "display_data"
    },
    {
     "data": {
      "application/vnd.jupyter.widget-view+json": {
       "model_id": "bf241a2c533649ef93abec98caa66ec1",
       "version_major": 2,
       "version_minor": 0
      },
      "text/plain": [
       "HBox(children=(IntProgress(value=0, max=234), HTML(value='')))"
      ]
     },
     "metadata": {},
     "output_type": "display_data"
    },
    {
     "data": {
      "application/vnd.jupyter.widget-view+json": {
       "model_id": "9e07d03374c742889760fea879f569e2",
       "version_major": 2,
       "version_minor": 0
      },
      "text/plain": [
       "HBox(children=(IntProgress(value=0, max=234), HTML(value='')))"
      ]
     },
     "metadata": {},
     "output_type": "display_data"
    },
    {
     "data": {
      "application/vnd.jupyter.widget-view+json": {
       "model_id": "edb6850d0b1e44cb93048838c44c2d0c",
       "version_major": 2,
       "version_minor": 0
      },
      "text/plain": [
       "HBox(children=(IntProgress(value=0, max=234), HTML(value='')))"
      ]
     },
     "metadata": {},
     "output_type": "display_data"
    },
    {
     "data": {
      "application/vnd.jupyter.widget-view+json": {
       "model_id": "3124fc38666b408db4e64d6da00e4695",
       "version_major": 2,
       "version_minor": 0
      },
      "text/plain": [
       "HBox(children=(IntProgress(value=0, max=234), HTML(value='')))"
      ]
     },
     "metadata": {},
     "output_type": "display_data"
    },
    {
     "data": {
      "application/vnd.jupyter.widget-view+json": {
       "model_id": "cd5f9f2771d54d02a200989fbfcac4f8",
       "version_major": 2,
       "version_minor": 0
      },
      "text/plain": [
       "HBox(children=(IntProgress(value=0, max=234), HTML(value='')))"
      ]
     },
     "metadata": {},
     "output_type": "display_data"
    },
    {
     "data": {
      "application/vnd.jupyter.widget-view+json": {
       "model_id": "d42d34a6ce3f4ba8b6202b66c481d687",
       "version_major": 2,
       "version_minor": 0
      },
      "text/plain": [
       "HBox(children=(IntProgress(value=0, max=234), HTML(value='')))"
      ]
     },
     "metadata": {},
     "output_type": "display_data"
    },
    {
     "data": {
      "application/vnd.jupyter.widget-view+json": {
       "model_id": "a1ba37d921874ec5b97d6ea8e7455e03",
       "version_major": 2,
       "version_minor": 0
      },
      "text/plain": [
       "HBox(children=(IntProgress(value=0, max=234), HTML(value='')))"
      ]
     },
     "metadata": {},
     "output_type": "display_data"
    },
    {
     "data": {
      "application/vnd.jupyter.widget-view+json": {
       "model_id": "c5b6342e0d91407e9568c0274adc4e6d",
       "version_major": 2,
       "version_minor": 0
      },
      "text/plain": [
       "HBox(children=(IntProgress(value=0, max=234), HTML(value='')))"
      ]
     },
     "metadata": {},
     "output_type": "display_data"
    },
    {
     "data": {
      "application/vnd.jupyter.widget-view+json": {
       "model_id": "721c5da803da45ff99311946f969de48",
       "version_major": 2,
       "version_minor": 0
      },
      "text/plain": [
       "HBox(children=(IntProgress(value=0, max=234), HTML(value='')))"
      ]
     },
     "metadata": {},
     "output_type": "display_data"
    },
    {
     "data": {
      "application/vnd.jupyter.widget-view+json": {
       "model_id": "fac6acedd4874528a969153ad50b6a96",
       "version_major": 2,
       "version_minor": 0
      },
      "text/plain": [
       "HBox(children=(IntProgress(value=0, max=234), HTML(value='')))"
      ]
     },
     "metadata": {},
     "output_type": "display_data"
    },
    {
     "data": {
      "application/vnd.jupyter.widget-view+json": {
       "model_id": "8f12a9388d3f4d78b145d18a75e3b092",
       "version_major": 2,
       "version_minor": 0
      },
      "text/plain": [
       "HBox(children=(IntProgress(value=0, max=234), HTML(value='')))"
      ]
     },
     "metadata": {},
     "output_type": "display_data"
    },
    {
     "data": {
      "application/vnd.jupyter.widget-view+json": {
       "model_id": "99243294924a42518a8f1cee5cdddb2f",
       "version_major": 2,
       "version_minor": 0
      },
      "text/plain": [
       "HBox(children=(IntProgress(value=0, max=234), HTML(value='')))"
      ]
     },
     "metadata": {},
     "output_type": "display_data"
    },
    {
     "name": "stdout",
     "output_type": "stream",
     "text": [
      "\n"
     ]
    },
    {
     "data": {
      "image/png": "[encoded data removed]",
      "text/plain": [
       "<Figure size 432x288 with 1 Axes>"
      ]
     },
     "metadata": {
      "needs_background": "light"
     },
     "output_type": "display_data"
    }
   ],
   "source": [
    "# Allocate the classifier.\n",
    "classifier = torch.nn.Sequential(\n",
    "    BatchNormConvolutionalLegoPiece(),\n",
    "    RegularizedFullyConnectedLegoPiece(num_hidden=1000, num_classes=10))\n",
    "# Put the classifier on the GPU.\n",
    "classifier = classifier.to(device)\n",
    "# Allocate the optimizer.\n",
    "optimizer = torch.optim.Adam(classifier.parameters())\n",
    "\n",
    "num_epochs = 30\n",
    "validation_losses = []\n",
    "for epoch in tqdm(range(num_epochs)):\n",
    "    train(classifier, optimizer, dataset_train)\n",
    "    validation_loss = validate(classifier, dataset_validation)\n",
    "    validation_losses.append(validation_loss)\n",
    "    \n",
    "# Plot the validation loss.\n",
    "plt.plot(np.arange(len(validation_losses)), validation_losses, color=\"black\")\n",
    "plt.minorticks_on()\n",
    "plt.xlabel(\"Epochs\")\n",
    "plt.ylabel(\"Validation loss\")\n",
    "plt.show()"
   ]
  },
  {
   "cell_type": "markdown",
   "metadata": {},
   "source": [
    "### Saving and loading models (checkpointing)"
   ]
  },
  {
   "cell_type": "code",
   "execution_count": 31,
   "metadata": {},
   "outputs": [
    {
     "name": "stdout",
     "output_type": "stream",
     "text": [
      "mkdir: cannot create directory ‘models’: File exists\r\n"
     ]
    }
   ],
   "source": [
    "!mkdir models"
   ]
  },
  {
   "cell_type": "code",
   "execution_count": 32,
   "metadata": {},
   "outputs": [
    {
     "data": {
      "application/vnd.jupyter.widget-view+json": {
       "model_id": "cb2c26776a584ffbbf0179f36b91c204",
       "version_major": 2,
       "version_minor": 0
      },
      "text/plain": [
       "HBox(children=(IntProgress(value=0, max=30), HTML(value='')))"
      ]
     },
     "metadata": {},
     "output_type": "display_data"
    },
    {
     "data": {
      "application/vnd.jupyter.widget-view+json": {
       "model_id": "e99541f33e5e45e9bf1332c2f27f3b05",
       "version_major": 2,
       "version_minor": 0
      },
      "text/plain": [
       "HBox(children=(IntProgress(value=0, max=234), HTML(value='')))"
      ]
     },
     "metadata": {},
     "output_type": "display_data"
    },
    {
     "name": "stderr",
     "output_type": "stream",
     "text": [
      "/home/joeri/Anaconda/lib/python3.7/site-packages/torch/serialization.py:251: UserWarning: Couldn't retrieve source code for container of type BatchNormConvolutionalLegoPiece. It won't be checked for correctness upon loading.\n",
      "  \"type \" + obj.__name__ + \". It won't be checked \"\n",
      "/home/joeri/Anaconda/lib/python3.7/site-packages/torch/serialization.py:251: UserWarning: Couldn't retrieve source code for container of type RegularizedFullyConnectedLegoPiece. It won't be checked for correctness upon loading.\n",
      "  \"type \" + obj.__name__ + \". It won't be checked \"\n"
     ]
    },
    {
     "data": {
      "application/vnd.jupyter.widget-view+json": {
       "model_id": "f03c0916abd6432dba7da0949a5ee377",
       "version_major": 2,
       "version_minor": 0
      },
      "text/plain": [
       "HBox(children=(IntProgress(value=0, max=234), HTML(value='')))"
      ]
     },
     "metadata": {},
     "output_type": "display_data"
    },
    {
     "data": {
      "application/vnd.jupyter.widget-view+json": {
       "model_id": "1c4fdf65a6184043b10617e909d88f1a",
       "version_major": 2,
       "version_minor": 0
      },
      "text/plain": [
       "HBox(children=(IntProgress(value=0, max=234), HTML(value='')))"
      ]
     },
     "metadata": {},
     "output_type": "display_data"
    },
    {
     "data": {
      "application/vnd.jupyter.widget-view+json": {
       "model_id": "3f0e027e01e049c1a6df7316c793cfd8",
       "version_major": 2,
       "version_minor": 0
      },
      "text/plain": [
       "HBox(children=(IntProgress(value=0, max=234), HTML(value='')))"
      ]
     },
     "metadata": {},
     "output_type": "display_data"
    },
    {
     "data": {
      "application/vnd.jupyter.widget-view+json": {
       "model_id": "f6306d1244294ab1ae82132d28fb8c3f",
       "version_major": 2,
       "version_minor": 0
      },
      "text/plain": [
       "HBox(children=(IntProgress(value=0, max=234), HTML(value='')))"
      ]
     },
     "metadata": {},
     "output_type": "display_data"
    },
    {
     "data": {
      "application/vnd.jupyter.widget-view+json": {
       "model_id": "e36ea42b75064c8983ae96c1aba9d09a",
       "version_major": 2,
       "version_minor": 0
      },
      "text/plain": [
       "HBox(children=(IntProgress(value=0, max=234), HTML(value='')))"
      ]
     },
     "metadata": {},
     "output_type": "display_data"
    },
    {
     "data": {
      "application/vnd.jupyter.widget-view+json": {
       "model_id": "2c01c522d741405cb95ed2517c8f008f",
       "version_major": 2,
       "version_minor": 0
      },
      "text/plain": [
       "HBox(children=(IntProgress(value=0, max=234), HTML(value='')))"
      ]
     },
     "metadata": {},
     "output_type": "display_data"
    },
    {
     "data": {
      "application/vnd.jupyter.widget-view+json": {
       "model_id": "42f1d48707f043d7ae3085d06bdc20ec",
       "version_major": 2,
       "version_minor": 0
      },
      "text/plain": [
       "HBox(children=(IntProgress(value=0, max=234), HTML(value='')))"
      ]
     },
     "metadata": {},
     "output_type": "display_data"
    },
    {
     "data": {
      "application/vnd.jupyter.widget-view+json": {
       "model_id": "8c862dfe8635495db1ba19ae0e0ec1c0",
       "version_major": 2,
       "version_minor": 0
      },
      "text/plain": [
       "HBox(children=(IntProgress(value=0, max=234), HTML(value='')))"
      ]
     },
     "metadata": {},
     "output_type": "display_data"
    },
    {
     "data": {
      "application/vnd.jupyter.widget-view+json": {
       "model_id": "d1e2d37bd473421b884cfd8a0cc44806",
       "version_major": 2,
       "version_minor": 0
      },
      "text/plain": [
       "HBox(children=(IntProgress(value=0, max=234), HTML(value='')))"
      ]
     },
     "metadata": {},
     "output_type": "display_data"
    },
    {
     "data": {
      "application/vnd.jupyter.widget-view+json": {
       "model_id": "684f6da97fff43d988bda506a367137c",
       "version_major": 2,
       "version_minor": 0
      },
      "text/plain": [
       "HBox(children=(IntProgress(value=0, max=234), HTML(value='')))"
      ]
     },
     "metadata": {},
     "output_type": "display_data"
    },
    {
     "data": {
      "application/vnd.jupyter.widget-view+json": {
       "model_id": "caf01d2de57349e8917058847ca85297",
       "version_major": 2,
       "version_minor": 0
      },
      "text/plain": [
       "HBox(children=(IntProgress(value=0, max=234), HTML(value='')))"
      ]
     },
     "metadata": {},
     "output_type": "display_data"
    },
    {
     "data": {
      "application/vnd.jupyter.widget-view+json": {
       "model_id": "8e0b0964130747f3ba08c88e2de910a2",
       "version_major": 2,
       "version_minor": 0
      },
      "text/plain": [
       "HBox(children=(IntProgress(value=0, max=234), HTML(value='')))"
      ]
     },
     "metadata": {},
     "output_type": "display_data"
    },
    {
     "data": {
      "application/vnd.jupyter.widget-view+json": {
       "model_id": "ce5d1ad3a740428aacb09fa3f57e91af",
       "version_major": 2,
       "version_minor": 0
      },
      "text/plain": [
       "HBox(children=(IntProgress(value=0, max=234), HTML(value='')))"
      ]
     },
     "metadata": {},
     "output_type": "display_data"
    },
    {
     "data": {
      "application/vnd.jupyter.widget-view+json": {
       "model_id": "b80ba69281b0401387239cd56fbe1e37",
       "version_major": 2,
       "version_minor": 0
      },
      "text/plain": [
       "HBox(children=(IntProgress(value=0, max=234), HTML(value='')))"
      ]
     },
     "metadata": {},
     "output_type": "display_data"
    },
    {
     "data": {
      "application/vnd.jupyter.widget-view+json": {
       "model_id": "515d5d87ba2d4275a356888eed418ed5",
       "version_major": 2,
       "version_minor": 0
      },
      "text/plain": [
       "HBox(children=(IntProgress(value=0, max=234), HTML(value='')))"
      ]
     },
     "metadata": {},
     "output_type": "display_data"
    },
    {
     "data": {
      "application/vnd.jupyter.widget-view+json": {
       "model_id": "f13466afe1924e1bad5d8a98aab50f7f",
       "version_major": 2,
       "version_minor": 0
      },
      "text/plain": [
       "HBox(children=(IntProgress(value=0, max=234), HTML(value='')))"
      ]
     },
     "metadata": {},
     "output_type": "display_data"
    },
    {
     "data": {
      "application/vnd.jupyter.widget-view+json": {
       "model_id": "4d8601e90733437799606368d4dd23e1",
       "version_major": 2,
       "version_minor": 0
      },
      "text/plain": [
       "HBox(children=(IntProgress(value=0, max=234), HTML(value='')))"
      ]
     },
     "metadata": {},
     "output_type": "display_data"
    },
    {
     "data": {
      "application/vnd.jupyter.widget-view+json": {
       "model_id": "66d2757e103f497881abe41ec9635d25",
       "version_major": 2,
       "version_minor": 0
      },
      "text/plain": [
       "HBox(children=(IntProgress(value=0, max=234), HTML(value='')))"
      ]
     },
     "metadata": {},
     "output_type": "display_data"
    },
    {
     "data": {
      "application/vnd.jupyter.widget-view+json": {
       "model_id": "79b2f300a1134f049400b650a7329857",
       "version_major": 2,
       "version_minor": 0
      },
      "text/plain": [
       "HBox(children=(IntProgress(value=0, max=234), HTML(value='')))"
      ]
     },
     "metadata": {},
     "output_type": "display_data"
    },
    {
     "data": {
      "application/vnd.jupyter.widget-view+json": {
       "model_id": "c08a76d6b2284f55b8be6d7b4befb212",
       "version_major": 2,
       "version_minor": 0
      },
      "text/plain": [
       "HBox(children=(IntProgress(value=0, max=234), HTML(value='')))"
      ]
     },
     "metadata": {},
     "output_type": "display_data"
    },
    {
     "data": {
      "application/vnd.jupyter.widget-view+json": {
       "model_id": "9b4ffeeeca1d4635989258df46b9d1ee",
       "version_major": 2,
       "version_minor": 0
      },
      "text/plain": [
       "HBox(children=(IntProgress(value=0, max=234), HTML(value='')))"
      ]
     },
     "metadata": {},
     "output_type": "display_data"
    },
    {
     "data": {
      "application/vnd.jupyter.widget-view+json": {
       "model_id": "daee8c72e40c4af7b588a5439628e7cd",
       "version_major": 2,
       "version_minor": 0
      },
      "text/plain": [
       "HBox(children=(IntProgress(value=0, max=234), HTML(value='')))"
      ]
     },
     "metadata": {},
     "output_type": "display_data"
    },
    {
     "data": {
      "application/vnd.jupyter.widget-view+json": {
       "model_id": "6c47f392054748d7a666f0e2a77f77c0",
       "version_major": 2,
       "version_minor": 0
      },
      "text/plain": [
       "HBox(children=(IntProgress(value=0, max=234), HTML(value='')))"
      ]
     },
     "metadata": {},
     "output_type": "display_data"
    },
    {
     "data": {
      "application/vnd.jupyter.widget-view+json": {
       "model_id": "a9cdeca12f0f43ada5bbb4d10a4cccfb",
       "version_major": 2,
       "version_minor": 0
      },
      "text/plain": [
       "HBox(children=(IntProgress(value=0, max=234), HTML(value='')))"
      ]
     },
     "metadata": {},
     "output_type": "display_data"
    },
    {
     "data": {
      "application/vnd.jupyter.widget-view+json": {
       "model_id": "138175cd3b22411b894bfd620274be30",
       "version_major": 2,
       "version_minor": 0
      },
      "text/plain": [
       "HBox(children=(IntProgress(value=0, max=234), HTML(value='')))"
      ]
     },
     "metadata": {},
     "output_type": "display_data"
    },
    {
     "data": {
      "application/vnd.jupyter.widget-view+json": {
       "model_id": "a2551d963fa244858986175bdf201a83",
       "version_major": 2,
       "version_minor": 0
      },
      "text/plain": [
       "HBox(children=(IntProgress(value=0, max=234), HTML(value='')))"
      ]
     },
     "metadata": {},
     "output_type": "display_data"
    },
    {
     "data": {
      "application/vnd.jupyter.widget-view+json": {
       "model_id": "462f6ed57d0f4f84b221e1bb767af961",
       "version_major": 2,
       "version_minor": 0
      },
      "text/plain": [
       "HBox(children=(IntProgress(value=0, max=234), HTML(value='')))"
      ]
     },
     "metadata": {},
     "output_type": "display_data"
    },
    {
     "data": {
      "application/vnd.jupyter.widget-view+json": {
       "model_id": "1d8f7a64f5dc477eb0acdf3c1e8e718c",
       "version_major": 2,
       "version_minor": 0
      },
      "text/plain": [
       "HBox(children=(IntProgress(value=0, max=234), HTML(value='')))"
      ]
     },
     "metadata": {},
     "output_type": "display_data"
    },
    {
     "data": {
      "application/vnd.jupyter.widget-view+json": {
       "model_id": "61082c418c5748388013a8c3e4d01a01",
       "version_major": 2,
       "version_minor": 0
      },
      "text/plain": [
       "HBox(children=(IntProgress(value=0, max=234), HTML(value='')))"
      ]
     },
     "metadata": {},
     "output_type": "display_data"
    },
    {
     "name": "stdout",
     "output_type": "stream",
     "text": [
      "\n"
     ]
    },
    {
     "data": {
      "image/png": "[encoded data removed]",
      "text/plain": [
       "<Figure size 432x288 with 1 Axes>"
      ]
     },
     "metadata": {
      "needs_background": "light"
     },
     "output_type": "display_data"
    }
   ],
   "source": [
    "# Allocate the classifier.\n",
    "classifier = torch.nn.Sequential(\n",
    "    BatchNormConvolutionalLegoPiece(),\n",
    "    RegularizedFullyConnectedLegoPiece(num_hidden=1000, num_classes=10))\n",
    "# Put the classifier on the GPU.\n",
    "classifier = classifier.to(device)\n",
    "# Allocate the optimizer.\n",
    "optimizer = torch.optim.Adam(classifier.parameters())\n",
    "\n",
    "num_epochs = 30\n",
    "validation_losses = []\n",
    "for epoch in tqdm(range(num_epochs)):\n",
    "    train(classifier, optimizer, dataset_train)\n",
    "    validation_loss = validate(classifier, dataset_validation)\n",
    "    torch.save(classifier, \"models/\" + str(epoch) + \".model\")\n",
    "    validation_losses.append(validation_loss)\n",
    "    \n",
    "# Plot the validation loss.\n",
    "plt.plot(np.arange(len(validation_losses)), validation_losses, color=\"black\")\n",
    "plt.minorticks_on()\n",
    "plt.xlabel(\"Epochs\")\n",
    "plt.ylabel(\"Validation loss\")\n",
    "plt.show()"
   ]
  },
  {
   "cell_type": "code",
   "execution_count": 33,
   "metadata": {},
   "outputs": [
    {
     "name": "stdout",
     "output_type": "stream",
     "text": [
      "0.model   13.model  17.model  20.model\t24.model  28.model  4.model  8.model\r\n",
      "10.model  14.model  18.model  21.model\t25.model  29.model  5.model  9.model\r\n",
      "11.model  15.model  19.model  22.model\t26.model  2.model   6.model\r\n",
      "12.model  16.model  1.model   23.model\t27.model  3.model   7.model\r\n"
     ]
    }
   ],
   "source": [
    "!ls models"
   ]
  },
  {
   "cell_type": "code",
   "execution_count": 34,
   "metadata": {},
   "outputs": [
    {
     "data": {
      "image/png": "[encoded data removed]",
      "text/plain": [
       "<Figure size 432x288 with 1 Axes>"
      ]
     },
     "metadata": {
      "needs_background": "light"
     },
     "output_type": "display_data"
    },
    {
     "name": "stdout",
     "output_type": "stream",
     "text": [
      "Predicted digit: 7\n"
     ]
    }
   ],
   "source": [
    "classifier = torch.load(\"models/29.model\")\n",
    "classifier.eval() # Set in \"evaluation\" mode. Important!!\n",
    "\n",
    "# Show the input\n",
    "data_index = random.randint(0, 60000)\n",
    "inputs = dataset_train[data_index][0].view(1, 1, 28, 28).cuda()\n",
    "plt.imshow(inputs.view(28, 28).cpu().numpy(), cmap=\"gist_gray\")\n",
    "plt.show()\n",
    "\n",
    "print(\"Predicted digit:\", classifier(inputs).exp().max(1)[1].item())"
   ]
  },
  {
   "cell_type": "markdown",
   "metadata": {},
   "source": [
    "## Tensorboard"
   ]
  },
  {
   "cell_type": "markdown",
   "metadata": {},
   "source": [
    "`pip install tensorboard`\n",
    "\n",
    "`pip install tensorboardX` (for PyTorch and other frameworks)"
   ]
  },
  {
   "cell_type": "markdown",
   "metadata": {},
   "source": [
    "Start the instance using `tensorboard --logdir='./logs' --port=8000`"
   ]
  },
  {
   "cell_type": "code",
   "execution_count": 35,
   "metadata": {},
   "outputs": [],
   "source": [
    "from tensorboardX import SummaryWriter\n",
    "\n",
    "writer = SummaryWriter()"
   ]
  },
  {
   "cell_type": "code",
   "execution_count": 36,
   "metadata": {},
   "outputs": [],
   "source": [
    "def log_loss(iteration, loss):\n",
    "    writer.add_scalar(\"training/loss\", loss.item(), iteration)\n",
    "\n",
    "def train(model, optimizer, dataset, batch_size=256, workers=4):\n",
    "    model.train() # Ensure all modules are in `training` mode.\n",
    "    data_loader = torch.utils.data.DataLoader(dataset, shuffle=True, batch_size=batch_size, num_workers=workers, pin_memory=True)\n",
    "    data_loader = iter(data_loader)\n",
    "    # Compute the loss in the GPU.\n",
    "    criterion = torch.nn.NLLLoss().to(device)\n",
    "    iterations = range(len(dataset) // batch_size)\n",
    "    for batch_index in tqdm(iterations):\n",
    "        inputs, targets = next(data_loader)\n",
    "        # Transfer to the GPU.\n",
    "        inputs = inputs.to(device)\n",
    "        targets = targets.to(device)\n",
    "        prediction = model(inputs)\n",
    "        loss = criterion(prediction, targets)\n",
    "        optimizer.zero_grad()\n",
    "        loss.backward()\n",
    "        optimizer.step()\n",
    "        # Log to Tensorboard.\n",
    "        log_loss(batch_index, loss)\n",
    "        \n",
    "def validate(model, dataset):\n",
    "    model.eval() # Set the model in 'evaluation' model.\n",
    "    data_loader = torch.utils.data.DataLoader(dataset, shuffle=True, batch_size=32, num_workers=4, pin_memory=True)\n",
    "    total_loss = 0\n",
    "    criterion = torch.nn.NLLLoss(reduction=\"sum\").to(device)\n",
    "    with torch.no_grad():\n",
    "        for inputs, targets in data_loader:\n",
    "            inputs = inputs.to(device)\n",
    "            targets = targets.to(device)\n",
    "            outputs = model(inputs)\n",
    "            loss = criterion(outputs, targets).item()\n",
    "            total_loss += loss\n",
    "    \n",
    "    return total_loss"
   ]
  },
  {
   "cell_type": "code",
   "execution_count": 37,
   "metadata": {},
   "outputs": [],
   "source": [
    "# Clean up everything.\n",
    "writer.close()"
   ]
  },
  {
   "cell_type": "markdown",
   "metadata": {},
   "source": [
    "<br><br><br><br><center><h1>Have fun!</h1></center>"
   ]
  }
 ],
 "metadata": {
  "kernelspec": {
   "display_name": "Python 3",
   "language": "python",
   "name": "python3"
  },
  "language_info": {
   "codemirror_mode": {
    "name": "ipython",
    "version": 3
   },
   "file_extension": ".py",
   "mimetype": "text/x-python",
   "name": "python",
   "nbconvert_exporter": "python",
   "pygments_lexer": "ipython3",
   "version": "3.7.1"
  }
 },
 "nbformat": 4,
 "nbformat_minor": 2
}
