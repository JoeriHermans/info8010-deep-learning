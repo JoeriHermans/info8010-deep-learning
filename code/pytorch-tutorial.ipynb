{
 "cells": [
  {
   "cell_type": "markdown",
   "metadata": {},
   "source": [
    "# INFO8010 Deep Learning - An introduction to PyTorch\n",
    "*Joeri Hermans*<br>\n",
    "*University of Liège, Belgium*<br>\n",
    "[joeri.hermans@doct.uliege.be](mailto:joeri.hermans@doct.uliege.be)"
   ]
  },
  {
   "cell_type": "code",
   "execution_count": 1,
   "metadata": {},
   "outputs": [
    {
     "name": "stdout",
     "output_type": "stream",
     "text": [
      "Thu Mar 14 13:13:04 CET 2019\r\n"
     ]
    }
   ],
   "source": [
    "!date"
   ]
  },
  {
   "cell_type": "markdown",
   "metadata": {},
   "source": [
    "## Front matter\n",
    "\n",
    "The PyTorch documentation provides a great resource and is significantly more detailed than this lecture. Introductory concepts include:\n",
    "- [Main concepts such as `tensors` and `autograd`](https://pytorch.org/tutorials/beginner/pytorch_with_examples.html).\n",
    "- A 60-minute [crash-course](https://pytorch.org/tutorials/beginner/deep_learning_60min_blitz.html) covering the main usage.\n",
    "- [Loading and processing data](https://pytorch.org/tutorials/beginner/data_loading_tutorial.html).\n",
    "- [Saving and loading models](https://pytorch.org/tutorials/beginner/saving_loading_models.html).\n",
    "- [Syntactic sugar with torch.nn](https://pytorch.org/tutorials/beginner/nn_tutorial.html).\n",
    "- [Transfer learning](https://pytorch.org/tutorials/beginner/transfer_learning_tutorial.html).\n",
    "- [Building a chatbot model](https://pytorch.org/tutorials/beginner/chatbot_tutorial.html).\n",
    "- [Deploying a Seq2Seq model (chatbot) with the Hybrid frontend -> \"compile\" to graph](https://pytorch.org/tutorials/beginner/deploy_seq2seq_hybrid_frontend_tutorial.html).\n",
    "- [Generative Adversarial Networks (DCGAN) using the faces dataset](https://pytorch.org/tutorials/beginner/dcgan_faces_tutorial.html).\n",
    "- [Reinforcement learning (DQN) tutorial](https://pytorch.org/tutorials/intermediate/reinforcement_q_learning.html).\n",
    "- [Writing distributed applications](https://pytorch.org/tutorials/intermediate/dist_tuto.html).\n",
    "- [Distributed training](https://pytorch.org/tutorials/beginner/aws_distributed_training_tutorial.html) (including multi-GPU).\n",
    "- [ONNX](https://pytorch.org/tutorials/advanced/ONNXLive.html) (standard to describe models, useful to transfer between frameworks).\n",
    "- [Using the C++ API](https://pytorch.org/tutorials/advanced/cpp_frontend.html).\n",
    "\n",
    "And many more in PyTorch's [examples](https://github.com/pytorch/examples) GitHub repository. Check it out!"
   ]
  },
  {
   "cell_type": "markdown",
   "metadata": {},
   "source": [
    "## Requirements\n",
    "\n",
    "- [Anaconda](https://www.anaconda.com/distribution/) Python environment (optional, but recommended). Please do not use `Python 2.7`.\n",
    "- [PyTorch](https://pytorch.org/get-started/locally/) according to your system configuration."
   ]
  },
  {
   "cell_type": "markdown",
   "metadata": {},
   "source": [
    "## Let's start"
   ]
  },
  {
   "cell_type": "markdown",
   "metadata": {},
   "source": [
    "Have you ever used **numpy** before?"
   ]
  },
  {
   "cell_type": "code",
   "execution_count": 2,
   "metadata": {},
   "outputs": [],
   "source": [
    "import numpy as np"
   ]
  },
  {
   "cell_type": "markdown",
   "metadata": {},
   "source": [
    "> NumPy’s main object is the homogeneous multidimensional array. It is a table of elements (usually numbers), all of the same type."
   ]
  },
  {
   "cell_type": "code",
   "execution_count": 3,
   "metadata": {},
   "outputs": [
    {
     "data": {
      "text/plain": [
       "array([[ 0.44077922, -0.31248814,  0.72822945],\n",
       "       [ 0.62378637,  0.34292561, -1.16910425],\n",
       "       [-1.95882513,  1.19400686,  0.38254982]])"
      ]
     },
     "execution_count": 3,
     "metadata": {},
     "output_type": "execute_result"
    }
   ],
   "source": [
    "# A 5x5 matrix of samples from Normal(mu=0, sigma=1).\n",
    "m = np.random.randn(3, 3)\n",
    "\n",
    "m"
   ]
  },
  {
   "cell_type": "markdown",
   "metadata": {},
   "source": [
    "In fact, from an conceptual point-of-view, `pytorch` and `numpy` are quite similar."
   ]
  },
  {
   "cell_type": "code",
   "execution_count": 4,
   "metadata": {},
   "outputs": [],
   "source": [
    "import torch"
   ]
  },
  {
   "cell_type": "markdown",
   "metadata": {},
   "source": [
    "> A `tensor` is an n-dimensional array."
   ]
  },
  {
   "cell_type": "code",
   "execution_count": 5,
   "metadata": {},
   "outputs": [
    {
     "data": {
      "text/plain": [
       "tensor([[ 0.4408, -0.3125,  0.7282],\n",
       "        [ 0.6238,  0.3429, -1.1691],\n",
       "        [-1.9588,  1.1940,  0.3825]])"
      ]
     },
     "execution_count": 5,
     "metadata": {},
     "output_type": "execute_result"
    }
   ],
   "source": [
    "# A 5x5 tensor of samples from Normal(mu=0, sigma=1).\n",
    "#t = torch.randn(3, 3)\n",
    "#t = torch.from_numpy(m)\n",
    "#t = torch.from_numpy(m).float()\n",
    "t = torch.tensor(m, dtype=torch.float32)\n",
    "\n",
    "t"
   ]
  },
  {
   "cell_type": "markdown",
   "metadata": {},
   "source": [
    "Because of the similarities in the API, I personally use `pytorch` instead of `numpy` for computing projects because of the GPU acceleration. \n",
    "\n",
    "Consider the multiplication of the matrix `m`. In `numpy` this is:"
   ]
  },
  {
   "cell_type": "code",
   "execution_count": 6,
   "metadata": {},
   "outputs": [
    {
     "data": {
      "text/plain": [
       "array([[-1.42711367,  0.62461249,  0.96490368],\n",
       "       [ 2.77893518, -1.47324636, -0.39389681],\n",
       "       [-0.86795242,  1.47833228, -2.67604828]])"
      ]
     },
     "execution_count": 6,
     "metadata": {},
     "output_type": "execute_result"
    }
   ],
   "source": [
    "np.matmul(m, m)"
   ]
  },
  {
   "cell_type": "markdown",
   "metadata": {},
   "source": [
    "In `pytorch`:"
   ]
  },
  {
   "cell_type": "code",
   "execution_count": 7,
   "metadata": {},
   "outputs": [
    {
     "data": {
      "text/plain": [
       "tensor([[-1.4271,  0.6246,  0.9649],\n",
       "        [ 2.7789, -1.4732, -0.3939],\n",
       "        [-0.8680,  1.4783, -2.6760]])"
      ]
     },
     "execution_count": 7,
     "metadata": {},
     "output_type": "execute_result"
    }
   ],
   "source": [
    "torch.matmul(t, t)"
   ]
  },
  {
   "cell_type": "markdown",
   "metadata": {},
   "source": [
    "Alternatively, you can apply the operation on the `tensor` itself:"
   ]
  },
  {
   "cell_type": "code",
   "execution_count": 8,
   "metadata": {},
   "outputs": [
    {
     "data": {
      "text/plain": [
       "tensor([[-1.4271,  0.6246,  0.9649],\n",
       "        [ 2.7789, -1.4732, -0.3939],\n",
       "        [-0.8680,  1.4783, -2.6760]])"
      ]
     },
     "execution_count": 8,
     "metadata": {},
     "output_type": "execute_result"
    }
   ],
   "source": [
    "t.matmul(t)"
   ]
  },
  {
   "cell_type": "markdown",
   "metadata": {},
   "source": [
    "## A simple neural network"
   ]
  },
  {
   "cell_type": "code",
   "execution_count": 9,
   "metadata": {},
   "outputs": [],
   "source": [
    "# To draw a progress bar.\n",
    "from tqdm import tqdm_notebook as tqdm\n",
    "# Plotting functionality\n",
    "import matplotlib.pyplot as plt"
   ]
  },
  {
   "cell_type": "code",
   "execution_count": 10,
   "metadata": {},
   "outputs": [],
   "source": [
    "# Optimization hyperparameters.\n",
    "batch_size = 32\n",
    "learning_rate = 1e-6\n",
    "training_iterations = range(10000)\n",
    "\n",
    "# Configuration of the neural network.\n",
    "num_hidden = 1000\n",
    "num_in = 100\n",
    "num_out = 1"
   ]
  },
  {
   "cell_type": "markdown",
   "metadata": {},
   "source": [
    "### `numpy`"
   ]
  },
  {
   "cell_type": "code",
   "execution_count": 11,
   "metadata": {},
   "outputs": [
    {
     "data": {
      "application/vnd.jupyter.widget-view+json": {
       "model_id": "5d737c27ef60406788627ddab7ca90c6",
       "version_major": 2,
       "version_minor": 0
      },
      "text/plain": [
       "HBox(children=(IntProgress(value=0, max=10000), HTML(value='')))"
      ]
     },
     "metadata": {},
     "output_type": "display_data"
    },
    {
     "name": "stdout",
     "output_type": "stream",
     "text": [
      "\n"
     ]
    },
    {
     "data": {
      "image/png": "[encoded data removed]",
      "text/plain": [
       "<Figure size 432x288 with 1 Axes>"
      ]
     },
     "metadata": {
      "needs_background": "light"
     },
     "output_type": "display_data"
    }
   ],
   "source": [
    "# Randomly initialize the weights.\n",
    "w_1 = np.random.randn(num_in, num_hidden) # input -> hidden\n",
    "w_2 = np.random.randn(num_hidden, num_out) # hidden -> output\n",
    "\n",
    "losses = []\n",
    "for iteration in tqdm(training_iterations):\n",
    "    # Fetch the input and corresponding output.\n",
    "    inputs = np.random.randn(batch_size, num_in)\n",
    "    targets = np.random.randn(batch_size, num_out)\n",
    "    \n",
    "    # Apply the `forward` computation of the neural network (compute the prediction).\n",
    "    h = np.matmul(inputs, w_1) # You could also do `inputs.dot(w_1)`.\n",
    "    activation = np.maximum(h, 0)\n",
    "    y_predicted = np.matmul(activation, w_2)\n",
    "    \n",
    "    # Compute loss.\n",
    "    diff = y_predicted - targets\n",
    "    loss = np.square(diff).mean()\n",
    "    losses.append(loss)\n",
    "    \n",
    "    # Apply backpropagation.\n",
    "    grad_y_prediction = diff\n",
    "    grad_w_2 = np.matmul(activation.T, grad_y_prediction)\n",
    "    grad_activation = np.matmul(grad_y_prediction, w_2.T)\n",
    "    grad_h = grad_activation.copy()\n",
    "    grad_h[h < 0] = 0 # Gradient of ReLU is h (except for activations < 0, then it is 0).\n",
    "    grad_w_1 = np.matmul(inputs.T, grad_h)\n",
    "    \n",
    "    # Update the weights.\n",
    "    w_1 -= learning_rate * grad_w_1\n",
    "    w_2 -= learning_rate * grad_w_2\n",
    "    \n",
    "# Show the loss over the training iterations.\n",
    "plt.plot(training_iterations, losses, color=\"black\")\n",
    "plt.minorticks_on()\n",
    "plt.yscale(\"log\")\n",
    "plt.xlabel(\"Iterations\")\n",
    "plt.ylabel(\"Loss\")\n",
    "plt.grid(True, alpha=.2)\n",
    "plt.show()"
   ]
  },
  {
   "cell_type": "markdown",
   "metadata": {},
   "source": [
    "Amazing, these things even fit random noise."
   ]
  },
  {
   "cell_type": "markdown",
   "metadata": {},
   "source": [
    "### `pytorch` (no autograd)"
   ]
  },
  {
   "cell_type": "code",
   "execution_count": 12,
   "metadata": {},
   "outputs": [
    {
     "data": {
      "application/vnd.jupyter.widget-view+json": {
       "model_id": "c5eeec40611844a388f498210cf90e38",
       "version_major": 2,
       "version_minor": 0
      },
      "text/plain": [
       "HBox(children=(IntProgress(value=0, max=10000), HTML(value='')))"
      ]
     },
     "metadata": {},
     "output_type": "display_data"
    },
    {
     "name": "stdout",
     "output_type": "stream",
     "text": [
      "\n"
     ]
    },
    {
     "data": {
      "image/png": "[encoded data removed]",
      "text/plain": [
       "<Figure size 432x288 with 1 Axes>"
      ]
     },
     "metadata": {
      "needs_background": "light"
     },
     "output_type": "display_data"
    }
   ],
   "source": [
    "# Randomly initialize the weights.\n",
    "w_1 = torch.randn(num_in, num_hidden) # input -> hidden\n",
    "w_2 = torch.randn(num_hidden, num_out) # hidden -> output\n",
    "\n",
    "losses = []\n",
    "for iteration in tqdm(training_iterations):\n",
    "    # Fetch the input and corresponding output.\n",
    "    inputs = torch.randn(batch_size, num_in)\n",
    "    targets = torch.randn(batch_size, num_out)\n",
    "    \n",
    "    # Apply the `forward` computation of the neural network (compute the prediction).\n",
    "    h = torch.matmul(inputs, w_1)\n",
    "    activation = torch.clamp(h, min=0)\n",
    "    y_predicted = torch.matmul(activation, w_2)\n",
    "    \n",
    "    # Compute loss.\n",
    "    diff = y_predicted - targets\n",
    "    loss = torch.pow(diff, 2).mean()\n",
    "    losses.append(loss)\n",
    "    \n",
    "    # Apply backpropagation.\n",
    "    grad_y_prediction = diff\n",
    "    grad_w_2 = torch.matmul(activation.t(), grad_y_prediction)\n",
    "    grad_activation = torch.matmul(grad_y_prediction, w_2.t())\n",
    "    grad_h = grad_activation.clone()\n",
    "    grad_h[h < 0] = 0 # Gradient of ReLU is h (except for activations < 0, then it is 0).\n",
    "    grad_w_1 = torch.matmul(inputs.t(), grad_h)\n",
    "    \n",
    "    # Update the weights.\n",
    "    w_1 -= learning_rate * grad_w_1\n",
    "    w_2 -= learning_rate * grad_w_2\n",
    "    \n",
    "# Show the loss over the training iterations.\n",
    "plt.plot(training_iterations, losses, color=\"black\")\n",
    "plt.minorticks_on()\n",
    "plt.yscale(\"log\")\n",
    "plt.xlabel(\"Iterations\")\n",
    "plt.ylabel(\"Loss\")\n",
    "plt.grid(True, alpha=.2)\n",
    "plt.show()"
   ]
  },
  {
   "cell_type": "markdown",
   "metadata": {},
   "source": []
  }
 ],
 "metadata": {
  "kernelspec": {
   "display_name": "Python 3",
   "language": "python",
   "name": "python3"
  },
  "language_info": {
   "codemirror_mode": {
    "name": "ipython",
    "version": 3
   },
   "file_extension": ".py",
   "mimetype": "text/x-python",
   "name": "python",
   "nbconvert_exporter": "python",
   "pygments_lexer": "ipython3",
   "version": "3.7.1"
  }
 },
 "nbformat": 4,
 "nbformat_minor": 2
}
