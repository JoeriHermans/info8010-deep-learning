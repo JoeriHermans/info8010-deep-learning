{
 "cells": [
  {
   "cell_type": "markdown",
   "metadata": {},
   "source": [
    "# INFO8010 Deep Learning - An introduction to PyTorch\n",
    "*Joeri Hermans*<br>\n",
    "*University of Liège, Belgium*<br>\n",
    "[joeri.hermans@doct.uliege.be](mailto:joeri.hermans@doct.uliege.be)"
   ]
  },
  {
   "cell_type": "code",
   "execution_count": 1,
   "metadata": {},
   "outputs": [
    {
     "name": "stdout",
     "output_type": "stream",
     "text": [
      "Thu Mar 14 15:09:46 CET 2019\r\n"
     ]
    }
   ],
   "source": [
    "!date"
   ]
  },
  {
   "cell_type": "markdown",
   "metadata": {},
   "source": [
    "## Front matter\n",
    "\n",
    "The PyTorch documentation provides a great resource and is significantly more detailed than this lecture. Introductory concepts include:\n",
    "- [Main concepts such as `tensors` and `autograd`](https://pytorch.org/tutorials/beginner/pytorch_with_examples.html).\n",
    "- A 60-minute [crash-course](https://pytorch.org/tutorials/beginner/deep_learning_60min_blitz.html) covering the main usage.\n",
    "- [Loading and processing data](https://pytorch.org/tutorials/beginner/data_loading_tutorial.html).\n",
    "- [Saving and loading models](https://pytorch.org/tutorials/beginner/saving_loading_models.html).\n",
    "- [Syntactic sugar with torch.nn](https://pytorch.org/tutorials/beginner/nn_tutorial.html).\n",
    "- [Transfer learning](https://pytorch.org/tutorials/beginner/transfer_learning_tutorial.html).\n",
    "- [Building a chatbot model](https://pytorch.org/tutorials/beginner/chatbot_tutorial.html).\n",
    "- [Deploying a Seq2Seq model (chatbot) with the Hybrid frontend -> \"compile\" to graph](https://pytorch.org/tutorials/beginner/deploy_seq2seq_hybrid_frontend_tutorial.html).\n",
    "- [Generative Adversarial Networks (DCGAN) using the faces dataset](https://pytorch.org/tutorials/beginner/dcgan_faces_tutorial.html).\n",
    "- [Reinforcement learning (DQN) tutorial](https://pytorch.org/tutorials/intermediate/reinforcement_q_learning.html).\n",
    "- [Writing distributed applications](https://pytorch.org/tutorials/intermediate/dist_tuto.html).\n",
    "- [Distributed training](https://pytorch.org/tutorials/beginner/aws_distributed_training_tutorial.html) (including multi-GPU).\n",
    "- [ONNX](https://pytorch.org/tutorials/advanced/ONNXLive.html) (standard to describe models, useful to transfer between frameworks).\n",
    "- [Using the C++ API](https://pytorch.org/tutorials/advanced/cpp_frontend.html).\n",
    "\n",
    "And many more in PyTorch's [examples](https://github.com/pytorch/examples) GitHub repository. Check it out!"
   ]
  },
  {
   "cell_type": "markdown",
   "metadata": {},
   "source": [
    "## Requirements\n",
    "\n",
    "- [Anaconda](https://www.anaconda.com/distribution/) Python environment (optional, but recommended). Please do not use `Python 2.7`.\n",
    "- [PyTorch](https://pytorch.org/get-started/locally/) according to your system configuration."
   ]
  },
  {
   "cell_type": "markdown",
   "metadata": {},
   "source": [
    "## Let's start"
   ]
  },
  {
   "cell_type": "markdown",
   "metadata": {},
   "source": [
    "Have you ever used **numpy** before?"
   ]
  },
  {
   "cell_type": "code",
   "execution_count": 2,
   "metadata": {},
   "outputs": [],
   "source": [
    "import numpy as np"
   ]
  },
  {
   "cell_type": "markdown",
   "metadata": {},
   "source": [
    "> NumPy’s main object is the homogeneous multidimensional array. It is a table of elements (usually numbers), all of the same type."
   ]
  },
  {
   "cell_type": "code",
   "execution_count": 3,
   "metadata": {},
   "outputs": [
    {
     "data": {
      "text/plain": [
       "array([[-0.94754789, -0.76006838,  0.81619354],\n",
       "       [ 0.21783833,  0.63306747,  0.61265849],\n",
       "       [ 2.01550617,  1.41164439,  0.09620541]])"
      ]
     },
     "execution_count": 3,
     "metadata": {},
     "output_type": "execute_result"
    }
   ],
   "source": [
    "# A 5x5 matrix of samples from Normal(mu=0, sigma=1).\n",
    "m = np.random.randn(3, 3)\n",
    "\n",
    "m"
   ]
  },
  {
   "cell_type": "markdown",
   "metadata": {},
   "source": [
    "In fact, from an conceptual point-of-view, `pytorch` and `numpy` are quite similar."
   ]
  },
  {
   "cell_type": "code",
   "execution_count": 4,
   "metadata": {},
   "outputs": [],
   "source": [
    "import torch"
   ]
  },
  {
   "cell_type": "markdown",
   "metadata": {},
   "source": [
    "> A `tensor` is an n-dimensional array."
   ]
  },
  {
   "cell_type": "code",
   "execution_count": 5,
   "metadata": {},
   "outputs": [
    {
     "data": {
      "text/plain": [
       "tensor([[-0.9475, -0.7601,  0.8162],\n",
       "        [ 0.2178,  0.6331,  0.6127],\n",
       "        [ 2.0155,  1.4116,  0.0962]])"
      ]
     },
     "execution_count": 5,
     "metadata": {},
     "output_type": "execute_result"
    }
   ],
   "source": [
    "# A 5x5 tensor of samples from Normal(mu=0, sigma=1).\n",
    "#t = torch.randn(3, 3)\n",
    "#t = torch.from_numpy(m)\n",
    "#t = torch.from_numpy(m).float()\n",
    "t = torch.tensor(m, dtype=torch.float32)\n",
    "\n",
    "t"
   ]
  },
  {
   "cell_type": "markdown",
   "metadata": {},
   "source": [
    "Because of the similarities in the API, I personally use `pytorch` instead of `numpy` for computing projects because of the GPU acceleration. \n",
    "\n",
    "Consider the multiplication of the matrix `m`. In `numpy` this is:"
   ]
  },
  {
   "cell_type": "code",
   "execution_count": 6,
   "metadata": {},
   "outputs": [
    {
     "data": {
      "text/plain": [
       "array([[ 2.3773181 ,  1.39120167, -1.16052259],\n",
       "       [ 1.16631108,  1.10005832,  0.62459346],\n",
       "       [-1.40837577, -0.50244854,  2.51915452]])"
      ]
     },
     "execution_count": 6,
     "metadata": {},
     "output_type": "execute_result"
    }
   ],
   "source": [
    "np.matmul(m, m)"
   ]
  },
  {
   "cell_type": "markdown",
   "metadata": {},
   "source": [
    "In `pytorch`:"
   ]
  },
  {
   "cell_type": "code",
   "execution_count": 7,
   "metadata": {},
   "outputs": [
    {
     "data": {
      "text/plain": [
       "tensor([[ 2.3773,  1.3912, -1.1605],\n",
       "        [ 1.1663,  1.1001,  0.6246],\n",
       "        [-1.4084, -0.5024,  2.5192]])"
      ]
     },
     "execution_count": 7,
     "metadata": {},
     "output_type": "execute_result"
    }
   ],
   "source": [
    "torch.matmul(t, t)"
   ]
  },
  {
   "cell_type": "markdown",
   "metadata": {},
   "source": [
    "Alternatively, you can apply an operation on the `tensor` itself:"
   ]
  },
  {
   "cell_type": "code",
   "execution_count": 8,
   "metadata": {},
   "outputs": [
    {
     "data": {
      "text/plain": [
       "tensor([[ 2.3773,  1.3912, -1.1605],\n",
       "        [ 1.1663,  1.1001,  0.6246],\n",
       "        [-1.4084, -0.5024,  2.5192]])"
      ]
     },
     "execution_count": 8,
     "metadata": {},
     "output_type": "execute_result"
    }
   ],
   "source": [
    "t.matmul(t)"
   ]
  },
  {
   "cell_type": "markdown",
   "metadata": {},
   "source": [
    "## A simple neural network\n",
    "\n",
    "In this section we will train a simple MLP (multilayered perceptron) with `ReLU` activations. To train the network, we implement gradient descent by hand."
   ]
  },
  {
   "cell_type": "code",
   "execution_count": 9,
   "metadata": {},
   "outputs": [],
   "source": [
    "# To draw a progress bar.\n",
    "from tqdm import tqdm_notebook as tqdm\n",
    "# Plotting functionality\n",
    "import matplotlib.pyplot as plt\n",
    "\n",
    "# Optimization hyperparameters.\n",
    "batch_size = 32\n",
    "learning_rate = 1e-6\n",
    "training_iterations = range(5000)\n",
    "\n",
    "# Configuration of the neural network.\n",
    "num_hidden = 1000\n",
    "num_in = 100\n",
    "num_out = 1"
   ]
  },
  {
   "cell_type": "markdown",
   "metadata": {},
   "source": [
    "### `numpy`"
   ]
  },
  {
   "cell_type": "code",
   "execution_count": 10,
   "metadata": {},
   "outputs": [
    {
     "data": {
      "application/vnd.jupyter.widget-view+json": {
       "model_id": "a325913f5739485cbc43c66301d8be0d",
       "version_major": 2,
       "version_minor": 0
      },
      "text/plain": [
       "HBox(children=(IntProgress(value=0, max=5000), HTML(value='')))"
      ]
     },
     "metadata": {},
     "output_type": "display_data"
    },
    {
     "name": "stdout",
     "output_type": "stream",
     "text": [
      "\n"
     ]
    },
    {
     "data": {
      "image/png": "[encoded data removed]",
      "text/plain": [
       "<Figure size 432x288 with 1 Axes>"
      ]
     },
     "metadata": {
      "needs_background": "light"
     },
     "output_type": "display_data"
    }
   ],
   "source": [
    "# Randomly initialize the weights.\n",
    "w_1 = np.random.randn(num_in, num_hidden) # input -> hidden\n",
    "w_2 = np.random.randn(num_hidden, num_out) # hidden -> output\n",
    "\n",
    "losses = []\n",
    "for iteration in tqdm(training_iterations):\n",
    "    # Fetch the input and corresponding output.\n",
    "    inputs = np.random.randn(batch_size, num_in)\n",
    "    targets = np.random.randn(batch_size, num_out)\n",
    "    \n",
    "    # Apply the `forward` computation of the neural network (compute the prediction).\n",
    "    h = np.matmul(inputs, w_1) # You could also do `inputs.dot(w_1)`.\n",
    "    activation = np.maximum(h, 0)\n",
    "    y_predicted = np.matmul(activation, w_2)\n",
    "    \n",
    "    # Compute loss.\n",
    "    diff = y_predicted - targets\n",
    "    loss = np.square(diff).mean()\n",
    "    losses.append(loss)\n",
    "    \n",
    "    # Apply backpropagation.\n",
    "    grad_y_prediction = 2 * diff\n",
    "    grad_w_2 = np.matmul(activation.T, grad_y_prediction)\n",
    "    grad_activation = np.matmul(grad_y_prediction, w_2.T)\n",
    "    grad_h = grad_activation.copy()\n",
    "    grad_h[h < 0] = 0 # Gradient of ReLU is h (except for activations < 0, then it is 0).\n",
    "    grad_w_1 = np.matmul(inputs.T, grad_h)\n",
    "    \n",
    "    # Update the weights.\n",
    "    w_1 -= learning_rate * grad_w_1\n",
    "    w_2 -= learning_rate * grad_w_2\n",
    "    \n",
    "# Show the loss over the training iterations.\n",
    "plt.plot(training_iterations, losses, color=\"black\")\n",
    "plt.minorticks_on()\n",
    "plt.yscale(\"log\")\n",
    "plt.xlabel(\"Iterations\")\n",
    "plt.ylabel(\"Loss\")\n",
    "plt.grid(True, alpha=.2)\n",
    "plt.show()"
   ]
  },
  {
   "cell_type": "markdown",
   "metadata": {},
   "source": [
    "### `pytorch` (no autograd)"
   ]
  },
  {
   "cell_type": "code",
   "execution_count": 11,
   "metadata": {},
   "outputs": [
    {
     "data": {
      "application/vnd.jupyter.widget-view+json": {
       "model_id": "779cf5dca7e844578a62d3b465a37eba",
       "version_major": 2,
       "version_minor": 0
      },
      "text/plain": [
       "HBox(children=(IntProgress(value=0, max=5000), HTML(value='')))"
      ]
     },
     "metadata": {},
     "output_type": "display_data"
    },
    {
     "name": "stdout",
     "output_type": "stream",
     "text": [
      "\n"
     ]
    },
    {
     "data": {
      "image/png": "[encoded data removed]",
      "text/plain": [
       "<Figure size 432x288 with 1 Axes>"
      ]
     },
     "metadata": {
      "needs_background": "light"
     },
     "output_type": "display_data"
    }
   ],
   "source": [
    "# Randomly initialize the weights.\n",
    "w_1 = torch.randn(num_in, num_hidden) # input -> hidden\n",
    "w_2 = torch.randn(num_hidden, num_out) # hidden -> output\n",
    "\n",
    "losses = []\n",
    "for iteration in tqdm(training_iterations):\n",
    "    # Fetch the input and corresponding output.\n",
    "    inputs = torch.randn(batch_size, num_in)\n",
    "    targets = torch.randn(batch_size, num_out)\n",
    "    \n",
    "    # Apply the `forward` computation of the neural network (compute the prediction).\n",
    "    h = torch.matmul(inputs, w_1)\n",
    "    activation = torch.clamp(h, min=0)\n",
    "    y_predicted = torch.matmul(activation, w_2)\n",
    "    \n",
    "    # Compute loss.\n",
    "    diff = y_predicted - targets\n",
    "    loss = torch.pow(diff, 2).mean()\n",
    "    losses.append(loss)\n",
    "    \n",
    "    # Apply backpropagation.\n",
    "    grad_y_prediction = 2 * diff\n",
    "    grad_w_2 = torch.matmul(activation.t(), grad_y_prediction)\n",
    "    grad_activation = torch.matmul(grad_y_prediction, w_2.t())\n",
    "    grad_h = grad_activation.clone()\n",
    "    grad_h[h < 0] = 0 # Gradient of ReLU is h (except for activations < 0, then it is 0).\n",
    "    grad_w_1 = torch.matmul(inputs.t(), grad_h)\n",
    "    \n",
    "    # Update the weights.\n",
    "    w_1 -= learning_rate * grad_w_1\n",
    "    w_2 -= learning_rate * grad_w_2\n",
    "    \n",
    "# Show the loss over the training iterations.\n",
    "plt.plot(training_iterations, losses, color=\"black\")\n",
    "plt.minorticks_on()\n",
    "plt.yscale(\"log\")\n",
    "plt.xlabel(\"Iterations\")\n",
    "plt.ylabel(\"Loss\")\n",
    "plt.grid(True, alpha=.2)\n",
    "plt.show()"
   ]
  },
  {
   "cell_type": "markdown",
   "metadata": {},
   "source": [
    "### `pytorch` (with autograd)"
   ]
  },
  {
   "cell_type": "markdown",
   "metadata": {},
   "source": [
    "Obviously, implementing the backward pass by hand for complex models is kinda tricky (can you imagine doing this in the 90's?), and you will have to rely on a lot of diagnostics to verify your implementation. Luckily, we have [PyTorch's autodifferentiation](https://pytorch.org/docs/stable/autograd.html) to handle this in the background."
   ]
  },
  {
   "cell_type": "code",
   "execution_count": 12,
   "metadata": {},
   "outputs": [
    {
     "data": {
      "application/vnd.jupyter.widget-view+json": {
       "model_id": "2ad19de1c7184231b6d07ec5c45b67ef",
       "version_major": 2,
       "version_minor": 0
      },
      "text/plain": [
       "HBox(children=(IntProgress(value=0, max=5000), HTML(value='')))"
      ]
     },
     "metadata": {},
     "output_type": "display_data"
    },
    {
     "name": "stdout",
     "output_type": "stream",
     "text": [
      "\n"
     ]
    },
    {
     "data": {
      "image/png": "[encoded data removed]",
      "text/plain": [
       "<Figure size 432x288 with 1 Axes>"
      ]
     },
     "metadata": {
      "needs_background": "light"
     },
     "output_type": "display_data"
    }
   ],
   "source": [
    "# Randomly initialize the weights.\n",
    "w_1 = torch.randn(num_in, num_hidden) # input -> hidden\n",
    "w_2 = torch.randn(num_hidden, num_out) # hidden -> output\n",
    "\n",
    "# We would like to compute the gradient with respect to the parameters of the model.\n",
    "w_1.requires_grad = True\n",
    "w_2.requires_grad = True\n",
    "\n",
    "losses = []\n",
    "for iteration in tqdm(training_iterations):\n",
    "    # Fetch the input and corresponding output.\n",
    "    inputs = torch.randn(batch_size, num_in)\n",
    "    targets = torch.randn(batch_size, num_out)\n",
    "    \n",
    "    # Apply the `forward` computation of the neural network (compute the prediction).\n",
    "    h = torch.matmul(inputs, w_1)\n",
    "    activation = torch.clamp(h, min=0)\n",
    "    y_predicted = torch.matmul(activation, w_2)\n",
    "    \n",
    "    # Compute loss.\n",
    "    diff = y_predicted - targets\n",
    "    loss = torch.pow(diff, 2).mean()\n",
    "    losses.append(loss)\n",
    "    \n",
    "    # Apply backpropagation.\n",
    "    loss.backward()\n",
    "    \n",
    "    # Update the weights.\n",
    "    with torch.no_grad():\n",
    "        # Update the weights with the derrived gradients.\n",
    "        w_1 -= learning_rate * w_1.grad\n",
    "        w_2 -= learning_rate * w_2.grad\n",
    "        # Reset the accumulation of gradients.\n",
    "        w_1.grad.zero_()\n",
    "        w_2.grad.zero_()\n",
    "    \n",
    "# Show the loss over the training iterations.\n",
    "plt.plot(training_iterations, losses, color=\"black\")\n",
    "plt.minorticks_on()\n",
    "plt.yscale(\"log\")\n",
    "plt.xlabel(\"Iterations\")\n",
    "plt.ylabel(\"Loss\")\n",
    "plt.grid(True, alpha=.2)\n",
    "plt.show()"
   ]
  },
  {
   "cell_type": "markdown",
   "metadata": {},
   "source": [
    "Wait. Why is the `autograd` loss different?"
   ]
  },
  {
   "cell_type": "markdown",
   "metadata": {},
   "source": [
    "**Computer Science 101**: How *should* we compare 2 floating points?"
   ]
  },
  {
   "cell_type": "code",
   "execution_count": 13,
   "metadata": {},
   "outputs": [
    {
     "name": "stdout",
     "output_type": "stream",
     "text": [
      "Whoops\n"
     ]
    }
   ],
   "source": [
    "import random\n",
    "\n",
    "a = random.random()\n",
    "b = a - 1e-20\n",
    "\n",
    "if a == b:\n",
    "    print(\"Whoops\")"
   ]
  },
  {
   "cell_type": "markdown",
   "metadata": {},
   "source": [
    "Nevertheless, this can be bypassed by adapting the learning rate to reduce the effect of numerical imprecision. In practice, you will not even notice this because this is a hyperparameter you will have to tune anyway."
   ]
  },
  {
   "cell_type": "code",
   "execution_count": 14,
   "metadata": {},
   "outputs": [
    {
     "data": {
      "application/vnd.jupyter.widget-view+json": {
       "model_id": "d7932dd003ba4ddfb884956565db37d8",
       "version_major": 2,
       "version_minor": 0
      },
      "text/plain": [
       "HBox(children=(IntProgress(value=0, max=5000), HTML(value='')))"
      ]
     },
     "metadata": {},
     "output_type": "display_data"
    },
    {
     "name": "stdout",
     "output_type": "stream",
     "text": [
      "\n"
     ]
    },
    {
     "data": {
      "image/png": "[encoded data removed]",
      "text/plain": [
       "<Figure size 432x288 with 1 Axes>"
      ]
     },
     "metadata": {
      "needs_background": "light"
     },
     "output_type": "display_data"
    }
   ],
   "source": [
    "# Larger learning rate to address numerical imprecision.\n",
    "learning_rate = 4e-5\n",
    "\n",
    "# Randomly initialize the weights.\n",
    "w_1 = torch.randn(num_in, num_hidden) # input -> hidden\n",
    "w_2 = torch.randn(num_hidden, num_out) # hidden -> output\n",
    "\n",
    "# We would like to compute the gradient with respect to the parameters of the model.\n",
    "w_1.requires_grad = True\n",
    "w_2.requires_grad = True\n",
    "\n",
    "losses = []\n",
    "for iteration in tqdm(training_iterations):\n",
    "    # Fetch the input and corresponding output.\n",
    "    inputs = torch.randn(batch_size, num_in)\n",
    "    targets = torch.randn(batch_size, num_out)\n",
    "    \n",
    "    # Apply the `forward` computation of the neural network (compute the prediction).\n",
    "    h = torch.matmul(inputs, w_1)\n",
    "    activation = torch.clamp(h, min=0)\n",
    "    y_predicted = torch.matmul(activation, w_2)\n",
    "    \n",
    "    # Compute loss.\n",
    "    diff = y_predicted - targets\n",
    "    loss = torch.pow(diff, 2).mean()\n",
    "    losses.append(loss)\n",
    "    \n",
    "    # Apply backpropagation.\n",
    "    loss.backward()\n",
    "    \n",
    "    # Update the weights.\n",
    "    with torch.no_grad():\n",
    "        # Update the weights with the derrived gradients.\n",
    "        w_1 -= learning_rate * w_1.grad\n",
    "        w_2 -= learning_rate * w_2.grad\n",
    "        # Reset the accumulation of gradients.\n",
    "        w_1.grad.zero_()\n",
    "        w_2.grad.zero_()\n",
    "    \n",
    "# Show the loss over the training iterations.\n",
    "plt.plot(training_iterations, losses, color=\"black\")\n",
    "plt.minorticks_on()\n",
    "plt.yscale(\"log\")\n",
    "plt.xlabel(\"Iterations\")\n",
    "plt.ylabel(\"Loss\")\n",
    "plt.grid(True, alpha=.2)\n",
    "plt.show()"
   ]
  },
  {
   "cell_type": "markdown",
   "metadata": {},
   "source": [
    "Voila!"
   ]
  }
 ],
 "metadata": {
  "kernelspec": {
   "display_name": "Python 3",
   "language": "python",
   "name": "python3"
  },
  "language_info": {
   "codemirror_mode": {
    "name": "ipython",
    "version": 3
   },
   "file_extension": ".py",
   "mimetype": "text/x-python",
   "name": "python",
   "nbconvert_exporter": "python",
   "pygments_lexer": "ipython3",
   "version": "3.7.1"
  }
 },
 "nbformat": 4,
 "nbformat_minor": 2
}
